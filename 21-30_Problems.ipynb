{
 "cells": [
  {
   "cell_type": "code",
   "execution_count": 19,
   "metadata": {},
   "outputs": [
    {
     "name": "stdout",
     "output_type": "stream",
     "text": [
      "31626\n"
     ]
    }
   ],
   "source": [
    "answer021 = 0\n",
    "\n",
    "a = {}\n",
    "\n",
    "def amicable(num):\n",
    "    s = 0\n",
    "    for n in range(1, num):\n",
    "        if num % n == 0: s+=n\n",
    "            \n",
    "    return s\n",
    "\n",
    "for n in range(10000):\n",
    "    a[n] = amicable(n)\n",
    "\n",
    "for n in range(10000):\n",
    "    if a[n] in a and a[n] != n and a[a[n]] == n: answer021+= n\n",
    "print answer021"
   ]
  },
  {
   "cell_type": "code",
   "execution_count": null,
   "metadata": {
    "collapsed": true
   },
   "outputs": [],
   "source": []
  }
 ],
 "metadata": {
  "kernelspec": {
   "display_name": "Python 2",
   "language": "python",
   "name": "python2"
  },
  "language_info": {
   "codemirror_mode": {
    "name": "ipython",
    "version": 2
   },
   "file_extension": ".py",
   "mimetype": "text/x-python",
   "name": "python",
   "nbconvert_exporter": "python",
   "pygments_lexer": "ipython2",
   "version": "2.7.14"
  }
 },
 "nbformat": 4,
 "nbformat_minor": 2
}
