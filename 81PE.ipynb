{
 "cells": [
  {
   "cell_type": "code",
   "execution_count": 41,
   "id": "a952abbd",
   "metadata": {},
   "outputs": [
    {
     "name": "stdout",
     "output_type": "stream",
     "text": [
      "427337\n"
     ]
    }
   ],
   "source": [
    "answer_81 = 0\n",
    "f = open(\"files/p081_matrix.txt\", \"r\")\n",
    "nums = f.readlines()\n",
    "nums = [[int(n) for n in num[:-1].split(',')] for num in nums]\n",
    "side = len(nums)\n",
    "\n",
    "diamond = [[] for n in range(len(nums)*2-1)]\n",
    "for y in range(side):\n",
    "    for x in range(y + 1):\n",
    "        diamond[y] += [nums[y-x][x]]\n",
    "\n",
    "for y in range(side-1, 0, -1):\n",
    "    for x in range(y):\n",
    "        diamond[-y] += [nums[side - x - 1][side - y + x]]\n",
    "        \n",
    "for n in range(side-2, -1, -1):\n",
    "    nums[n][side-1] += nums[n+1][side-1]\n",
    "    nums[side-1][n] += nums[side-1][n+1]\n",
    "\n",
    "for y in range(side-2, -1, -1):\n",
    "    for x in range(side-2, -1, -1):\n",
    "        nums[y][x] += min(nums[y+1][x], nums[y][x+1])\n",
    "\n",
    "answer_81 = nums[0][0]\n",
    "print(answer_81)"
   ]
  },
  {
   "cell_type": "code",
   "execution_count": null,
   "id": "a40a43bc",
   "metadata": {},
   "outputs": [],
   "source": []
  }
 ],
 "metadata": {
  "kernelspec": {
   "display_name": "Python 3",
   "language": "python",
   "name": "python3"
  },
  "language_info": {
   "codemirror_mode": {
    "name": "ipython",
    "version": 3
   },
   "file_extension": ".py",
   "mimetype": "text/x-python",
   "name": "python",
   "nbconvert_exporter": "python",
   "pygments_lexer": "ipython3",
   "version": "3.10.0"
  }
 },
 "nbformat": 4,
 "nbformat_minor": 5
}
