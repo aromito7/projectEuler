{
 "cells": [
  {
   "cell_type": "code",
   "execution_count": 18,
   "metadata": {},
   "outputs": [
    {
     "name": "stdout",
     "output_type": "stream",
     "text": [
      "10\n"
     ]
    }
   ],
   "source": [
    "from files.pe import is_prime \n",
    "\n",
    "limit = 50000000\n",
    "nums = set()\n",
    "answer_087 = 0\n",
    "\n",
    "squares = [x**2 for x in range(2, 7073) if is_prime(x)]\n",
    "cubes = [x**3 for x in range(2, 369) if is_prime(x)]\n",
    "fourths = [x**4 for x in range(2, 85) if is_prime(x)]\n",
    "\n",
    "for s in squares:\n",
    "    total = s\n",
    "    for c in cubes:\n",
    "        total = s + c\n",
    "        if total >= limit:\n",
    "            break\n",
    "\n",
    "        for f in fourths:\n",
    "            total = s + c + f\n",
    "            if total < limit:\n",
    "                nums.add(total)\n",
    "            else:\n",
    "                break\n",
    "answer_087 = len(nums)\n",
    "print(answer_087)"
   ]
  },
  {
   "cell_type": "code",
   "execution_count": 17,
   "metadata": {},
   "outputs": [
    {
     "name": "stdout",
     "output_type": "stream",
     "text": [
      "<class 'set'>\n"
     ]
    }
   ],
   "source": []
  },
  {
   "cell_type": "code",
   "execution_count": null,
   "metadata": {},
   "outputs": [],
   "source": []
  }
 ],
 "metadata": {
  "interpreter": {
   "hash": "4b62e90adbaf27cd6148d32c992b130a28eb9f6982d6ddf66687243be0d0ddcb"
  },
  "kernelspec": {
   "display_name": "Python 3.9.4 64-bit ('3.9.4')",
   "language": "python",
   "name": "python3"
  },
  "language_info": {
   "codemirror_mode": {
    "name": "ipython",
    "version": 3
   },
   "file_extension": ".py",
   "mimetype": "text/x-python",
   "name": "python",
   "nbconvert_exporter": "python",
   "pygments_lexer": "ipython3",
   "version": "3.9.4"
  },
  "orig_nbformat": 4
 },
 "nbformat": 4,
 "nbformat_minor": 2
}
