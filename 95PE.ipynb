{
 "cells": [
  {
   "cell_type": "code",
   "execution_count": 26,
   "metadata": {},
   "outputs": [],
   "source": [
    "answer_095 = []\n",
    "limit = 10**6 + 1\n",
    "\n",
    "def getPrimes(limit):\n",
    "    primes = [i for i in range(limit)]\n",
    "\n",
    "    primes[:2] = [0,0]\n",
    "\n",
    "    for p in primes:\n",
    "        if p == 0 or p > limit **.5: continue\n",
    "        primes[p**2::p] = [0] * (((limit + p - 1)//p)-2)\n",
    "\n",
    "\n",
    "    return [p for p in primes if p != 0]\n",
    "\n",
    "def getLargestPower(num, factor):\n",
    "    power = 0\n",
    "\n",
    "    while num % (factor ** (power + 1)) == 0:\n",
    "        power += 1\n",
    "\n",
    "    return power\n",
    "\n",
    "def sigma(num):\n",
    "    sum = 1\n",
    "    for prime in primes:\n",
    "        if prime > num: return sum - num\n",
    "\n",
    "        power = getLargestPower(num, prime)\n",
    "        temp = (prime ** (power + 1) - 1) // (prime - 1)\n",
    "\n",
    "        sum *= temp\n",
    "        \n",
    "\n",
    "    return sum - num\n",
    "\n",
    "def getSigmas1(limit):\n",
    "\n",
    "    sigmas = [-1 * i + 1 for i in range(limit + 1)]\n",
    "\n",
    "    for i in range(2, limit + 1):\n",
    "        #print(i, limit, len(sigmas[::i]), len([i] * ((limit + i)//i)))\n",
    "        sigmas[::i] = [sigmas[::i][n] + i for n in range((limit + i)//i)]\n",
    "    sigmas[0] = 0\n",
    "    return sigmas\n",
    "\n",
    "\n",
    "def getFactors(limit):\n",
    "    primes = getPrimes(limit)\n",
    "\n",
    "    sigmas = [{} for i in range(limit)]\n",
    "\n",
    "    for prime in primes:\n",
    "        power = 1\n",
    "\n",
    "        while prime ** power <= limit:\n",
    "            for sigma in sigmas[::prime ** power]:\n",
    "                if prime not in sigma: sigma[prime] = 0\n",
    "\n",
    "                sigma[prime] += 1\n",
    "\n",
    "            power += 1\n",
    "\n",
    "    \n",
    "    return sigmas\n",
    "\n",
    "def increaseSigmas(prime, power, limit, sigmas):\n",
    "    step = prime**power\n",
    "    bound = prime**(power + 1)\n",
    "\n",
    "    if step > limit: return\n",
    "    #print(prime, power, step, limit)\n",
    "    for i in range(step, bound, step):\n",
    "        current = i\n",
    "        while current < limit:\n",
    "            #print(current, step)\n",
    "            sigmas[current] *= (bound - 1)//(prime - 1)\n",
    "            current += bound\n",
    "\n",
    "    increaseSigmas(prime, power + 1, limit, sigmas)\n",
    "\n",
    "#sigmas = [sigma(i) for i in range(limit)]\n",
    "\n",
    "sigmas = [1 for i in range(limit)]\n",
    "primes = getPrimes(limit)\n",
    "\n",
    "#print(len(primes))\n",
    "\n",
    "for prime in primes:\n",
    "    increaseSigmas(prime, 1, limit, sigmas)\n",
    "        \n",
    "                #(prime ** (power + 1) - 1)//(prime - 1)\n",
    "        #sigmas[::prime] = temp\n",
    "\n",
    "\n",
    "\n",
    "\n",
    "for s, sigma in enumerate(sigmas):\n",
    "    sigmas[s] -= s\n",
    "\n"
   ]
  },
  {
   "cell_type": "code",
   "execution_count": 30,
   "metadata": {},
   "outputs": [
    {
     "data": {
      "text/plain": [
       "220"
      ]
     },
     "execution_count": 30,
     "metadata": {},
     "output_type": "execute_result"
    }
   ],
   "source": [
    "result = [0 for i in range(limit)]\n",
    "\n",
    "for num in range(2, limit):\n",
    "    chain = []\n",
    "    link = num\n",
    "\n",
    "    while link not in chain:\n",
    "        chain += [link]\n",
    "\n"
   ]
  },
  {
   "cell_type": "code",
   "execution_count": 32,
   "metadata": {},
   "outputs": [
    {
     "data": {
      "text/plain": [
       "[2, 2]"
      ]
     },
     "execution_count": 32,
     "metadata": {},
     "output_type": "execute_result"
    }
   ],
   "source": [
    "[2] + [2]"
   ]
  },
  {
   "cell_type": "code",
   "execution_count": null,
   "metadata": {},
   "outputs": [],
   "source": []
  }
 ],
 "metadata": {
  "kernelspec": {
   "display_name": "Python 3.9.4 64-bit ('3.9.4')",
   "language": "python",
   "name": "python3"
  },
  "language_info": {
   "codemirror_mode": {
    "name": "ipython",
    "version": 3
   },
   "file_extension": ".py",
   "mimetype": "text/x-python",
   "name": "python",
   "nbconvert_exporter": "python",
   "pygments_lexer": "ipython3",
   "version": "3.9.4"
  },
  "orig_nbformat": 4,
  "vscode": {
   "interpreter": {
    "hash": "4b62e90adbaf27cd6148d32c992b130a28eb9f6982d6ddf66687243be0d0ddcb"
   }
  }
 },
 "nbformat": 4,
 "nbformat_minor": 2
}
