{
 "cells": [
  {
   "cell_type": "code",
   "execution_count": 36,
   "metadata": {},
   "outputs": [
    {
     "name": "stdout",
     "output_type": "stream",
     "text": [
      "[['0' '0' '3' '0' '2' '0' '6' '0' '0']\n",
      " ['9' '0' '0' '3' '0' '5' '0' '0' '1']\n",
      " ['0' '0' '1' '8' '0' '6' '4' '0' '0']\n",
      " ['0' '0' '8' '1' '0' '2' '9' '0' '0']\n",
      " ['7' '0' '0' '0' '0' '0' '0' '0' '8']\n",
      " ['0' '0' '6' '7' '0' '8' '2' '0' '0']\n",
      " ['0' '0' '2' '6' '0' '9' '5' '0' '0']\n",
      " ['8' '0' '0' '2' '0' '3' '0' '0' '9']\n",
      " ['0' '0' '5' '0' '1' '0' '3' '0' '0']]\n"
     ]
    },
    {
     "ename": "UFuncTypeError",
     "evalue": "ufunc 'add' did not contain a loop with signature matching types (dtype('int64'), dtype('<U1')) -> None",
     "output_type": "error",
     "traceback": [
      "\u001b[0;31m---------------------------------------------------------------------------\u001b[0m",
      "\u001b[0;31mUFuncTypeError\u001b[0m                            Traceback (most recent call last)",
      "\u001b[1;32m/mnt/c/users/aromi/PycharmProjects/projectEuler/96PE.ipynb Cell 1\u001b[0m in \u001b[0;36m<cell line: 36>\u001b[0;34m()\u001b[0m\n\u001b[1;32m     <a href='vscode-notebook-cell://wsl%2Bubuntu/mnt/c/users/aromi/PycharmProjects/projectEuler/96PE.ipynb#ch0000000vscode-remote?line=35'>36</a>\u001b[0m \u001b[39mfor\u001b[39;00m grid \u001b[39min\u001b[39;00m grids:\n\u001b[1;32m     <a href='vscode-notebook-cell://wsl%2Bubuntu/mnt/c/users/aromi/PycharmProjects/projectEuler/96PE.ipynb#ch0000000vscode-remote?line=37'>38</a>\u001b[0m     \u001b[39mprint\u001b[39m(grid)\n\u001b[0;32m---> <a href='vscode-notebook-cell://wsl%2Bubuntu/mnt/c/users/aromi/PycharmProjects/projectEuler/96PE.ipynb#ch0000000vscode-remote?line=38'>39</a>\u001b[0m     \u001b[39mprint\u001b[39m(\u001b[39msum\u001b[39;49m(grid))\n\u001b[1;32m     <a href='vscode-notebook-cell://wsl%2Bubuntu/mnt/c/users/aromi/PycharmProjects/projectEuler/96PE.ipynb#ch0000000vscode-remote?line=39'>40</a>\u001b[0m     \u001b[39mprint\u001b[39m()\n\u001b[1;32m     <a href='vscode-notebook-cell://wsl%2Bubuntu/mnt/c/users/aromi/PycharmProjects/projectEuler/96PE.ipynb#ch0000000vscode-remote?line=40'>41</a>\u001b[0m     validGrid(grid)\n",
      "\u001b[0;31mUFuncTypeError\u001b[0m: ufunc 'add' did not contain a loop with signature matching types (dtype('int64'), dtype('<U1')) -> None"
     ]
    }
   ],
   "source": [
    "import numpy as np\n",
    "f = open(\"files/p096_sudoku.txt\", \"r\")\n",
    "lines = f.readlines()\n",
    "lines = [str(line).replace(\"\\n\", \"\") for line in lines]\n",
    "\n",
    "grids = []\n",
    "\n",
    "while len(lines) > 0:\n",
    "    grids += [lines[1:10]]\n",
    "    lines = lines[10:]\n",
    "\n",
    "for grid in grids:\n",
    "    for i, line in enumerate(grid):\n",
    "        grid[i] = list(line)\n",
    "\n",
    "grids = [np.array(grid) for grid in grids]\n",
    "\n",
    "grids = [grids[0]]  #delete this once it's time to test the code on all of them\n",
    "\n",
    "def validGrid(grid):\n",
    "    checks = []\n",
    "    for i in range(9):\n",
    "        checks += [grid[i, :]]\n",
    "\n",
    "    for i in range(9):\n",
    "        checks += [grid[:, i]]\n",
    "\n",
    "    for r in range(0, 9, 3):\n",
    "        for c in range(0, 9, 3):\n",
    "            checks += [grid[r: r + 3, c: c + 3].flatten()]\n",
    "\n",
    "\n",
    "    \n",
    "    return np.array(checks)\n",
    "\n",
    "for grid in grids:\n",
    "\n",
    "    print(grid)\n",
    "    print()\n",
    "    validGrid(grid)"
   ]
  },
  {
   "cell_type": "code",
   "execution_count": null,
   "metadata": {},
   "outputs": [],
   "source": []
  }
 ],
 "metadata": {
  "kernelspec": {
   "display_name": "Python 3.9.4 64-bit ('3.9.4')",
   "language": "python",
   "name": "python3"
  },
  "language_info": {
   "codemirror_mode": {
    "name": "ipython",
    "version": 3
   },
   "file_extension": ".py",
   "mimetype": "text/x-python",
   "name": "python",
   "nbconvert_exporter": "python",
   "pygments_lexer": "ipython3",
   "version": "3.9.4"
  },
  "orig_nbformat": 4,
  "vscode": {
   "interpreter": {
    "hash": "4b62e90adbaf27cd6148d32c992b130a28eb9f6982d6ddf66687243be0d0ddcb"
   }
  }
 },
 "nbformat": 4,
 "nbformat_minor": 2
}
