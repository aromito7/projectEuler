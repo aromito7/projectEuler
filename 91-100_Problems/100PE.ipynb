{
 "cells": [
  {
   "cell_type": "code",
   "execution_count": 16,
   "id": "610e2ba3",
   "metadata": {},
   "outputs": [
    {
     "name": "stdout",
     "output_type": "stream",
     "text": [
      "5 7 3\n",
      "12 17 7\n",
      "29 41 17\n",
      "70 99 41\n",
      "169 239 99\n",
      "408 577 239\n",
      "985 1393 577\n",
      "2378 3363 1393\n",
      "5741 8119 3363\n",
      "13860 19601 8119\n",
      "33461 47321 19601\n",
      "80782 114243 47321\n",
      "195025 275807 114243\n",
      "470832 665857 275807\n",
      "1136689 1607521 665857\n",
      "4411375203410\n"
     ]
    }
   ],
   "source": [
    "num = 5\n",
    "den = 7\n",
    "\n",
    "diff = num * 2 - den\n",
    "\n",
    "def test(num, den, diff):\n",
    "    x = num * diff\n",
    "    y = den * diff\n",
    "    \n",
    "    return x * (x - 1) /(y * (y - 1))\n",
    "\n",
    "\n",
    "\n",
    "while num * diff < 10**12:\n",
    "    print(num, den, diff)\n",
    "\n",
    "    \n",
    "    \n",
    "    den += 2 * num\n",
    "    num = den - num\n",
    "    diff = num * 2 - den\n",
    "    \n",
    "    \n",
    "print(num * diff)\n",
    "\n"
   ]
  },
  {
   "cell_type": "code",
   "execution_count": null,
   "id": "46cb0c37",
   "metadata": {},
   "outputs": [],
   "source": []
  }
 ],
 "metadata": {
  "kernelspec": {
   "display_name": "Python 3 (ipykernel)",
   "language": "python",
   "name": "python3"
  },
  "language_info": {
   "codemirror_mode": {
    "name": "ipython",
    "version": 3
   },
   "file_extension": ".py",
   "mimetype": "text/x-python",
   "name": "python",
   "nbconvert_exporter": "python",
   "pygments_lexer": "ipython3",
   "version": "3.9.4"
  }
 },
 "nbformat": 4,
 "nbformat_minor": 5
}
