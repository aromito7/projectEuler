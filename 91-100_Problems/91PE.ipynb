{
 "cells": [
  {
   "cell_type": "code",
   "execution_count": 53,
   "metadata": {},
   "outputs": [
    {
     "name": "stdout",
     "output_type": "stream",
     "text": [
      "18134\n"
     ]
    }
   ],
   "source": [
    "from itertools import product\n",
    "from itertools import combinations\n",
    "\n",
    "answer_91 = 0\n",
    "limit = 50\n",
    "axis = range(limit + 1)\n",
    "point1 = (0, 0)\n",
    "\n",
    "\n",
    "grid = product(axis, axis)\n",
    "\n",
    "def distance(p1, p2):\n",
    "    a = p1[0] - p2[0]\n",
    "    b = p1[1] - p2[1]\n",
    "\n",
    "    c = (a**2 + b**2)\n",
    "\n",
    "    return c\n",
    "2.8284271247461903\n",
    "\n",
    "for point2 in product(axis, axis):\n",
    "    for point3 in product(axis, axis):\n",
    "        #if len(set([point1, point2, point3])) < 3:\n",
    "            #continue\n",
    "        \n",
    "        #print(point1, point2, point3)\n",
    "        sides = []\n",
    "        for p1, p2 in combinations([point1, point2, point3], 2):\n",
    "            sides += [distance(p1, p2)]\n",
    "        sides = sorted(sides)\n",
    "        #print(sides)\n",
    "        if sides[0]  + sides[1]  == sides[2] :\n",
    "            answer_91 += 1\n",
    "            #print(point1, point2, point3)\n",
    "        \n",
    "print(answer_91 // 2)"
   ]
  },
  {
   "cell_type": "code",
   "execution_count": 47,
   "metadata": {},
   "outputs": [
    {
     "name": "stdout",
     "output_type": "stream",
     "text": [
      "False\n"
     ]
    }
   ],
   "source": []
  },
  {
   "cell_type": "code",
   "execution_count": null,
   "metadata": {},
   "outputs": [],
   "source": []
  }
 ],
 "metadata": {
  "kernelspec": {
   "display_name": "Python 3.9.4 64-bit ('3.9.4')",
   "language": "python",
   "name": "python3"
  },
  "language_info": {
   "codemirror_mode": {
    "name": "ipython",
    "version": 3
   },
   "file_extension": ".py",
   "mimetype": "text/x-python",
   "name": "python",
   "nbconvert_exporter": "python",
   "pygments_lexer": "ipython3",
   "version": "3.9.4"
  },
  "orig_nbformat": 4,
  "vscode": {
   "interpreter": {
    "hash": "4b62e90adbaf27cd6148d32c992b130a28eb9f6982d6ddf66687243be0d0ddcb"
   }
  }
 },
 "nbformat": 4,
 "nbformat_minor": 2
}
