{
 "cells": [
  {
   "cell_type": "code",
   "execution_count": 17,
   "id": "4571628c",
   "metadata": {},
   "outputs": [
    {
     "data": {
      "text/plain": [
       "8739992577"
      ]
     },
     "execution_count": 17,
     "metadata": {},
     "output_type": "execute_result"
    }
   ],
   "source": [
    "output = 2\n",
    "\n",
    "limit = 7830457\n",
    "power = 1\n",
    "powers = {1 : 2}\n",
    "\n",
    "\n",
    "while power < limit:\n",
    "    output **= 2\n",
    "    output %= 10**10\n",
    "    power *= 2\n",
    "    powers[power] = output\n",
    "    \n",
    "\n",
    "output = 2\n",
    "for p in list(powers.keys())[::-1]:\n",
    "    if p < limit:\n",
    "        limit -= p\n",
    "        output *= powers[p]\n",
    "        output %= 10**10\n",
    "\n",
    "output *= 28433\n",
    "output += 1\n",
    "output %= 10**10\n",
    "        \n",
    "output"
   ]
  },
  {
   "cell_type": "code",
   "execution_count": null,
   "id": "caacaa3b",
   "metadata": {},
   "outputs": [],
   "source": []
  }
 ],
 "metadata": {
  "kernelspec": {
   "display_name": "Python 3 (ipykernel)",
   "language": "python",
   "name": "python3"
  },
  "language_info": {
   "codemirror_mode": {
    "name": "ipython",
    "version": 3
   },
   "file_extension": ".py",
   "mimetype": "text/x-python",
   "name": "python",
   "nbconvert_exporter": "python",
   "pygments_lexer": "ipython3",
   "version": "3.9.4"
  }
 },
 "nbformat": 4,
 "nbformat_minor": 5
}
