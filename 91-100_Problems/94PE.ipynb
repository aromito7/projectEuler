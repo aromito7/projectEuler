{
 "cells": [
  {
   "cell_type": "code",
   "execution_count": 21,
   "metadata": {},
   "outputs": [
    {
     "name": "stdout",
     "output_type": "stream",
     "text": [
      "3 4 5 True 16\n",
      "15 8 17 True 50\n",
      "33 56 65 True 196\n",
      "209 120 241 True 722\n",
      "451 780 901 True 2704\n",
      "2911 1680 3361 True 10082\n",
      "6273 10864 12545 True 37636\n",
      "40545 23408 46817 True 140450\n",
      "87363 151316 174725 True 524176\n",
      "564719 326040 652081 True 1956242\n",
      "1216801 2107560 2433601 True 7300804\n",
      "7865521 4541160 9082321 True 27246962\n",
      "16947843 29354524 33895685 True 101687056\n",
      "109552575 63250208 126500417 True 379501250\n",
      "236052993 408855776 472105985 False 1416317956\n",
      "1525870529 880961760 1761923521 False 5285770562\n",
      "518408346\n"
     ]
    }
   ],
   "source": [
    "answer_94 = 0\n",
    "\n",
    "def is_square(n):\n",
    "    root = int(n**.5)\n",
    "    return root**2 == n\n",
    "\n",
    "def log(m, n):\n",
    "    a = m**2 - n**2\n",
    "    b = 2 * m * n\n",
    "    c = m**2 + n**2\n",
    "\n",
    "    valid = a + b + c <= 10**9\n",
    "    perimeter = 2 * (min(a,b) + c)\n",
    "    print(a, b, c, a + b + c <= 10**9, perimeter)\n",
    "\n",
    "    if valid: return perimeter\n",
    "    \n",
    "    return 0\n",
    "\n",
    "for n in range(1, 22360):\n",
    "    temp = 3 * (n**2) + 1\n",
    "    if is_square(int(temp)):\n",
    "        m1 = int(temp**.5)\n",
    "        m2 = int(temp**.5 + 2 * n)\n",
    "        answer_94 += log(m1, n)\n",
    "        answer_94 += log(m2, n)\n",
    "        #print(m1**2 - n**2, m1**2 + n**2)\n",
    "        #print(2 * m2 * n, m2**2 - n**2, m2**2 + n**2)\n",
    "    \n",
    "\n",
    "print(answer_94)"
   ]
  },
  {
   "cell_type": "code",
   "execution_count": 1,
   "metadata": {},
   "outputs": [
    {
     "data": {
      "text/plain": [
       "22360"
      ]
     },
     "execution_count": 1,
     "metadata": {},
     "output_type": "execute_result"
    }
   ],
   "source": []
  },
  {
   "cell_type": "code",
   "execution_count": null,
   "metadata": {},
   "outputs": [],
   "source": []
  }
 ],
 "metadata": {
  "kernelspec": {
   "display_name": "Python 3.9.4 64-bit ('3.9.4')",
   "language": "python",
   "name": "python3"
  },
  "language_info": {
   "codemirror_mode": {
    "name": "ipython",
    "version": 3
   },
   "file_extension": ".py",
   "mimetype": "text/x-python",
   "name": "python",
   "nbconvert_exporter": "python",
   "pygments_lexer": "ipython3",
   "version": "3.9.4"
  },
  "orig_nbformat": 4,
  "vscode": {
   "interpreter": {
    "hash": "4b62e90adbaf27cd6148d32c992b130a28eb9f6982d6ddf66687243be0d0ddcb"
   }
  }
 },
 "nbformat": 4,
 "nbformat_minor": 2
}
