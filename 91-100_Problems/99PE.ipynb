{
 "cells": [
  {
   "cell_type": "code",
   "execution_count": 29,
   "id": "11409beb",
   "metadata": {},
   "outputs": [
    {
     "name": "stdout",
     "output_type": "stream",
     "text": [
      "709\n"
     ]
    }
   ],
   "source": [
    "import math\n",
    "with open('./../files/p099_base_exp.txt') as f:\n",
    "    nums = []\n",
    "    for line in f.readlines():\n",
    "        base, power = line.split('\\n')[0].split(',')\n",
    "        nums += [[int(base), int(power)]]\n",
    "        \n",
    "output = [math.log(nums[0][0]) * nums[0][1], 1]\n",
    "for i, num in enumerate(nums[1:]):\n",
    "    ln = math.log(num[0])\n",
    "    val = ln * num[1]\n",
    "    if val > output[0]:\n",
    "        output = val, i + 2\n",
    "        \n",
    "print(output[1])"
   ]
  },
  {
   "cell_type": "code",
   "execution_count": null,
   "id": "3fe6bb29",
   "metadata": {},
   "outputs": [],
   "source": []
  }
 ],
 "metadata": {
  "kernelspec": {
   "display_name": "Python 3 (ipykernel)",
   "language": "python",
   "name": "python3"
  },
  "language_info": {
   "codemirror_mode": {
    "name": "ipython",
    "version": 3
   },
   "file_extension": ".py",
   "mimetype": "text/x-python",
   "name": "python",
   "nbconvert_exporter": "python",
   "pygments_lexer": "ipython3",
   "version": "3.9.4"
  }
 },
 "nbformat": 4,
 "nbformat_minor": 5
}
