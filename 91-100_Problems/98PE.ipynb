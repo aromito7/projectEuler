{
 "cells": [
  {
   "cell_type": "code",
   "execution_count": 74,
   "id": "1478d2c9",
   "metadata": {},
   "outputs": [
    {
     "name": "stdout",
     "output_type": "stream",
     "text": [
      "['102495376', '104325796', '217356049', '235714609', '297631504', '403567921', '459630721', '491730625', '504271936', '534210769', '694375201', '793605241']\n",
      "['102576384', '105637284', '158306724', '176305284', '180472356', '183467025', '187635204', '208571364', '218034756', '284057316', '307265841', '316057284', '430728516', '472801536', '475283601', '560837124', '570684321', '576432081', '734681025', '783104256', '825470361', '853107264']\n",
      "['102738496', '172843609', '176039824', '273869401', '420783169', '478603129', '639027841', '683927104', '740329681', '816930724']\n",
      "['139854276', '152843769', '157326849', '215384976', '245893761', '254817369', '326597184', '361874529', '375468129', '382945761', '385297641', '412739856', '523814769', '529874361', '537219684', '549386721', '587432169', '589324176', '597362481', '615387249', '627953481', '653927184', '672935481', '697435281', '714653289', '735982641', '743816529', '842973156', '847159236', '923187456']\n",
      "['158407396', '178035649', '198753604', '317409856', '457831609', '479653801', '563017984', '798401536', '803495716']\n"
     ]
    }
   ],
   "source": [
    "def groups(array):\n",
    "    dic = {}\n",
    "    for a in array:\n",
    "        sorta = ''.join(sorted(a))\n",
    "        if sorta not in dic:\n",
    "            dic[sorta] = []\n",
    "        dic[sorta] += [a]\n",
    "    \n",
    "\n",
    "    pairs = [dic[d] for d in dic if len(dic[d]) > 1]\n",
    "    return pairs\n",
    "\n",
    "words = []\n",
    "wDict = {}\n",
    "with open(\"../files/p098_words.txt\") as f:\n",
    "    for line in f:\n",
    "        for word in line.split(\",\"):\n",
    "            words += [word[1: -1]]\n",
    "\n",
    "pairs = groups(words)\n",
    "\n",
    "\n",
    "pairs = sorted(pairs, key = lambda x : -len(x[0]))\n",
    "\n",
    "\n",
    "    \n",
    "squares = []\n",
    "for i in range(1, 10**5):\n",
    "    square = i ** 2\n",
    "    if square > 10**9: break\n",
    "    squares += [square]\n",
    "    \n",
    "squares = [str(square) for square in squares]\n",
    "squares = [square for square in squares if len(set(square)) == len(square)]\n",
    "squares = groups(squares)\n",
    "square_dict = {i : [] for i in range(1,10)}\n",
    "for square in squares:\n",
    "    square_dict[len(square[0])] += [square]\n",
    "\n",
    "for square in square_dict[9]:\n",
    "    print(square)\n"
   ]
  },
  {
   "cell_type": "code",
   "execution_count": 68,
   "id": "de1ba998",
   "metadata": {},
   "outputs": [
    {
     "name": "stdout",
     "output_type": "stream",
     "text": [
      "['INTRODUCE', 'REDUCTION']\n"
     ]
    }
   ],
   "source": [
    "# for pair in pairs[0:1]:\n",
    "#     dic = {}\n",
    "#     for letter in pair[0]\n",
    "#     dic[letter]\n",
    "    \n",
    "    "
   ]
  },
  {
   "cell_type": "code",
   "execution_count": 71,
   "id": "34d64b9b",
   "metadata": {},
   "outputs": [
    {
     "data": {
      "text/plain": [
       "[['INTRODUCE', 'REDUCTION'],\n",
       " ['CREATION', 'REACTION'],\n",
       " ['CENTRE', 'RECENT'],\n",
       " ['COURSE', 'SOURCE'],\n",
       " ['CREDIT', 'DIRECT'],\n",
       " ['DANGER', 'GARDEN'],\n",
       " ['EXCEPT', 'EXPECT'],\n",
       " ['FORMER', 'REFORM'],\n",
       " ['IGNORE', 'REGION'],\n",
       " ['ARISE', 'RAISE'],\n",
       " ['BOARD', 'BROAD'],\n",
       " ['EARTH', 'HEART'],\n",
       " ['LEAST', 'STEAL'],\n",
       " ['NIGHT', 'THING'],\n",
       " ['PHASE', 'SHAPE'],\n",
       " ['QUIET', 'QUITE'],\n",
       " ['SHEET', 'THESE'],\n",
       " ['SHOUT', 'SOUTH'],\n",
       " ['THROW', 'WORTH'],\n",
       " ['CARE', 'RACE'],\n",
       " ['DEAL', 'LEAD'],\n",
       " ['EARN', 'NEAR'],\n",
       " ['EAST', 'SEAT'],\n",
       " ['FILE', 'LIFE'],\n",
       " ['FORM', 'FROM'],\n",
       " ['HATE', 'HEAT'],\n",
       " ['ITEM', 'TIME'],\n",
       " ['MALE', 'MEAL'],\n",
       " ['MEAN', 'NAME'],\n",
       " ['NOTE', 'TONE'],\n",
       " ['POST', 'SPOT', 'STOP'],\n",
       " ['RATE', 'TEAR'],\n",
       " ['SHUT', 'THUS'],\n",
       " ['SIGN', 'SING'],\n",
       " ['SURE', 'USER'],\n",
       " ['ACT', 'CAT'],\n",
       " ['DOG', 'GOD'],\n",
       " ['EAT', 'TEA'],\n",
       " ['HOW', 'WHO'],\n",
       " ['ITS', 'SIT'],\n",
       " ['NOW', 'OWN'],\n",
       " ['NO', 'ON']]"
      ]
     },
     "execution_count": 71,
     "metadata": {},
     "output_type": "execute_result"
    }
   ],
   "source": [
    "pairs"
   ]
  },
  {
   "cell_type": "code",
   "execution_count": null,
   "id": "578c322e",
   "metadata": {},
   "outputs": [],
   "source": []
  }
 ],
 "metadata": {
  "kernelspec": {
   "display_name": "Python 3 (ipykernel)",
   "language": "python",
   "name": "python3"
  },
  "language_info": {
   "codemirror_mode": {
    "name": "ipython",
    "version": 3
   },
   "file_extension": ".py",
   "mimetype": "text/x-python",
   "name": "python",
   "nbconvert_exporter": "python",
   "pygments_lexer": "ipython3",
   "version": "3.9.4"
  }
 },
 "nbformat": 4,
 "nbformat_minor": 5
}
