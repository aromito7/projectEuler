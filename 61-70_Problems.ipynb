{
 "cells": [
  {
   "cell_type": "code",
   "execution_count": 10,
   "metadata": {},
   "outputs": [],
   "source": [
    "answer066 = 0\n",
    "\n",
    "x = y = [i**2 for i in range(1, 1000000)]\n",
    "D = [i for i in range (1001)]\n",
    "\n"
   ]
  },
  {
   "cell_type": "code",
   "execution_count": 8,
   "metadata": {},
   "outputs": [
    {
     "data": {
      "text/plain": [
       "[[2, 1], [5, 1], [7, 1]]"
      ]
     },
     "execution_count": 8,
     "metadata": {},
     "output_type": "execute_result"
    }
   ],
   "source": [
    "answer066 = 0\n",
    "length = 20\n",
    "\n",
    "def isSquare(n):\n",
    "    if (n**.5).is_integer() and n>0: return True\n",
    "\n",
    "    else: return False\n",
    "    \n",
    "def factorize(n):\n",
    "    factors = []\n",
    "    i = 2\n",
    "    while i < ((int(n)+1)**.5)+1:\n",
    "        if n%i==0:\n",
    "            factor = [i, 0]\n",
    "            while n%i==0 and n > 0:\n",
    "                factor[1]+=1\n",
    "                n/=i\n",
    "            factors.append(factor)\n",
    "\n",
    "        i+=1\n",
    "    if n > 1: factors.append([int(n),1])\n",
    "    return factors\n",
    "\n",
    "def dioph(n):\n",
    "    factors = factorize(9800)\n",
    "    d = 1\n",
    "    for factor in factors:\n",
    "        if factor[1]%2==1:\n",
    "            d*=factor[0]\n",
    "            factor[1]-=1\n",
    "        factor[1] = int(factor[1]/2)\n",
    "    D = [d, 1]\n",
    "    squares = factors\n",
    "    \n",
    "    newSquares = []\n",
    "    for square in squares:\n",
    "        for s in range(0, square[1]+1):\n",
    "            x = 1\n",
    "            \n",
    "    \n",
    "    return factors\n",
    "dioph(9800)"
   ]
  },
  {
   "cell_type": "code",
   "execution_count": 10,
   "metadata": {},
   "outputs": [],
   "source": [
    "\n",
    "def isSquare(n):\n",
    "    if (n**.5).is_integer() and n>0: return True\n",
    "    else: return False\n",
    "    "
   ]
  },
  {
   "cell_type": "code",
   "execution_count": 23,
   "metadata": {},
   "outputs": [
    {
     "data": {
      "text/plain": [
       "(0.029437251522857366, 0.058823529411764705)"
      ]
     },
     "execution_count": 23,
     "metadata": {},
     "output_type": "execute_result"
    }
   ],
   "source": [
    "import math\n",
    "x = 6*(8**.5)\n",
    "a = math.ceil(x)\n",
    "(a-x, 1/a)\n",
    "\n"
   ]
  },
  {
   "cell_type": "code",
   "execution_count": null,
   "metadata": {},
   "outputs": [],
   "source": [
    "import math\n",
    "maximum = (1,1)\n",
    "for n in range(2, 100):\n",
    "    done = False\n",
    "    i = 0\n",
    "    while not done:\n",
    "        i+=1\n",
    "        x = i*(n**.5)\n",
    "        a = math.ceil(x)\n",
    "        done = a-x <= 1/a\n",
    "    \n",
    "    if i > maximum[1]: maximum = (n, i)\n",
    "    #print(n, i)\n",
    "    \n",
    "print(maximum)"
   ]
  },
  {
   "cell_type": "code",
   "execution_count": 3,
   "metadata": {},
   "outputs": [
    {
     "data": {
      "text/plain": [
       "2.8284271247461903"
      ]
     },
     "execution_count": 3,
     "metadata": {},
     "output_type": "execute_result"
    }
   ],
   "source": []
  },
  {
   "cell_type": "code",
   "execution_count": 62,
   "metadata": {},
   "outputs": [
    {
     "ename": "TypeError",
     "evalue": "'generator' object is not callable",
     "output_type": "error",
     "traceback": [
      "\u001b[1;31m---------------------------------------------------------------------------\u001b[0m",
      "\u001b[1;31mTypeError\u001b[0m                                 Traceback (most recent call last)",
      "\u001b[1;32m~\\AppData\\Local\\Temp/ipykernel_8468/518550501.py\u001b[0m in \u001b[0;36m<module>\u001b[1;34m\u001b[0m\n\u001b[0;32m     30\u001b[0m \u001b[0mcount\u001b[0m \u001b[1;33m=\u001b[0m \u001b[1;36m0\u001b[0m\u001b[1;33m\u001b[0m\u001b[1;33m\u001b[0m\u001b[0m\n\u001b[0;32m     31\u001b[0m \u001b[1;32mwhile\u001b[0m \u001b[0msolutions\u001b[0m\u001b[1;33m.\u001b[0m\u001b[0mcount\u001b[0m\u001b[1;33m(\u001b[0m\u001b[0mfloat\u001b[0m\u001b[1;33m(\u001b[0m\u001b[1;34m'inf'\u001b[0m\u001b[1;33m)\u001b[0m\u001b[1;33m)\u001b[0m \u001b[1;33m>\u001b[0m \u001b[1;36m2\u001b[0m\u001b[1;33m:\u001b[0m\u001b[1;33m\u001b[0m\u001b[1;33m\u001b[0m\u001b[0m\n\u001b[1;32m---> 32\u001b[1;33m     \u001b[0mtemp\u001b[0m \u001b[1;33m=\u001b[0m \u001b[0msquares_minus\u001b[0m\u001b[1;33m(\u001b[0m\u001b[0mcount\u001b[0m\u001b[1;33m)\u001b[0m\u001b[1;33m\u001b[0m\u001b[1;33m\u001b[0m\u001b[0m\n\u001b[0m\u001b[0;32m     33\u001b[0m     \u001b[0mprint\u001b[0m\u001b[1;33m(\u001b[0m\u001b[0mtemp\u001b[0m\u001b[1;33m)\u001b[0m\u001b[1;33m\u001b[0m\u001b[1;33m\u001b[0m\u001b[0m\n\u001b[0;32m     34\u001b[0m     \u001b[0mfactors\u001b[0m \u001b[1;33m=\u001b[0m \u001b[0mdioph\u001b[0m\u001b[1;33m(\u001b[0m\u001b[0mtemp\u001b[0m\u001b[1;33m)\u001b[0m\u001b[1;33m\u001b[0m\u001b[1;33m\u001b[0m\u001b[0m\n",
      "\u001b[1;31mTypeError\u001b[0m: 'generator' object is not callable"
     ]
    }
   ],
   "source": [
    "import itertools\n",
    "\n",
    "length = 10\n",
    "natural_numbers = itertools.count(1)\n",
    "squares_minus = (s**2 - 1 for s in natural_numbers)\n",
    "solutions = [float('inf') for i in range(length+1)]\n",
    "\n",
    "\n",
    "def dioph(n):\n",
    "    # output = [[D, y**2]]\n",
    "    output = [[1, 1]]\n",
    "    i = 2\n",
    "    \n",
    "    while i <= n:\n",
    "        if n%i == 0:\n",
    "            power = 0\n",
    "            while n%(i**(power+1))==0: \n",
    "                power+=1\n",
    "            n/=(i**power)\n",
    "            \n",
    "            if power%2 == 1:\n",
    "                output = [[o[0]*i, o[1]] for o in output]\n",
    "                power -= 1\n",
    "                \n",
    "            temp = [[i**(2*x), i**(power//2-x)] for x in range(power//2 + 1)]       \n",
    "            output = [[x1[0]*x2[0], x1[1]*x2[1]] for x1 in output for x2 in temp]      \n",
    "        i+=1\n",
    "    return output\n",
    "\n",
    "count = 0\n",
    "while solutions.count(float('inf')) > 2:\n",
    "    temp = squares_minus(count)\n",
    "    print(temp)\n",
    "    factors = dioph(temp)\n",
    "    \n",
    "    count+=1\n",
    "    "
   ]
  },
  {
   "cell_type": "code",
   "execution_count": 22,
   "metadata": {},
   "outputs": [
    {
     "name": "stdout",
     "output_type": "stream",
     "text": [
      "[[2, 1], [3, 2]]\n",
      "[2, 0]\n"
     ]
    }
   ],
   "source": []
  },
  {
   "cell_type": "code",
   "execution_count": 19,
   "metadata": {},
   "outputs": [
    {
     "data": {
      "text/plain": [
       "[[2, 3], [5, 2], [7, 2]]"
      ]
     },
     "execution_count": 19,
     "metadata": {},
     "output_type": "execute_result"
    }
   ],
   "source": []
  }
 ],
 "metadata": {
  "kernelspec": {
   "display_name": "Python 3",
   "language": "python",
   "name": "python3"
  },
  "language_info": {
   "codemirror_mode": {
    "name": "ipython",
    "version": 3
   },
   "file_extension": ".py",
   "mimetype": "text/x-python",
   "name": "python",
   "nbconvert_exporter": "python",
   "pygments_lexer": "ipython3",
   "version": "3.10.0"
  }
 },
 "nbformat": 4,
 "nbformat_minor": 4
}
