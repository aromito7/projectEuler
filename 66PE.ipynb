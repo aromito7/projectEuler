{
 "cells": [
  {
   "cell_type": "code",
   "execution_count": 1,
   "metadata": {},
   "outputs": [
    {
     "data": {
      "text/plain": [
       "[[2, 1], [5, 1], [7, 1]]"
      ]
     },
     "execution_count": 1,
     "metadata": {},
     "output_type": "execute_result"
    }
   ],
   "source": [
    "answer066 = 0\n",
    "length = 20\n",
    "\n",
    "def isSquare(n):\n",
    "    if (n**.5).is_integer() and n>0: return True\n",
    "\n",
    "    else: return False\n",
    "    \n",
    "def factorize(n):\n",
    "    factors = []\n",
    "    i = 2\n",
    "    while i < ((int(n)+1)**.5)+1:\n",
    "        if n%i==0:\n",
    "            factor = [i, 0]\n",
    "            while n%i==0 and n > 0:\n",
    "                factor[1]+=1\n",
    "                n/=i\n",
    "            factors.append(factor)\n",
    "\n",
    "        i+=1\n",
    "    if n > 1: factors.append([int(n),1])\n",
    "    return factors\n",
    "\n",
    "def dioph(n):\n",
    "    factors = factorize(9800)\n",
    "    d = 1\n",
    "    for factor in factors:\n",
    "        if factor[1]%2==1:\n",
    "            d*=factor[0]\n",
    "            factor[1]-=1\n",
    "        factor[1] = int(factor[1]/2)\n",
    "    D = [d, 1]\n",
    "    squares = factors\n",
    "    \n",
    "    newSquares = []\n",
    "    for square in squares:\n",
    "        for s in range(0, square[1]+1):\n",
    "            x = 1\n",
    "            \n",
    "    \n",
    "    return factors\n",
    "dioph(9800)"
   ]
  },
  {
   "cell_type": "code",
   "execution_count": 10,
   "metadata": {},
   "outputs": [],
   "source": [
    "\n",
    "def isSquare(n):\n",
    "    if (n**.5).is_integer() and n>0: return True\n",
    "    else: return False\n",
    "    "
   ]
  },
  {
   "cell_type": "code",
   "execution_count": 23,
   "metadata": {},
   "outputs": [
    {
     "data": {
      "text/plain": [
       "(0.029437251522857366, 0.058823529411764705)"
      ]
     },
     "execution_count": 23,
     "metadata": {},
     "output_type": "execute_result"
    }
   ],
   "source": [
    "import math\n",
    "x = 6*(8**.5)\n",
    "a = math.ceil(x)\n",
    "(a-x, 1/a)\n",
    "\n"
   ]
  },
  {
   "cell_type": "code",
   "execution_count": 42,
   "metadata": {},
   "outputs": [
    {
     "name": "stdout",
     "output_type": "stream",
     "text": [
      "[0, 0, 0, 0, 0, 0, 0, 0, 0, 0, 0]\n"
     ]
    }
   ],
   "source": [
    "import math\n",
    "length = 10\n",
    "maximum = (1,1)\n",
    "output = [0]*(length+1)\n",
    "for n in range(2, length):\n",
    "    done = False\n",
    "    i = 0\n",
    "    while not done:\n",
    "        i+=1\n",
    "        x = i*(n**.5)\n",
    "        a = math.ceil(x)\n",
    "        done = a-x <= 1/a\n",
    "        \n",
    "    if i > maximum[1]: maximum = (n, i)\n",
    "    #print(n, i)\n",
    "    \n",
    "print(output)"
   ]
  },
  {
   "cell_type": "code",
   "execution_count": 3,
   "metadata": {},
   "outputs": [
    {
     "data": {
      "text/plain": [
       "2.8284271247461903"
      ]
     },
     "execution_count": 3,
     "metadata": {},
     "output_type": "execute_result"
    }
   ],
   "source": []
  },
  {
   "cell_type": "code",
   "execution_count": 43,
   "metadata": {},
   "outputs": [
    {
     "ename": "IndentationError",
     "evalue": "expected an indented block after 'for' statement on line 11 (Temp/ipykernel_6308/3076232369.py, line 14)",
     "output_type": "error",
     "traceback": [
      "\u001b[1;36m  File \u001b[1;32m\"C:\\Users\\aromi\\AppData\\Local\\Temp/ipykernel_6308/3076232369.py\"\u001b[1;36m, line \u001b[1;32m14\u001b[0m\n\u001b[1;33m    \u001b[0m\n\u001b[1;37m    ^\u001b[0m\n\u001b[1;31mIndentationError\u001b[0m\u001b[1;31m:\u001b[0m expected an indented block after 'for' statement on line 11\n"
     ]
    }
   ],
   "source": [
    "def is_square(n):\n",
    "    return (n**.5).is_integer()\n",
    "\n",
    "length = 1000\n",
    "maximum = 0\n",
    "solutions = [float('inf') for i in range(length+1)]\n",
    "D = [d for d in range(length+1) if not(d**.5).is_integer()]\n",
    "\n",
    "square = 2\n",
    "while len(D) > 1:\n",
    "    for d in D:\n",
    "        \n",
    "    \n",
    "    \n"
   ]
  },
  {
   "cell_type": "code",
   "execution_count": 45,
   "metadata": {},
   "outputs": [
    {
     "name": "stdout",
     "output_type": "stream",
     "text": [
      "2 2\n",
      "\n",
      "3 1\n",
      "\n",
      "5 4\n",
      "6 2\n",
      "7 3\n",
      "8 1\n",
      "\n",
      "10 6\n",
      "11 3\n",
      "12 2\n",
      "13 180\n",
      "14 4\n",
      "15 1\n",
      "\n",
      "17 8\n",
      "18 4\n",
      "19 39\n",
      "20 2\n",
      "21 12\n",
      "22 42\n",
      "23 5\n",
      "24 1\n",
      "26 10\n",
      "27 5\n",
      "28 24\n",
      "29 1820\n",
      "30 2\n",
      "31 273\n",
      "32 3\n",
      "\n",
      "33 4\n",
      "34 6\n",
      "35 1\n",
      "37 12\n",
      "38 6\n",
      "39 4\n",
      "40 3\n",
      "41 320\n",
      "42 2\n",
      "43 531\n",
      "44 30\n",
      "45 24\n",
      "46 3588\n",
      "47 7\n",
      "48 1\n",
      "50 14\n",
      "51 7\n",
      "52 90\n",
      "54 66\n",
      "55 12\n",
      "56 2\n",
      "57 20\n",
      "58 2574\n",
      "59 69\n",
      "60 4\n"
     ]
    }
   ],
   "source": [
    "import itertools\n",
    "import math\n",
    "\n",
    "length = 60\n",
    "natural_numbers = itertools.count(1)\n",
    "squares_minus = (s**2 - 1 for s in natural_numbers)\n",
    "solutions = [float('inf') for i in range(length+1)]\n",
    "\n",
    "def dioph(n):\n",
    "    # output = [[D, y**2]]\n",
    "    output = [[1, 1]]\n",
    "    i = 2\n",
    "    \n",
    "    while i <= n:\n",
    "        if n%i == 0:\n",
    "            power = 0\n",
    "            while n%(i**(power+1))==0: \n",
    "                power+=1\n",
    "            n/=(i**power)\n",
    "            \n",
    "            if power%2 == 1:\n",
    "                output = [[o[0]*i, o[1]] for o in output]\n",
    "                power -= 1\n",
    "                \n",
    "            temp = [[i**(2*x), i**(power//2-x)] for x in range(power//2 + 1)]       \n",
    "            output = [[x1[0]*x2[0], x1[1]*x2[1]] for x1 in output for x2 in temp]      \n",
    "        i+=1\n",
    "    return output\n",
    "\n",
    "square = 2\n",
    "while solutions.count(float('inf')) > math.ceil(length**.5) + 1 and square < 1000000:\n",
    "    factors = dioph((square**2)-1)\n",
    "    for factor in factors:\n",
    "        #print(square, factor[0], length, factor[1], solutions[factor[0]])\n",
    "        if factor[0] <= length and factor[1] < solutions[factor[0]]:\n",
    "            solutions[factor[0]] = factor[1]\n",
    "    square+=1\n",
    "\n",
    "for i, v in enumerate(solutions):\n",
    "    if v != float('inf'): print(i, v)\n",
    "    if i in [2,4,8,16,32,64,128]: print()"
   ]
  },
  {
   "cell_type": "code",
   "execution_count": 2,
   "metadata": {},
   "outputs": [
    {
     "data": {
      "text/plain": [
       "-1"
      ]
     },
     "execution_count": 2,
     "metadata": {},
     "output_type": "execute_result"
    }
   ],
   "source": [
    "x = 13**2\n",
    "y = 99**2\n",
    "\n",
    "y - x * 58"
   ]
  },
  {
   "cell_type": "code",
   "execution_count": 40,
   "metadata": {},
   "outputs": [
    {
     "data": {
      "text/plain": [
       "([4, 9, 16, 25, 36, 49, 64, 81],\n",
       " [1.3862943611198906,\n",
       "  2.1972245773362196,\n",
       "  2.772588722239781,\n",
       "  3.2188758248682006,\n",
       "  3.58351893845611,\n",
       "  3.8918202981106265,\n",
       "  4.1588830833596715,\n",
       "  4.394449154672439])"
      ]
     },
     "execution_count": 40,
     "metadata": {},
     "output_type": "execute_result"
    }
   ],
   "source": [
    "length = 10\n",
    "squares = [s**2 for s in range(2, length)]\n",
    "logs = [math.log(s**2) for s in range(2, length)]\n",
    "multiples = []\n",
    "for"
   ]
  },
  {
   "cell_type": "code",
   "execution_count": 39,
   "metadata": {},
   "outputs": [
    {
     "name": "stdout",
     "output_type": "stream",
     "text": [
      "12 Found\n",
      "[4, 2, 1, 3, 1, 2, 8]\n"
     ]
    }
   ],
   "source": [
    "def gcd(x, y):\n",
    "    x = abs(x)\n",
    "    y = abs(y)\n",
    "    greater = max(x,y)\n",
    "    lesser = min(x,y)\n",
    "    while lesser > 0:\n",
    "        temp = greater%lesser\n",
    "        greater = lesser\n",
    "        lesser = temp\n",
    "    return greater\n",
    "\n",
    "\n",
    "def lcm(numbers):\n",
    "    output = 1\n",
    "    for x in numbers:\n",
    "        output//=gcd(output, x)\n",
    "        output*=x\n",
    "    return output\n",
    "\n",
    "class fraction:\n",
    "    def __init__(self, n, d):\n",
    "        self.numerator = n\n",
    "        self.denominator = d\n",
    "        if n == 0 and d == 0: self.denominator=1\n",
    "    \n",
    "    def __str__(self):\n",
    "        if self.denominator == 1: return str(self.numerator)\n",
    "        else: return str(self.numerator) + \"/\" + str(self.denominator)\n",
    "    \n",
    "    def __add__(self, other_fraction):\n",
    "        output_numerator = self.numerator * other_fraction.denominator + other_fraction.numerator * self.denominator\n",
    "        output_denominator = self.denominator * other_fraction.denominator\n",
    "        output = fraction(output_numerator, output_denominator).reduce()\n",
    "        return output\n",
    "\n",
    "    \n",
    "    def __imul__(self, other_fraction):\n",
    "        self = self*other_fraction\n",
    "    \n",
    "    def __sub__(self, other_fraction):\n",
    "        output_numerator = self.numerator * other_fraction.denominator - other_fraction.numerator * self.denominator\n",
    "        output_denominator = self.denominator * other_fraction.denominator\n",
    "        output = fraction(output_numerator, output_denominator).reduce()\n",
    "        return output\n",
    "    \n",
    "    def __mul__(self, other_fraction):\n",
    "        if isinstance(other_fraction, int):\n",
    "            output_numerator = self.numerator*other_fraction\n",
    "            output_denominator = self.denominator\n",
    "        else:\n",
    "            output_numerator = self.numerator * other_fraction.numerator\n",
    "            output_denominator = self.denominator * other_fraction.denominator\n",
    "        output = fraction(output_numerator, output_denominator).reduce()\n",
    "        return output\n",
    "\n",
    "    def __truediv__(self, other_fraction):\n",
    "        if isinstance(other_fraction, int):\n",
    "            output_numerator = self.numerator\n",
    "            output_denominator = self.denominator*other_fraction\n",
    "        else:\n",
    "            output_numerator = self.numerator * other_fraction.denominator\n",
    "            output_denominator = self.denominator * other_fraction.numerator\n",
    "        output = fraction(output_numerator, output_denominator).reduce()\n",
    "        return output\n",
    "    \n",
    "    def invert(self):\n",
    "        temp = self.numerator\n",
    "        self.numerator = self.denominator\n",
    "        self.denominator = temp\n",
    "        \n",
    "        return self\n",
    "    \n",
    "    def reduce(self):\n",
    "        divisor = gcd(abs(self.numerator), abs(self.denominator))\n",
    "        if self.denominator < 0: divisor*=-1\n",
    "        self.numerator //= divisor\n",
    "        self.denominator //= divisor\n",
    "        return self\n",
    "\n",
    "x = fraction(4, 1)\n",
    "str(x.invert())\n",
    "\n",
    "root = 19**.5\n",
    "continued = [int(root//1)]\n",
    "root = 1/(root%1)\n",
    "pattern = []\n",
    "for i in range(1, 20):\n",
    "    remain = int(root//1)\n",
    "    pattern += [remain]\n",
    "    root %= 1\n",
    "    root = 1/root\n",
    "    if i % 2 == 0:\n",
    "        if pattern[:i//2] == pattern[i//2:]:\n",
    "            print(i, \"Found\")\n",
    "            continued += pattern[:i//2]\n",
    "            break\n",
    "print(continued)\n",
    "\n",
    "\n",
    "approx = fraction(continued[0], 1)\n",
    "remainder = fraction(1, 1)"
   ]
  },
  {
   "cell_type": "code",
   "execution_count": 53,
   "metadata": {},
   "outputs": [
    {
     "name": "stdout",
     "output_type": "stream",
     "text": [
      "[661, 638728478116949861246791167518480580]\n"
     ]
    }
   ],
   "source": [
    "solution_66 = 0\n",
    "\n",
    "start = 2\n",
    "length = 1000\n",
    "non_squares = [n for n in range(start, length) if int(n**.5)**2 != n]\n",
    "maximum = [0, 0]\n",
    "for n in non_squares:\n",
    "    first = int(n**.5)\n",
    "    continued = []\n",
    "    pattern = []\n",
    "    num = 0\n",
    "    den = 1\n",
    "    for i in range(1000):\n",
    "        temp = (first + num)//den\n",
    "        continued += [temp]\n",
    "        if temp == 2 * first: break\n",
    "        num = temp * den - num\n",
    "        den = (n - num**2)//den\n",
    "    pattern = continued[1:]\n",
    "    if len(pattern)%2 == 1:\n",
    "        continued += pattern\n",
    "    continued = continued[:-1]\n",
    "    \n",
    "    frac = fraction(1, continued[-1])\n",
    "    for p in reversed(continued[:-1]):\n",
    "        frac = (frac + p).invert()\n",
    "    \n",
    "    temp = frac.numerator\n",
    "    if temp > maximum[1]:\n",
    "        maximum[1] = temp\n",
    "        maximum[0] = n\n",
    "print(maximum)"
   ]
  },
  {
   "cell_type": "code",
   "execution_count": 45,
   "metadata": {},
   "outputs": [
    {
     "data": {
      "text/plain": [
       "Decimal('0.2294157338705617436112349498')"
      ]
     },
     "execution_count": 45,
     "metadata": {},
     "output_type": "execute_result"
    }
   ],
   "source": [
    "1/Decimal(19**.5)"
   ]
  },
  {
   "cell_type": "code",
   "execution_count": null,
   "metadata": {},
   "outputs": [],
   "source": []
  }
 ],
 "metadata": {
  "kernelspec": {
   "display_name": "Python 3",
   "language": "python",
   "name": "python3"
  },
  "language_info": {
   "codemirror_mode": {
    "name": "ipython",
    "version": 3
   },
   "file_extension": ".py",
   "mimetype": "text/x-python",
   "name": "python",
   "nbconvert_exporter": "python",
   "pygments_lexer": "ipython3",
   "version": "3.10.0"
  }
 },
 "nbformat": 4,
 "nbformat_minor": 4
}
