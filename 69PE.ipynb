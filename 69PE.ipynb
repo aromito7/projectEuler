{
 "cells": [
  {
   "cell_type": "code",
   "execution_count": 4,
   "id": "340c0d45",
   "metadata": {},
   "outputs": [],
   "source": [
    "answer_69 = 2 * 3 * 5 * 7 * 11 * 13 * 17"
   ]
  },
  {
   "cell_type": "code",
   "execution_count": null,
   "id": "bfa58297",
   "metadata": {},
   "outputs": [],
   "source": []
  }
 ],
 "metadata": {
  "kernelspec": {
   "display_name": "Python 3",
   "language": "python",
   "name": "python3"
  },
  "language_info": {
   "codemirror_mode": {
    "name": "ipython",
    "version": 3
   },
   "file_extension": ".py",
   "mimetype": "text/x-python",
   "name": "python",
   "nbconvert_exporter": "python",
   "pygments_lexer": "ipython3",
   "version": "3.10.0"
  }
 },
 "nbformat": 4,
 "nbformat_minor": 5
}
