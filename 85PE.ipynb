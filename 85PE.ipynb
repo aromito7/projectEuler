{
 "cells": [
  {
   "cell_type": "code",
   "execution_count": 59,
   "metadata": {},
   "outputs": [
    {
     "name": "stdout",
     "output_type": "stream",
     "text": [
      "695 1153 1 1153 3 667590 1999305\n",
      "16 1630 2 815 6 333336 1995120\n",
      "2 2660 35 76 666 3081 1999998\n",
      "2660\n"
     ]
    }
   ],
   "source": [
    "def triangle(num):\n",
    "    return (num+1)*num//2\n",
    "\n",
    "def total(length, width):\n",
    "    total = 0\n",
    "    for l in range(1, length + 1):\n",
    "        for w in range(1, width + 1):\n",
    "            total += l * w\n",
    "\n",
    "    return total\n",
    "\n",
    "target = 2000000\n",
    "current = triangle(2000)\n",
    "diff = triangle(2000) - target\n",
    "answer_85 = 2000\n",
    "tris = [triangle(x) for x in range(1, 2000)]\n",
    "\n",
    "for l, t1 in enumerate(tris):\n",
    "    for w, t2 in enumerate(tris):\n",
    "        rects = t1 * t2\n",
    "        if rects > target:\n",
    "            rects1 = t1 * tris[w-1]\n",
    "            if abs(rects - target) < diff:\n",
    "                diff = abs(rects - target)\n",
    "                answer_85 = ((l+1) * (w+1))\n",
    "                print(diff, answer_85, l+1, w+1, t1, t2, rects1)\n",
    "            if abs(rects1 - target) < diff:\n",
    "                diff = abs(rects1 - target)\n",
    "                answer_85 = (l+1) * w\n",
    "                print(diff, answer_85, l+1, w, t1, t2, rects1)\n",
    "            break\n",
    "\n",
    "print(answer_85)"
   ]
  },
  {
   "cell_type": "code",
   "execution_count": 61,
   "metadata": {},
   "outputs": [
    {
     "data": {
      "text/plain": [
       "1999998"
      ]
     },
     "execution_count": 61,
     "metadata": {},
     "output_type": "execute_result"
    }
   ],
   "source": [
    "triangle(36) * triangle(77)"
   ]
  },
  {
   "cell_type": "code",
   "execution_count": null,
   "metadata": {},
   "outputs": [],
   "source": []
  }
 ],
 "metadata": {
  "interpreter": {
   "hash": "4b62e90adbaf27cd6148d32c992b130a28eb9f6982d6ddf66687243be0d0ddcb"
  },
  "kernelspec": {
   "display_name": "Python 3.9.4 64-bit ('3.9.4')",
   "language": "python",
   "name": "python3"
  },
  "language_info": {
   "codemirror_mode": {
    "name": "ipython",
    "version": 3
   },
   "file_extension": ".py",
   "mimetype": "text/x-python",
   "name": "python",
   "nbconvert_exporter": "python",
   "pygments_lexer": "ipython3",
   "version": "3.9.4"
  },
  "orig_nbformat": 4
 },
 "nbformat": 4,
 "nbformat_minor": 2
}
