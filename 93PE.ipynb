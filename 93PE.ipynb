{
 "cells": [
  {
   "cell_type": "code",
   "execution_count": 17,
   "metadata": {},
   "outputs": [
    {
     "name": "stdout",
     "output_type": "stream",
     "text": [
      "1234 29\n",
      "1238 36\n",
      "1247 38\n",
      "1249 41\n",
      "1256 44\n",
      "1258 52\n"
     ]
    }
   ],
   "source": [
    "import operator\n",
    "from itertools import product\n",
    "from itertools import combinations\n",
    "from itertools import permutations\n",
    "\n",
    "limit = 1000\n",
    "ops  = [operator.add, operator.sub, operator.mul, operator.truediv]\n",
    "temp = [\"+\", \"-\", \"*\", \"/\"]\n",
    "visual_op = {ops[i] : temp[i] for i in range(4)}\n",
    "max = 0\n",
    "answer_093 = '0000'\n",
    "\n",
    "\n",
    "def print_equation(perm, ops, solution):\n",
    "    output = ''\n",
    "    output += str(perm[0])\n",
    "    for i in range(3):\n",
    "        output += \" \" + visual_op[ops[i]] + \" \" + str(perm[i+1])\n",
    "\n",
    "    output += \" = \" + str(solution)\n",
    "\n",
    "    print(output)\n",
    "\n",
    "def is_valid(a, b, c, d, operations):\n",
    "    valid = [0 for i in range(limit)]\n",
    "    perms = permutations([a, b, c, d])\n",
    "    \n",
    "    for perm in perms:\n",
    "        three_operations = product(operations, operations, operations)\n",
    "        for ops in three_operations:\n",
    "            output = ops[2](ops[1](ops[0](perm[0], perm[1]), perm[2]), perm[3])\n",
    "            output1 = ops[1](ops[0](perm[0], perm[1]), ops[2](perm[2], perm[3]))\n",
    "            #for i in range(3):\n",
    "                #output = ops[i](output, perm[i+1])\n",
    "            #print(perm, ops, output)\n",
    "            if output % 1 == 0 and output > -1 and output < limit and valid[int(output)] == 0:\n",
    "                #print_equation(perm, ops, int(output))\n",
    "                valid[int(output)] = 1\n",
    "            if output1 % 1 == 0 and output1 > -1 and output1 < limit and valid[int(output1)] == 0:\n",
    "                valid[int(output1)] = 1\n",
    "    return valid\n",
    "\n",
    "\n",
    "for a in [i for i in range(1, 10)]:\n",
    "    for b in [i for i in range(a + 1, 10) ]:\n",
    "        for c in [i for i in range(b + 1, 10) ]:\n",
    "            for d in [i for i in range(c + 1, 10) ]:\n",
    "                temp = is_valid(a, b, c, d, ops)\n",
    "                if temp[1:].index(0) > max:\n",
    "                    max = temp[1:].index(0) + 1\n",
    "                    answer_093 = '{}{}{}{}'.format(a, b, c, d)\n",
    "                    print(answer_093, max)\n",
    "\n",
    "                        #output = perm[0]\n",
    "                        #for i in range(3):\n",
    "                        #    output = ops[i](output, perm[i+1])\n",
    "                        #if output % 1 == 0 and output > -1 and output < limit and valid[int(output)] == 0:\n",
    "                        #    valid[int(output)] = 1\n",
    "\n",
    "                    #print([a, b, c, d], perm) \n",
    "                #print(valid)  \n",
    "\n",
    "\n",
    "#(is_valid(1, 2, 3, 4, ops))[1:].index(0) + 1"
   ]
  },
  {
   "cell_type": "code",
   "execution_count": null,
   "metadata": {},
   "outputs": [],
   "source": []
  },
  {
   "cell_type": "code",
   "execution_count": null,
   "metadata": {},
   "outputs": [],
   "source": []
  }
 ],
 "metadata": {
  "kernelspec": {
   "display_name": "Python 3.9.4 64-bit ('3.9.4')",
   "language": "python",
   "name": "python3"
  },
  "language_info": {
   "codemirror_mode": {
    "name": "ipython",
    "version": 3
   },
   "file_extension": ".py",
   "mimetype": "text/x-python",
   "name": "python",
   "nbconvert_exporter": "python",
   "pygments_lexer": "ipython3",
   "version": "3.9.4"
  },
  "orig_nbformat": 4,
  "vscode": {
   "interpreter": {
    "hash": "4b62e90adbaf27cd6148d32c992b130a28eb9f6982d6ddf66687243be0d0ddcb"
   }
  }
 },
 "nbformat": 4,
 "nbformat_minor": 2
}
