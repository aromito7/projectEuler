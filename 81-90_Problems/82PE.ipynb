{
 "cells": [
  {
   "cell_type": "code",
   "execution_count": 36,
   "id": "a038a31d",
   "metadata": {},
   "outputs": [
    {
     "name": "stdout",
     "output_type": "stream",
     "text": [
      "260324\n"
     ]
    }
   ],
   "source": [
    "answer_81 = 0\n",
    "f = open(\"files/p081_matrix.txt\", \"r\")\n",
    "nums = f.readlines()\n",
    "nums = [[int(n) for n in num[:-1].split(',')] for num in nums]\n",
    "paths = [num.copy() for num in nums]\n",
    "side = len(nums)\n",
    "for x in range(side - 2, -1, -1):\n",
    "    for y in range(side):\n",
    "        paths[y][x] += paths[y][x+1]\n",
    "    \n",
    "    go = True\n",
    "    while go:\n",
    "        #print(x, [path[x] for path in paths])\n",
    "        go = False\n",
    "        for y in range(side):\n",
    "            if y > 0 and nums[y][x] + paths[y-1][x] < paths[y][x]:\n",
    "                paths[y][x] = nums[y][x] + paths[y-1][x]\n",
    "                #print(x,y, nums[y][x], paths[y][x], paths[y-1][x])\n",
    "                go = True\n",
    "            if y < side - 1 and nums[y][x] + paths[y+1][x] < paths[y][x]:\n",
    "                paths[y][x] = nums[y][x] + paths[y+1][x]\n",
    "                #print(x,y, nums[y][x], paths[y][x], paths[y+1][x])\n",
    "                go = True\n",
    "\n",
    "answer_81 = min([path[0] for path in paths])\n",
    "print(answer_81)"
   ]
  },
  {
   "cell_type": "code",
   "execution_count": null,
   "id": "e639c055",
   "metadata": {},
   "outputs": [],
   "source": []
  }
 ],
 "metadata": {
  "kernelspec": {
   "display_name": "Python 3",
   "language": "python",
   "name": "python3"
  },
  "language_info": {
   "codemirror_mode": {
    "name": "ipython",
    "version": 3
   },
   "file_extension": ".py",
   "mimetype": "text/x-python",
   "name": "python",
   "nbconvert_exporter": "python",
   "pygments_lexer": "ipython3",
   "version": "3.10.0"
  }
 },
 "nbformat": 4,
 "nbformat_minor": 5
}
