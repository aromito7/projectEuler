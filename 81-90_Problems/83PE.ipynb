{
 "cells": [
  {
   "cell_type": "code",
   "execution_count": 12,
   "id": "b5786150",
   "metadata": {},
   "outputs": [
    {
     "name": "stdout",
     "output_type": "stream",
     "text": [
      "425185\n"
     ]
    }
   ],
   "source": [
    "answer_83 = 0\n",
    "f = open(\"files/p081_matrix.txt\", \"r\")\n",
    "nums = f.readlines()\n",
    "nums = [[int(n) for n in num[:-1].split(',')] for num in nums]\n",
    "paths = [num.copy() for num in nums]\n",
    "side = len(nums)\n",
    "        \n",
    "for n in range(side-2, -1, -1):\n",
    "    paths[n][side-1] += paths[n+1][side-1]\n",
    "    paths[side-1][n] += paths[side-1][n+1]\n",
    "\n",
    "for y in range(side-2, -1, -1):\n",
    "    for x in range(side-2, -1, -1):\n",
    "        paths[y][x] += min(paths[y+1][x], paths[y][x+1])\n",
    "        \n",
    "keep_going = True\n",
    "\n",
    "while keep_going:\n",
    "    keep_going = False\n",
    "    for x in range(side):\n",
    "        for y in range(side):\n",
    "            if y > 0 and paths[y][x] > paths[y-1][x] + nums[y][x]:\n",
    "                paths[y][x] = paths[y-1][x] + nums[y][x]\n",
    "                keep_going = True\n",
    "            if y < side - 1 and paths[y][x] > paths[y+1][x] + nums[y][x]:\n",
    "                paths[y][x] = paths[y+1][x] + nums[y][x]\n",
    "                keep_going = True\n",
    "            if x > 0 and paths[y][x] > paths[y][x-1] + nums[y][x]:\n",
    "                paths[y][x] = paths[y][x-1] + nums[y][x]\n",
    "                keep_going = True\n",
    "            if x < side - 1 and paths[y][x] > paths[y][x+1] + nums[y][x]:\n",
    "                paths[y][x] = paths[y][x+1] + nums[y][x]\n",
    "                keep_going = True\n",
    "\n",
    "answer_81 = paths[0][0]\n",
    "print(answer_81)"
   ]
  },
  {
   "cell_type": "code",
   "execution_count": 4,
   "id": "7bea516b",
   "metadata": {},
   "outputs": [
    {
     "name": "stdout",
     "output_type": "stream",
     "text": [
      "hello world dlrow olleh\n"
     ]
    }
   ],
   "source": [
    "s = \"hello world\"\n",
    "print(s, s[::-1])"
   ]
  },
  {
   "cell_type": "code",
   "execution_count": null,
   "id": "05f13ecf",
   "metadata": {},
   "outputs": [],
   "source": []
  }
 ],
 "metadata": {
  "interpreter": {
   "hash": "4b62e90adbaf27cd6148d32c992b130a28eb9f6982d6ddf66687243be0d0ddcb"
  },
  "kernelspec": {
   "display_name": "Python 3.9.4 64-bit ('3.9.4')",
   "language": "python",
   "name": "python3"
  },
  "language_info": {
   "codemirror_mode": {
    "name": "ipython",
    "version": 3
   },
   "file_extension": ".py",
   "mimetype": "text/x-python",
   "name": "python",
   "nbconvert_exporter": "python",
   "pygments_lexer": "ipython3",
   "version": "3.9.4"
  }
 },
 "nbformat": 4,
 "nbformat_minor": 5
}
