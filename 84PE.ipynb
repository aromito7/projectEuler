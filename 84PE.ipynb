{
 "cells": [
  {
   "cell_type": "code",
   "execution_count": 69,
   "metadata": {},
   "outputs": [
    {
     "name": "stdout",
     "output_type": "stream",
     "text": [
      "0.07334998452661938\n"
     ]
    }
   ],
   "source": [
    "import numpy as np\n",
    "answer_84 = 0\n",
    "squares = [1/40] * 40\n",
    "limit = 10**6\n",
    "transitions = np.array(np.zeros([41, 40]))\n",
    "transitions[0] = [0]*1 + [15/256, 2/16, 47/256, 4/16, 47/256, 2/16, 15/256] + [0] * 32\n",
    "cc = [2, 17, 33]\n",
    "ch = [7, 22, 36]\n",
    "for c, row in enumerate(transitions[1:]):\n",
    "    prev = transitions[c]\n",
    "    temp = np.concatenate(([prev[-1]], prev[:-1]), axis=0)\n",
    "    transitions[c+1] = temp\n",
    "\n",
    "\n",
    "transitions = transitions[1:]\n",
    "transitions[:, 10] += 1/64\n",
    "transitions[:, 10] += transitions[:, 30]\n",
    "transitions[:, 30] *= 0\n",
    "\n",
    "\n",
    "for c in cc:\n",
    "    transitions[:, 0] += transitions[:, c]/16\n",
    "    transitions[:, 10] += transitions[:, c]/16\n",
    "    transitions[:, c] -= transitions[:, c]/8\n",
    "\n",
    "for c in ch:\n",
    "    r = (((c + 5)//10)%4)*10 + 5\n",
    "    if c == 22:\n",
    "        u = 28\n",
    "    else:\n",
    "        u = 12\n",
    "\n",
    "    chance = transitions[:, c]\n",
    "\n",
    "    transitions[:, 0] += chance/16\n",
    "    transitions[:, 10] += chance/16\n",
    "    transitions[:, 11] += chance/16\n",
    "    transitions[:, 24] += chance/16\n",
    "    transitions[:, 39] += chance/16\n",
    "    transitions[:, 5] += chance/16\n",
    "    transitions[:, r] += 2 * chance/16\n",
    "    transitions[:, u] += chance/16\n",
    "    transitions[:, c-3] += chance/16\n",
    "\n",
    "    chance *= 3.0/8\n",
    "\n",
    "\n",
    "    \n",
    "distribution = np.array([.025]*40)\n",
    "\n",
    "\n",
    "for i in range(limit):\n",
    "    distribution = distribution.dot(transitions)\n",
    "\n",
    "print(max(distribution))\n",
    "\n",
    "x1 = distribution[10]"
   ]
  },
  {
   "cell_type": "code",
   "execution_count": 71,
   "metadata": {},
   "outputs": [
    {
     "name": "stdout",
     "output_type": "stream",
     "text": [
      "[0.02752327 0.01747283 0.01655589 0.02014067 0.0225174  0.02873722\n",
      " 0.02058395 0.00765981 0.02080382 0.02071812 0.07334998 0.02409989\n",
      " 0.02389099 0.02524863 0.0290415  0.03663416 0.03254428 0.02729322\n",
      " 0.02982673 0.03057145 0.03018056 0.03050197 0.01130437 0.02985464\n",
      " 0.03291589 0.03101585 0.02647145 0.02540287 0.02847547 0.02740207\n",
      " 0.         0.02800479 0.02566954 0.02193483 0.02180953 0.01971417\n",
      " 0.0078103  0.02107289 0.02062307 0.02462192]\n"
     ]
    }
   ],
   "source": [
    "x1 = distribution[10]\n",
    "x2 = distribution[15]\n",
    "x3 = distribution[24]\n",
    "\n",
    "print(distribution)"
   ]
  },
  {
   "cell_type": "code",
   "execution_count": null,
   "metadata": {},
   "outputs": [],
   "source": []
  }
 ],
 "metadata": {
  "interpreter": {
   "hash": "4b62e90adbaf27cd6148d32c992b130a28eb9f6982d6ddf66687243be0d0ddcb"
  },
  "kernelspec": {
   "display_name": "Python 3.9.4 64-bit ('3.9.4')",
   "language": "python",
   "name": "python3"
  },
  "language_info": {
   "codemirror_mode": {
    "name": "ipython",
    "version": 3
   },
   "file_extension": ".py",
   "mimetype": "text/x-python",
   "name": "python",
   "nbconvert_exporter": "python",
   "pygments_lexer": "ipython3",
   "version": "3.9.4"
  },
  "orig_nbformat": 4
 },
 "nbformat": 4,
 "nbformat_minor": 2
}
