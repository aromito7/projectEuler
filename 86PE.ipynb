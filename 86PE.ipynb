{
 "cells": [
  {
   "cell_type": "code",
   "execution_count": 17,
   "metadata": {},
   "outputs": [
    {
     "name": "stdout",
     "output_type": "stream",
     "text": [
      "1987\n"
     ]
    }
   ],
   "source": [
    "from files.fraction import gcd\n",
    "\n",
    "M = 3000\n",
    "count = 0\n",
    "\n",
    "for a in range(1, M+1):\n",
    "    for b in range(2, 2*a):\n",
    "        c = (a**2 + b**2)**.5\n",
    "\n",
    "        if int(c) == c:\n",
    "            count += min(b//2, a + 1 - b//2)\n",
    "    if count > 1000000: \n",
    "        print(a, count)\n",
    "        break\n",
    "\n",
    "\n",
    "print(count)"
   ]
  },
  {
   "cell_type": "code",
   "execution_count": 64,
   "metadata": {},
   "outputs": [
    {
     "data": {
      "text/plain": [
       "12"
      ]
     },
     "execution_count": 64,
     "metadata": {},
     "output_type": "execute_result"
    }
   ],
   "source": [
    "25 ^ 21"
   ]
  },
  {
   "cell_type": "code",
   "execution_count": null,
   "metadata": {},
   "outputs": [],
   "source": []
  }
 ],
 "metadata": {
  "interpreter": {
   "hash": "4b62e90adbaf27cd6148d32c992b130a28eb9f6982d6ddf66687243be0d0ddcb"
  },
  "kernelspec": {
   "display_name": "Python 3.9.4 64-bit ('3.9.4')",
   "language": "python",
   "name": "python3"
  },
  "language_info": {
   "codemirror_mode": {
    "name": "ipython",
    "version": 3
   },
   "file_extension": ".py",
   "mimetype": "text/x-python",
   "name": "python",
   "nbconvert_exporter": "python",
   "pygments_lexer": "ipython3",
   "version": "3.9.4"
  },
  "orig_nbformat": 4
 },
 "nbformat": 4,
 "nbformat_minor": 2
}
