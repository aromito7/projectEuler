{
 "cells": [
  {
   "cell_type": "code",
   "execution_count": 48,
   "id": "5f7eec9a",
   "metadata": {},
   "outputs": [
    {
     "name": "stdout",
     "output_type": "stream",
     "text": [
      "True\n"
     ]
    }
   ],
   "source": [
    "s = \"Braille\"\n",
    "inp = \"000001011110110010100010000000111110101001010100100100101000000000110000111010101010010111101110000000110100101010101101000000010110101001101100111100011100000000101010111001100010111010000000011110110010100010000000111000100000101011101111000000100110101010110110\"\n",
    "x = [inp[i*6+6:i*6+12] for i in range(len(inp)//6)]\n",
    "y = \"the quick brown fox jumps over the lazy dog\"\n",
    "z = \"abcdefghijklmnopqrstuvwxyz\"\n",
    "upper = \"000001\"\n",
    "perm = [y.index(i) for i in z]\n",
    "x1 = [0]*26\n",
    "x1 = [x[perm[i%26]] for i in range(52)]\n",
    "x1[26:] = [upper + x1[i] for i in range(26,52)]\n",
    "z += z.upper()\n",
    "d = {k:v for k,v in zip(z,x1)}\n",
    "\n",
    "output = ''.join([d[i] for i in s])\n"
   ]
  },
  {
   "cell_type": "code",
   "execution_count": 63,
   "id": "7f9e9c57",
   "metadata": {},
   "outputs": [
    {
     "name": "stdout",
     "output_type": "stream",
     "text": [
      "96\n"
     ]
    }
   ],
   "source": [
    "x,y = 5,10\n",
    "\n",
    "n = x + y - 2\n",
    "tri = n*(n+1)//2\n",
    "output = str(tri + x)\n",
    "\n",
    "print(output)"
   ]
  },
  {
   "cell_type": "code",
   "execution_count": 3,
   "id": "664cc306",
   "metadata": {},
   "outputs": [
    {
     "name": "stdout",
     "output_type": "stream",
     "text": [
      "87654320999987654322\n"
     ]
    }
   ],
   "source": [
    "x = \"99999999999987654321\"\n",
    "base = 10\n",
    "temp = [0]*len(x)\n",
    "n = '0'*len(x)\n",
    "for i in range(len(x)//2):\n",
    "    z = '0'*i+(str(base-1)*(len(x)-(1+2*i)))+'0'*i\n",
    "    temp[i] = int(x[i])*int(z)\n",
    "    temp[-i-1] = -int(x[-i-1])*int(z)\n",
    "    \n",
    "\n",
    "if base == 10:\n",
    "    x1=sum(temp)\n",
    "else:\n",
    "    x1 = '0'\n",
    "print(int(x)-int(x[::-1]))"
   ]
  },
  {
   "cell_type": "code",
   "execution_count": 67,
   "id": "47912dbd",
   "metadata": {},
   "outputs": [],
   "source": [
    "def test1(x):\n",
    "    x1 = x[::-1]\n",
    "    base = 9\n",
    "    result = ''\n",
    "    for i in range(len(x)):\n",
    "        temp = (int(x[i])-int(x1[i])-1)%base\n",
    "        if i > 0 and temp > int(result[-1]):\n",
    "            result = str(int(result[:-1]) + int('1'*(len(result)-1)))+result[-1]\n",
    "        result += str(temp)\n",
    "    result = result[:-1] + str(int(result[-1])+1)\n",
    "    return result"
   ]
  },
  {
   "cell_type": "code",
   "execution_count": 66,
   "id": "b29d43a5",
   "metadata": {},
   "outputs": [],
   "source": [
    "def test2(x):\n",
    "    diff = int(x) - int(x[::-1])\n",
    "    diff = str(diff)\n",
    "    for i in range(len(diff)-1):\n",
    "        if diff[i] < diff[i+1]:\n",
    "            first = diff[:i+1]\n",
    "            second = diff[i+1:]\n",
    "            base_diff = 10-base\n",
    "            second = str(int(second)-int(str(base_diff)*len(second)))\n",
    "            diff = first+second\n",
    "            print(diff)\n",
    "    return diff"
   ]
  },
  {
   "cell_type": "code",
   "execution_count": 74,
   "id": "98ea82e5",
   "metadata": {},
   "outputs": [
    {
     "data": {
      "text/plain": [
       "0.08143730000028881"
      ]
     },
     "execution_count": 74,
     "metadata": {},
     "output_type": "execute_result"
    }
   ],
   "source": [
    "import timeit\n",
    "x = '888888888888888888888888888888888888884321'\n",
    "timeit.timeit(test1(x), number = 10000000)"
   ]
  },
  {
   "cell_type": "code",
   "execution_count": 75,
   "id": "7a6ffb50",
   "metadata": {},
   "outputs": [
    {
     "name": "stdout",
     "output_type": "stream",
     "text": [
      "765388888888888888888888888888888888884322\n"
     ]
    },
    {
     "data": {
      "text/plain": [
       "0.08268820000012056"
      ]
     },
     "execution_count": 75,
     "metadata": {},
     "output_type": "execute_result"
    }
   ],
   "source": [
    "timeit.timeit(test2(x), number = 10000000)"
   ]
  },
  {
   "cell_type": "code",
   "execution_count": null,
   "id": "c3269e05",
   "metadata": {},
   "outputs": [],
   "source": []
  }
 ],
 "metadata": {
  "kernelspec": {
   "display_name": "Python 3",
   "language": "python",
   "name": "python3"
  },
  "language_info": {
   "codemirror_mode": {
    "name": "ipython",
    "version": 3
   },
   "file_extension": ".py",
   "mimetype": "text/x-python",
   "name": "python",
   "nbconvert_exporter": "python",
   "pygments_lexer": "ipython3",
   "version": "3.10.0"
  }
 },
 "nbformat": 4,
 "nbformat_minor": 5
}
