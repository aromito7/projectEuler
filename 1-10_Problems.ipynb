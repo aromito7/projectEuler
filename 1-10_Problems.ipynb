{
 "cells": [
  {
   "cell_type": "code",
   "execution_count": 1,
   "metadata": {
    "collapsed": false
   },
   "outputs": [
    {
     "name": "stdout",
     "output_type": "stream",
     "text": [
      "233168\n"
     ]
    }
   ],
   "source": [
    "sum = 0\n",
    "for x in range (1000):\n",
    "    if(x%3 == 0 or x%5 == 0):\n",
    "        sum += x\n",
    "\n",
    "answer001 = sum\n",
    "\n",
    "print answer001 "
   ]
  },
  {
   "cell_type": "code",
   "execution_count": 8,
   "metadata": {
    "collapsed": false
   },
   "outputs": [
    {
     "name": "stdout",
     "output_type": "stream",
     "text": [
      "4613732.0\n"
     ]
    }
   ],
   "source": [
    "sum = 0\n",
    "fib = 1\n",
    "golden = (1+5**(.5))/2\n",
    "\n",
    "while fib < 4000000:\n",
    "    fib *= golden\n",
    "    fib += .5\n",
    "    fib //= 1\n",
    "    if fib%2 == 0:\n",
    "        sum += fib\n",
    "\n",
    "print sum"
   ]
  },
  {
   "cell_type": "code",
   "execution_count": null,
   "metadata": {
    "collapsed": true
   },
   "outputs": [],
   "source": []
  }
 ],
 "metadata": {
  "kernelspec": {
   "display_name": "Python 2",
   "language": "python",
   "name": "python2"
  },
  "language_info": {
   "codemirror_mode": {
    "name": "ipython",
    "version": 2
   },
   "file_extension": ".py",
   "mimetype": "text/x-python",
   "name": "python",
   "nbconvert_exporter": "python",
   "pygments_lexer": "ipython2",
   "version": "2.7.13"
  }
 },
 "nbformat": 4,
 "nbformat_minor": 2
}
