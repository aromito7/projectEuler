{
 "cells": [
  {
   "cell_type": "code",
   "execution_count": 1,
   "metadata": {
    "collapsed": false
   },
   "outputs": [
    {
     "name": "stdout",
     "output_type": "stream",
     "text": [
      "233168\n"
     ]
    }
   ],
   "source": [
    "sum = 0\n",
    "for x in range (1000):\n",
    "    if(x%3 == 0 or x%5 == 0):\n",
    "        sum += x\n",
    "\n",
    "answer001 = sum\n",
    "\n",
    "print answer001 "
   ]
  },
  {
   "cell_type": "code",
   "execution_count": 9,
   "metadata": {
    "collapsed": false
   },
   "outputs": [
    {
     "name": "stdout",
     "output_type": "stream",
     "text": [
      "4613732.0\n"
     ]
    }
   ],
   "source": [
    "sum = 0\n",
    "fib = 1\n",
    "golden = (1+5**(.5))/2\n",
    "\n",
    "while fib < 4000000:\n",
    "    fib *= golden\n",
    "    fib += .5\n",
    "    fib //= 1\n",
    "    if fib%2 == 0:\n",
    "        sum += fib\n",
    "\n",
    "answer002 = sum\n",
    "        \n",
    "print answer002"
   ]
  },
  {
   "cell_type": "code",
   "execution_count": 2,
   "metadata": {
    "collapsed": false
   },
   "outputs": [
    {
     "name": "stdout",
     "output_type": "stream",
     "text": [
      "6857\n"
     ]
    }
   ],
   "source": [
    "x = 600851475143\n",
    "i = factor = 2\n",
    "\n",
    "while i <= x: \n",
    "    if x % i == 0:\n",
    "        factor = i\n",
    "        x/=factor\n",
    "        i = 2\n",
    "    else:\n",
    "        i+=1\n",
    " \n",
    "            \n",
    "\n",
    "answer003 = factor\n",
    "print answer003\n"
   ]
  },
  {
   "cell_type": "code",
   "execution_count": 35,
   "metadata": {
    "collapsed": false
   },
   "outputs": [
    {
     "name": "stdout",
     "output_type": "stream",
     "text": [
      "906609\n"
     ]
    }
   ],
   "source": [
    "max = 0\n",
    "\n",
    "def isPalindrome(num):\n",
    "    digits = []\n",
    "    while num > 0:\n",
    "        digits += [num%10]\n",
    "        num//=10\n",
    "    while len(digits) > 1:\n",
    "        if digits[0] != digits[-1]:\n",
    "            return False\n",
    "        else:\n",
    "            digits = digits[1:-1]\n",
    "    return True\n",
    "\n",
    "for x in range(100, 1000):\n",
    "    for y in range(100, 1000):\n",
    "        if isPalindrome(x*y) and x*y > max:\n",
    "            max = x*y\n",
    "    \n",
    "answer004 = max\n",
    "print answer004"
   ]
  },
  {
   "cell_type": "code",
   "execution_count": 50,
   "metadata": {
    "collapsed": false
   },
   "outputs": [
    {
     "name": "stdout",
     "output_type": "stream",
     "text": [
      "232792560\n"
     ]
    }
   ],
   "source": [
    "product = 1\n",
    "\n",
    "def isPrime(num):\n",
    "    for i in range(2, num):\n",
    "        if num%i == 0:\n",
    "            return False\n",
    "    return True\n",
    "\n",
    "for i in range(2, 21):\n",
    "    if isPrime(i):\n",
    "        factor = i\n",
    "        while factor <= 20:\n",
    "            factor *= i\n",
    "        factor /= i\n",
    "        product *= factor\n",
    "        \n",
    "\n",
    "answer005 = product\n",
    "print answer005"
   ]
  },
  {
   "cell_type": "code",
   "execution_count": 67,
   "metadata": {
    "collapsed": false
   },
   "outputs": [
    {
     "name": "stdout",
     "output_type": "stream",
     "text": [
      "25164150.0\n"
     ]
    }
   ],
   "source": [
    "sumSquare = ((100**3)/3.0 + (100**2)/2.0 + 100/6.0)\n",
    "squareSum = ((101 * 100)/2)**2\n",
    "\n",
    "answer006 = squareSum - sumSquare\n",
    "print answer006"
   ]
  },
  {
   "cell_type": "code",
   "execution_count": 86,
   "metadata": {
    "collapsed": false
   },
   "outputs": [
    {
     "name": "stdout",
     "output_type": "stream",
     "text": [
      "104743\n"
     ]
    }
   ],
   "source": [
    "primes = [2]\n",
    "\n",
    "def isPrime(num):\n",
    "    for i in range(len(primes)):\n",
    "        if num%primes[i] == 0:\n",
    "            return False\n",
    "    return True\n",
    "\n",
    "num = 3\n",
    "\n",
    "while len(primes) < 10001:\n",
    "    if isPrime(num):\n",
    "        primes += [num]\n",
    "    num+=1\n",
    "\n",
    "\n",
    "answer007 = primes[10000]\n",
    "print answer007"
   ]
  },
  {
   "cell_type": "code",
   "execution_count": null,
   "metadata": {
    "collapsed": true
   },
   "outputs": [],
   "source": []
  }
 ],
 "metadata": {
  "kernelspec": {
   "display_name": "Python 2",
   "language": "python",
   "name": "python2"
  },
  "language_info": {
   "codemirror_mode": {
    "name": "ipython",
    "version": 2
   },
   "file_extension": ".py",
   "mimetype": "text/x-python",
   "name": "python",
   "nbconvert_exporter": "python",
   "pygments_lexer": "ipython2",
   "version": "2.7.13"
  }
 },
 "nbformat": 4,
 "nbformat_minor": 2
}
