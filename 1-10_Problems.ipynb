{
 "cells": [
  {
   "cell_type": "code",
   "execution_count": 1,
   "metadata": {
    "collapsed": false
   },
   "outputs": [
    {
     "name": "stdout",
     "output_type": "stream",
     "text": [
      "233168\n"
     ]
    }
   ],
   "source": [
    "sum = 0\n",
    "for x in range (1000):\n",
    "    if(x%3 == 0 or x%5 == 0):\n",
    "        sum += x\n",
    "\n",
    "answer001 = sum\n",
    "\n",
    "print answer001 "
   ]
  },
  {
   "cell_type": "code",
   "execution_count": 9,
   "metadata": {
    "collapsed": false
   },
   "outputs": [
    {
     "name": "stdout",
     "output_type": "stream",
     "text": [
      "4613732.0\n"
     ]
    }
   ],
   "source": [
    "sum = 0\n",
    "fib = 1\n",
    "golden = (1+5**(.5))/2\n",
    "\n",
    "while fib < 4000000:\n",
    "    fib *= golden\n",
    "    fib += .5\n",
    "    fib //= 1\n",
    "    if fib%2 == 0:\n",
    "        sum += fib\n",
    "\n",
    "answer002 = sum\n",
    "        \n",
    "print answer002"
   ]
  },
  {
   "cell_type": "code",
   "execution_count": 2,
   "metadata": {
    "collapsed": false
   },
   "outputs": [
    {
     "name": "stdout",
     "output_type": "stream",
     "text": [
      "6857\n"
     ]
    }
   ],
   "source": [
    "x = 600851475143\n",
    "i = factor = 2\n",
    "\n",
    "while i <= x: \n",
    "    if x % i == 0:\n",
    "        factor = i\n",
    "        x/=factor\n",
    "        i = 2\n",
    "    else:\n",
    "        i+=1\n",
    " \n",
    "            \n",
    "\n",
    "answer003 = factor\n",
    "print answer003\n"
   ]
  },
  {
   "cell_type": "code",
   "execution_count": 35,
   "metadata": {
    "collapsed": false
   },
   "outputs": [
    {
     "name": "stdout",
     "output_type": "stream",
     "text": [
      "906609\n"
     ]
    }
   ],
   "source": [
    "max = 0\n",
    "\n",
    "def isPalindrome(num):\n",
    "    digits = []\n",
    "    while num > 0:\n",
    "        digits += [num%10]\n",
    "        num//=10\n",
    "    while len(digits) > 1:\n",
    "        if digits[0] != digits[-1]:\n",
    "            return False\n",
    "        else:\n",
    "            digits = digits[1:-1]\n",
    "    return True\n",
    "\n",
    "for x in range(100, 1000):\n",
    "    for y in range(100, 1000):\n",
    "        if isPalindrome(x*y) and x*y > max:\n",
    "            max = x*y\n",
    "    \n",
    "answer004 = max\n",
    "print answer004"
   ]
  },
  {
   "cell_type": "code",
   "execution_count": 50,
   "metadata": {
    "collapsed": false
   },
   "outputs": [
    {
     "name": "stdout",
     "output_type": "stream",
     "text": [
      "232792560\n"
     ]
    }
   ],
   "source": [
    "product = 1\n",
    "\n",
    "def isPrime(num):\n",
    "    for i in range(2, num):\n",
    "        if num%i == 0:\n",
    "            return False\n",
    "    return True\n",
    "\n",
    "for i in range(2, 21):\n",
    "    if isPrime(i):\n",
    "        factor = i\n",
    "        while factor <= 20:\n",
    "            factor *= i\n",
    "        factor /= i\n",
    "        product *= factor\n",
    "        \n",
    "\n",
    "answer005 = product\n",
    "print answer005"
   ]
  },
  {
   "cell_type": "code",
   "execution_count": 67,
   "metadata": {
    "collapsed": false
   },
   "outputs": [
    {
     "name": "stdout",
     "output_type": "stream",
     "text": [
      "25164150.0\n"
     ]
    }
   ],
   "source": [
    "sumSquare = ((100**3)/3.0 + (100**2)/2.0 + 100/6.0)\n",
    "squareSum = ((101 * 100)/2)**2\n",
    "\n",
    "answer006 = squareSum - sumSquare\n",
    "print answer006"
   ]
  },
  {
   "cell_type": "code",
   "execution_count": 86,
   "metadata": {
    "collapsed": false
   },
   "outputs": [
    {
     "name": "stdout",
     "output_type": "stream",
     "text": [
      "104743\n"
     ]
    }
   ],
   "source": [
    "primes = [2]\n",
    "\n",
    "def isPrime(num):\n",
    "    for i in range(len(primes)):\n",
    "        if num%primes[i] == 0:\n",
    "            return False\n",
    "    return True\n",
    "\n",
    "num = 3\n",
    "\n",
    "while len(primes) < 10001:\n",
    "    if isPrime(num):\n",
    "        primes += [num]\n",
    "    num+=1\n",
    "\n",
    "\n",
    "answer007 = primes[10000]\n",
    "print answer007"
   ]
  },
  {
   "cell_type": "code",
   "execution_count": 18,
   "metadata": {
    "collapsed": false
   },
   "outputs": [
    {
     "name": "stdout",
     "output_type": "stream",
     "text": [
      "23514624000\n"
     ]
    }
   ],
   "source": [
    "max = 0\n",
    "\n",
    "num = str(\"\"\"\n",
    "73167176531330624919225119674426574742355349194934\n",
    "96983520312774506326239578318016984801869478851843\n",
    "85861560789112949495459501737958331952853208805511\n",
    "12540698747158523863050715693290963295227443043557\n",
    "66896648950445244523161731856403098711121722383113\n",
    "62229893423380308135336276614282806444486645238749\n",
    "30358907296290491560440772390713810515859307960866\n",
    "70172427121883998797908792274921901699720888093776\n",
    "65727333001053367881220235421809751254540594752243\n",
    "52584907711670556013604839586446706324415722155397\n",
    "53697817977846174064955149290862569321978468622482\n",
    "83972241375657056057490261407972968652414535100474\n",
    "82166370484403199890008895243450658541227588666881\n",
    "16427171479924442928230863465674813919123162824586\n",
    "17866458359124566529476545682848912883142607690042\n",
    "24219022671055626321111109370544217506941658960408\n",
    "07198403850962455444362981230987879927244284909188\n",
    "84580156166097919133875499200524063689912560717606\n",
    "05886116467109405077541002256983155200055935729725\n",
    "71636269561882670428252483600823257530420752963450\"\"\")\n",
    "\n",
    "num = num.replace(\"\\n\", \"\")\n",
    "num = int(num)\n",
    "\n",
    "array = []\n",
    "\n",
    "while num > 0:\n",
    "    array += [num%10]\n",
    "    num//=10\n",
    "\n",
    "for x in range(len(array)-13):\n",
    "    product = 1\n",
    "    for y in range(13):\n",
    "        product *= array[x+y]\n",
    "\n",
    "    if product > max:\n",
    "        max = product\n",
    "\n",
    "answer008 = max\n",
    "print answer008"
   ]
  },
  {
   "cell_type": "code",
   "execution_count": 26,
   "metadata": {
    "collapsed": false
   },
   "outputs": [
    {
     "name": "stdout",
     "output_type": "stream",
     "text": [
      "0\n"
     ]
    }
   ],
   "source": [
    "answer009 = 0\n",
    "\n",
    "for x in range(1000):\n",
    "    for y in range(1000-x):\n",
    "        z = 1000-x-y\n",
    "        if y**2 == x**2 + z**2 or x**2 == y**2 + z**2 or z**2 == x**2 + y**2:\n",
    "            answer009 = x * y * z\n",
    "\n",
    "print answer009"
   ]
  },
  {
   "cell_type": "code",
   "execution_count": null,
   "metadata": {
    "collapsed": true
   },
   "outputs": [],
   "source": []
  }
 ],
 "metadata": {
  "kernelspec": {
   "display_name": "Python 2",
   "language": "python",
   "name": "python2"
  },
  "language_info": {
   "codemirror_mode": {
    "name": "ipython",
    "version": 2
   },
   "file_extension": ".py",
   "mimetype": "text/x-python",
   "name": "python",
   "nbconvert_exporter": "python",
   "pygments_lexer": "ipython2",
   "version": "2.7.13"
  }
 },
 "nbformat": 4,
 "nbformat_minor": 2
}
