{
 "cells": [
  {
   "cell_type": "code",
   "execution_count": 77,
   "id": "9beb8490",
   "metadata": {},
   "outputs": [
    {
     "name": "stdout",
     "output_type": "stream",
     "text": [
      "402\n"
     ]
    }
   ],
   "source": [
    "length = 7\n",
    "digits = [str(i) for i in range(10)]\n",
    "biggest_chains = [str(i) for i in range(10)]\n",
    "chains = [str(i) for i in range(10)]\n",
    "\n",
    "def factorial(num):\n",
    "    output = 1\n",
    "    for i in range(1, int(num)+1):\n",
    "        output *= i\n",
    "    return output\n",
    "\n",
    "factorials = [factorial(i) for i in range(10)]\n",
    "    \n",
    "\n",
    "def link(num):\n",
    "    output = str(sum([int(factorial(n)) for n in num]))\n",
    "    return output\n",
    "\n",
    "combinations = []\n",
    "all_chains = []\n",
    "temp_chains = []\n",
    "for i in range(length):\n",
    "    temp = []\n",
    "    temp_chains = []\n",
    "    for chain in biggest_chains:\n",
    "        temp = [d for d in digits if int(d) >= int(chain[-1])]\n",
    "        for digit in temp:\n",
    "            temp_chains += [chain + digit]\n",
    "    biggest_chains = temp_chains\n",
    "    chains += temp_chains\n",
    "        \n",
    "    \n",
    "chains = {chain:[] for chain in chains}\n",
    "len(chains)\n",
    "\n",
    "links = []\n",
    "count = 0\n",
    "\n",
    "def bucket_link(link):\n",
    "    link = str(link)\n",
    "    link = (''.join(sorted([l for l in link])))\n",
    "    return link\n",
    "\n",
    "def next_link(num):\n",
    "    output = sum([factorials[int(i)] for i in num])\n",
    "    return output\n",
    "\n",
    "\n",
    "def solve_chain(num, chain):\n",
    "    num = next_link(num)\n",
    "    num = bucket_link(num)\n",
    "    \n",
    "    if chains[num]:\n",
    "        for i,v in enumerate(chain):\n",
    "            chains[v] = chain[i:] + chains[num]\n",
    "        \n",
    "        return chain + chains[num]\n",
    "    elif num in chain:\n",
    "        for i,v in enumerate(chain):\n",
    "            chains[v] = chain[i:]\n",
    "            \n",
    "            if v == num: break\n",
    "    else:\n",
    "        return solve_chain(num, chain + [num])\n",
    "\n",
    "targets = []\n",
    "output = 0\n",
    "for num in chains:\n",
    "    num = bucket_link(str(num))\n",
    "    solve_chain(num, [num])\n",
    "    temp = chains[num]\n",
    "    if len(temp) == 60 and len(num) < 7:\n",
    "        targets += [num]\n",
    "        \n",
    "for i in range(10**6):\n",
    "    if bucket_link(str(i)) in targets:\n",
    "        output+=1\n",
    "        \n",
    "print(output)"
   ]
  },
  {
   "cell_type": "code",
   "execution_count": null,
   "id": "dec1a3e5",
   "metadata": {},
   "outputs": [],
   "source": []
  }
 ],
 "metadata": {
  "kernelspec": {
   "display_name": "Python 3",
   "language": "python",
   "name": "python3"
  },
  "language_info": {
   "codemirror_mode": {
    "name": "ipython",
    "version": 3
   },
   "file_extension": ".py",
   "mimetype": "text/x-python",
   "name": "python",
   "nbconvert_exporter": "python",
   "pygments_lexer": "ipython3",
   "version": "3.10.0"
  }
 },
 "nbformat": 4,
 "nbformat_minor": 5
}
