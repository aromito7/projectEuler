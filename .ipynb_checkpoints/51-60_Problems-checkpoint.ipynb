{
 "cells": [
  {
   "cell_type": "code",
   "execution_count": 12,
   "metadata": {},
   "outputs": [
    {
     "name": "stdout",
     "output_type": "stream",
     "text": [
      "Family, Size: *2*3*3 8\n",
      "Time elapsed (hh:mm:ss.ms) 0:00:39.536000\n"
     ]
    }
   ],
   "source": [
    "import itertools as it  #This library gives us acess to permutation and combination functions\n",
    "from datetime import datetime \n",
    "start_time = datetime.now()\n",
    "\n",
    "def isPrime(num):\n",
    "    if num < 2: return False           #I do this to ensure that 0 and 1 don't return True\n",
    "    for n in range(2, int(num**.5)+1): #Composite numbers have a non-zero factor that is less or equal to it's square root\n",
    "        if num%n==0: return False      #If any of these numbers divide it evenly, then we know it isn't prime\n",
    "    return True                        #Otherwise, we know that it is prime\n",
    "#---------------------------------------------------------------------------------------------------------------------------\n",
    "answer051 = 0          #Many problems require you to slowly build up the answer or find a maximum so I do this by default\n",
    "maximum = 0            #This tracks the maximum size of the largest prime family that I've found so far\n",
    "first = '123456789*'   #The first digit in a family can't begin with a 0 so we can choose from anything else\n",
    "middle = '1234567890*' #The middle digit(s) can use anything\n",
    "last = '1379'          #The final digit of a prime number must be 1,3,7, or 9, and if it contains an '*', it's max size is 4\n",
    "middle_digits = 0      #Number of middle digits we're working with\n",
    "#---------------------------------------------------------------------------------------------------------------------------\n",
    "while maximum<8:                                          #We continue this process until we find a family with 8 members\n",
    "    #print str(2 + middle_digits) + \" digits...\"\n",
    "    for f in first:                                       #Select a starting digit\n",
    "        for m in it.product(middle, repeat=middle_digits):#Product generates permutations of middle digits with replacement\n",
    "            fm = f + ''.join(m)\n",
    "            if fm.count('*')<1: continue                  #Families must contain a * so we can skip all that don't\n",
    "            for l in last:                                #Select last digits\n",
    "                fml = fm + l                              #Create the family as a string\n",
    "                #print fml\n",
    "                count = 0                                 #Count will track the number of primes in the family\n",
    "                for x in range(10):                       #X will be our value that gets substitued into *\n",
    "                    if x == 0 and f == '*':continue       #This skips over any substitution where the first digit becomes 0\n",
    "                    num = int(fml.replace('*', str(x)))   #Replacement\n",
    "                    if isPrime(num): count+=1             #Increase the count if it's prime\n",
    "                if count > maximum:                       #Check to see if the family has more primes than the previous max\n",
    "                    answer051 = fml                       #Set the new max to the family\n",
    "                    maximum = count                       #Set the new max prime count\n",
    "                    #print answer051, maximum\n",
    "    middle_digits += 1                                    #Once we've checked all families we increase the number of digits\n",
    "    \n",
    "print \"Family, Size: \" + answer051, maximum\n",
    "time_elapsed = datetime.now() - start_time \n",
    "print('Time elapsed (hh:mm:ss.ms) {}'.format(time_elapsed))"
   ]
  },
  {
   "cell_type": "code",
   "execution_count": 26,
   "metadata": {},
   "outputs": [
    {
     "name": "stdout",
     "output_type": "stream",
     "text": [
      "142857\n"
     ]
    }
   ],
   "source": [
    "import itertools as it\n",
    "\n",
    "answer052 = 0\n",
    "multiples = 6\n",
    "\n",
    "for n in range(1000000):\n",
    "    if answer052 != 0: break\n",
    "    digits = list(str(n))\n",
    "    if digits[0] != '1': continue\n",
    "    digits = sorted(digits)\n",
    "    x = 2\n",
    "    while digits == sorted(list(str(x * n))):\n",
    "        x+=1\n",
    "    if x > multiples: answer052 = n\n",
    "    \n",
    "\n",
    "\n",
    "\n",
    "print answer052"
   ]
  },
  {
   "cell_type": "code",
   "execution_count": 30,
   "metadata": {},
   "outputs": [
    {
     "name": "stdout",
     "output_type": "stream",
     "text": [
      "4075\n"
     ]
    }
   ],
   "source": [
    "import math\n",
    "\n",
    "answer053 = 0\n",
    "\n",
    "def nCr(n, r):\n",
    "    f = math.factorial\n",
    "    return f(n) / f(n-r) / f(r)\n",
    "\n",
    "for n in range(1, 101):\n",
    "    for r in range(1, n):\n",
    "        if nCr(n, r) > 1000000: answer053+=1\n",
    "            \n",
    "print answer053"
   ]
  },
  {
   "cell_type": "code",
   "execution_count": 37,
   "metadata": {},
   "outputs": [
    {
     "ename": "IndexError",
     "evalue": "list assignment index out of range",
     "output_type": "error",
     "traceback": [
      "\u001b[1;31m\u001b[0m",
      "\u001b[1;31mIndexError\u001b[0mTraceback (most recent call last)",
      "\u001b[1;32m<ipython-input-37-1776356fe9f3>\u001b[0m in \u001b[0;36m<module>\u001b[1;34m()\u001b[0m\n\u001b[0;32m      5\u001b[0m \u001b[1;32mfor\u001b[0m \u001b[0mhand\u001b[0m \u001b[1;32min\u001b[0m \u001b[0mhands\u001b[0m\u001b[1;33m:\u001b[0m\u001b[1;33m\u001b[0m\u001b[0m\n\u001b[0;32m      6\u001b[0m     \u001b[0mh\u001b[0m \u001b[1;33m=\u001b[0m \u001b[1;33m[\u001b[0m\u001b[1;33m]\u001b[0m\u001b[1;33m\u001b[0m\u001b[0m\n\u001b[1;32m----> 7\u001b[1;33m     \u001b[0mh\u001b[0m\u001b[1;33m[\u001b[0m\u001b[1;36m0\u001b[0m\u001b[1;33m]\u001b[0m\u001b[1;33m,\u001b[0m \u001b[0mh\u001b[0m\u001b[1;33m[\u001b[0m\u001b[1;36m1\u001b[0m\u001b[1;33m]\u001b[0m \u001b[1;33m=\u001b[0m \u001b[0mhand\u001b[0m\u001b[1;33m[\u001b[0m\u001b[1;33m:\u001b[0m\u001b[1;36m5\u001b[0m\u001b[1;33m]\u001b[0m\u001b[1;33m,\u001b[0m \u001b[0mhand\u001b[0m\u001b[1;33m[\u001b[0m\u001b[1;36m5\u001b[0m\u001b[1;33m:\u001b[0m\u001b[1;33m]\u001b[0m\u001b[1;33m\u001b[0m\u001b[0m\n\u001b[0m\u001b[0;32m      8\u001b[0m     \u001b[1;32mprint\u001b[0m \u001b[0mh\u001b[0m\u001b[1;33m[\u001b[0m\u001b[1;36m0\u001b[0m\u001b[1;33m]\u001b[0m\u001b[1;33m,\u001b[0m \u001b[0mh\u001b[0m\u001b[1;33m[\u001b[0m\u001b[1;36m1\u001b[0m\u001b[1;33m]\u001b[0m\u001b[1;33m\u001b[0m\u001b[0m\n",
      "\u001b[1;31mIndexError\u001b[0m: list assignment index out of range"
     ]
    }
   ],
   "source": [
    "f = open('files/p054_poker.txt')\n",
    "hands = f.read()\n",
    "hands = [h.split(' ') for h in hands.split('\\n')]\n",
    "\n",
    "for hand in hands:\n",
    "    h[0], h[1] = hand[:5], hand[5:]\n",
    "    print h[0], h[1]"
   ]
  },
  {
   "cell_type": "code",
   "execution_count": null,
   "metadata": {},
   "outputs": [],
   "source": []
  }
 ],
 "metadata": {
  "kernelspec": {
   "display_name": "Python 2",
   "language": "python",
   "name": "python2"
  },
  "language_info": {
   "codemirror_mode": {
    "name": "ipython",
    "version": 2
   },
   "file_extension": ".py",
   "mimetype": "text/x-python",
   "name": "python",
   "nbconvert_exporter": "python",
   "pygments_lexer": "ipython2",
   "version": "2.7.14"
  }
 },
 "nbformat": 4,
 "nbformat_minor": 2
}
