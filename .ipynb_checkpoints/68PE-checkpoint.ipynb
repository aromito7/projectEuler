{
 "cells": [
  {
   "cell_type": "code",
   "execution_count": 31,
   "id": "881db064",
   "metadata": {},
   "outputs": [
    {
     "ename": "TypeError",
     "evalue": "'int' object is not iterable",
     "output_type": "error",
     "traceback": [
      "\u001b[1;31m---------------------------------------------------------------------------\u001b[0m",
      "\u001b[1;31mTypeError\u001b[0m                                 Traceback (most recent call last)",
      "\u001b[1;32m~\\AppData\\Local\\Temp/ipykernel_14956/2649023386.py\u001b[0m in \u001b[0;36m<module>\u001b[1;34m\u001b[0m\n\u001b[0;32m      9\u001b[0m     \u001b[0mprint\u001b[0m\u001b[1;33m(\u001b[0m\u001b[0msums\u001b[0m\u001b[1;33m)\u001b[0m\u001b[1;33m\u001b[0m\u001b[1;33m\u001b[0m\u001b[0m\n\u001b[0;32m     10\u001b[0m     \u001b[1;32mreturn\u001b[0m \u001b[1;33m(\u001b[0m\u001b[0mlen\u001b[0m\u001b[1;33m(\u001b[0m\u001b[0mset\u001b[0m\u001b[1;33m(\u001b[0m\u001b[0msums\u001b[0m\u001b[1;33m)\u001b[0m\u001b[1;33m)\u001b[0m\u001b[1;33m==\u001b[0m\u001b[1;36m1\u001b[0m\u001b[1;33m)\u001b[0m\u001b[1;33m\u001b[0m\u001b[1;33m\u001b[0m\u001b[0m\n\u001b[1;32m---> 11\u001b[1;33m \u001b[0mcheck\u001b[0m\u001b[1;33m(\u001b[0m\u001b[0mmatrix\u001b[0m\u001b[1;33m)\u001b[0m\u001b[1;33m\u001b[0m\u001b[1;33m\u001b[0m\u001b[0m\n\u001b[0m",
      "\u001b[1;32m~\\AppData\\Local\\Temp/ipykernel_14956/2649023386.py\u001b[0m in \u001b[0;36mcheck\u001b[1;34m(matrix)\u001b[0m\n\u001b[0;32m      5\u001b[0m \u001b[1;33m\u001b[0m\u001b[0m\n\u001b[0;32m      6\u001b[0m \u001b[1;32mdef\u001b[0m \u001b[0mcheck\u001b[0m\u001b[1;33m(\u001b[0m\u001b[0mmatrix\u001b[0m\u001b[1;33m)\u001b[0m\u001b[1;33m:\u001b[0m\u001b[1;33m\u001b[0m\u001b[1;33m\u001b[0m\u001b[0m\n\u001b[1;32m----> 7\u001b[1;33m     \u001b[0mmatrix\u001b[0m \u001b[1;33m=\u001b[0m \u001b[1;33m[\u001b[0m\u001b[1;33m[\u001b[0m\u001b[0mn\u001b[0m \u001b[1;32mfor\u001b[0m \u001b[0mn\u001b[0m \u001b[1;32min\u001b[0m \u001b[0mmatrix\u001b[0m\u001b[1;33m[\u001b[0m\u001b[0mm\u001b[0m\u001b[1;33m]\u001b[0m\u001b[1;33m]\u001b[0m\u001b[1;32mfor\u001b[0m \u001b[0mm\u001b[0m \u001b[1;32min\u001b[0m \u001b[0mlen\u001b[0m\u001b[1;33m(\u001b[0m\u001b[0mmatrix\u001b[0m\u001b[1;33m)\u001b[0m\u001b[1;33m]\u001b[0m\u001b[1;33m\u001b[0m\u001b[1;33m\u001b[0m\u001b[0m\n\u001b[0m\u001b[0;32m      8\u001b[0m     \u001b[0msums\u001b[0m \u001b[1;33m=\u001b[0m \u001b[1;33m[\u001b[0m\u001b[0msum\u001b[0m\u001b[1;33m(\u001b[0m\u001b[0mm\u001b[0m\u001b[1;33m)\u001b[0m \u001b[1;32mfor\u001b[0m \u001b[0mm\u001b[0m \u001b[1;32min\u001b[0m \u001b[0mmatrix\u001b[0m\u001b[1;33m]\u001b[0m\u001b[1;33m\u001b[0m\u001b[1;33m\u001b[0m\u001b[0m\n\u001b[0;32m      9\u001b[0m     \u001b[0mprint\u001b[0m\u001b[1;33m(\u001b[0m\u001b[0msums\u001b[0m\u001b[1;33m)\u001b[0m\u001b[1;33m\u001b[0m\u001b[1;33m\u001b[0m\u001b[0m\n",
      "\u001b[1;31mTypeError\u001b[0m: 'int' object is not iterable"
     ]
    }
   ],
   "source": [
    "answer_68 = 0\n",
    "\n",
    "nums = [i for i in range(10, 0, -1)]\n",
    "matrix = [[0 for i in range(3)] for j in range(5)]\n",
    "\n",
    "def check(matrix):\n",
    "    matrix = [[n for n in matrix[m]]for m in len(matrix)]\n",
    "    sums = [sum(m) for m in matrix]\n",
    "    print(sums)\n",
    "    return (len(set(sums))==1)\n",
    "check(matrix)"
   ]
  },
  {
   "cell_type": "code",
   "execution_count": 7,
   "id": "86b40030",
   "metadata": {},
   "outputs": [
    {
     "name": "stdout",
     "output_type": "stream",
     "text": [
      "[[9, 10], [7, 8], [5, 6], [3, 4], [1, 2]]\n"
     ]
    }
   ],
   "source": [
    "matrix = [[i+(j*2)+1 for i in range(2)] for j in range(4, -1, -1)]\n",
    "print(matrix)"
   ]
  },
  {
   "cell_type": "code",
   "execution_count": 42,
   "id": "4c753b94",
   "metadata": {},
   "outputs": [
    {
     "name": "stdout",
     "output_type": "stream",
     "text": [
      "14 19 [[0, 0], [0, 0], [0, 0], [0, 0], [0, 0]] [10, 9, 8, 7, 6, 5, 4, 3, 2, 1]\n",
      "[6, 5, 10, 3, 9, 1, 8, 4, 7, 2] 14\n",
      "[6, 3, 7, 5, 8, 2, 9, 4, 10, 1] 14\n",
      "[2, 10, 9, 4, 6, 3, 8, 7, 5, 1] 16\n",
      "[2, 9, 10, 5, 8, 1, 6, 7, 4, 3] 16\n",
      "[2, 8, 9, 7, 6, 1, 3, 10, 5, 4] 17\n",
      "[2, 7, 5, 8, 3, 4, 6, 10, 9, 1] 17\n",
      "[2, 5, 4, 9, 6, 3, 8, 7, 10, 1] 16\n",
      "[2, 4, 5, 10, 8, 1, 6, 7, 9, 3] 16\n",
      "[1, 10, 9, 6, 7, 2, 5, 8, 3, 4] 17\n",
      "[1, 10, 5, 8, 4, 6, 3, 9, 2, 7] 19\n",
      "[1, 8, 2, 10, 3, 7, 4, 9, 5, 6] 19\n",
      "[1, 6, 3, 10, 5, 4, 7, 8, 9, 2] 17\n",
      "2594936378711015\n"
     ]
    }
   ],
   "source": [
    "\n",
    "sides = 5\n",
    "row =  []\n",
    "matrix = [[0 for i in range(2)] for j in range(sides)]\n",
    "nums = [i for i in range(sides*2, 0, -1)]\n",
    "minimum = (5 * sides + 3)//2\n",
    "maximum = (7 * sides + 3)//2\n",
    "rows = []\n",
    "count = 0\n",
    "print(minimum, maximum, matrix, nums)\n",
    "\n",
    "def calculate(row):\n",
    "    length = len(row)\n",
    "    matrix = [row[i:i+2]+[row[i+3-length]] for i in range(0, length, 2)]\n",
    "    sums = set([sum(m) for m in matrix])\n",
    "    if len(sums) == 1:\n",
    "        print(matrix)\n",
    "        return True\n",
    "    return False\n",
    "\n",
    "def select_next(row, nums, first_total = 0, count = 0):\n",
    "    \n",
    "    length = len(row)\n",
    "    if length == 4:\n",
    "        temp = row[0] + row[1] + row[3]\n",
    "        if temp < minimum or temp > maximum: return count\n",
    "        first_total = temp\n",
    "    elif length > 2 and length % 2 == 0:\n",
    "        temp = row[-4] + row[-3] + row[-1]\n",
    "        if first_total != temp: return count\n",
    "        elif length == 2 * sides:\n",
    "            temp = row[-2] + row[-1] + row[1]\n",
    "            if first_total == temp:\n",
    "                rows.append(row)\n",
    "                print(row, first_total)\n",
    "    elif length % 2 == 1:\n",
    "        if row[-1] < row[0]: return count\n",
    "    \n",
    "    for num in nums:\n",
    "        remaining_nums = [n for n in nums if n != num]\n",
    "        count += 1\n",
    "        count += select_next(row+[num], remaining_nums, first_total, 0)\n",
    "    \n",
    "    return count\n",
    "select_next(row, nums)\n",
    "strings = []\n",
    "for row in rows:\n",
    "    string = \"\"\n",
    "    length = len(row)\n",
    "    for n in range(length * -1, 0, 2):\n",
    "        string += str(row[n]) + str(row[n+1]) + str(row[n+3])\n",
    "    strings += [string]\n",
    "strings = [s for s in strings if len(s) == 16]\n",
    "print(max(strings))"
   ]
  },
  {
   "cell_type": "code",
   "execution_count": 38,
   "id": "665bc363",
   "metadata": {},
   "outputs": [],
   "source": [
    "strings = []\n",
    "for row in rows:\n",
    "    string = \"\"\n",
    "    length = len(row)\n",
    "    for n in range(length * -1, 0, 2):\n",
    "        string += str(row[n]) + str(row[n+1]) + str(row[n+3])\n",
    "    strings += [string]\n",
    "strings = [s for s in strings if len(s) == 16]"
   ]
  },
  {
   "cell_type": "code",
   "execution_count": 41,
   "id": "efbb260b",
   "metadata": {},
   "outputs": [
    {
     "name": "stdout",
     "output_type": "stream",
     "text": [
      "['6531031914842725', '6357528249411013', '2951051817673439', '2594936378711015']\n"
     ]
    }
   ],
   "source": [
    "print(strings)"
   ]
  },
  {
   "cell_type": "code",
   "execution_count": 40,
   "id": "a684b588",
   "metadata": {},
   "outputs": [
    {
     "name": "stdout",
     "output_type": "stream",
     "text": [
      "2594936378711015\n"
     ]
    }
   ],
   "source": [
    "print(min(strings))"
   ]
  },
  {
   "cell_type": "code",
   "execution_count": null,
   "id": "47b30c0a",
   "metadata": {},
   "outputs": [],
   "source": []
  }
 ],
 "metadata": {
  "kernelspec": {
   "display_name": "Python 3",
   "language": "python",
   "name": "python3"
  },
  "language_info": {
   "codemirror_mode": {
    "name": "ipython",
    "version": 3
   },
   "file_extension": ".py",
   "mimetype": "text/x-python",
   "name": "python",
   "nbconvert_exporter": "python",
   "pygments_lexer": "ipython3",
   "version": "3.10.0"
  }
 },
 "nbformat": 4,
 "nbformat_minor": 5
}
