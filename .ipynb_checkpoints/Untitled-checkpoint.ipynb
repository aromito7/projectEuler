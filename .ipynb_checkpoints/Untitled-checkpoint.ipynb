{
 "cells": [
  {
   "cell_type": "code",
   "execution_count": 14,
   "id": "48e1f346",
   "metadata": {},
   "outputs": [
    {
     "name": "stdout",
     "output_type": "stream",
     "text": [
      "550\n"
     ]
    }
   ],
   "source": [
    "from random import randrange\n",
    "\n",
    "players = 8\n",
    "iterations = 10**6\n",
    "player_rolls = [0] * players\n",
    "count = 0\n",
    "roll = 1000\n",
    "\n",
    "for i in range(iterations):\n",
    "    player_rolls = sorted([randrange(roll) + 1 for p in range(players)])\n",
    "    if player_rolls[0] == 1 and player_rolls[1] == 2:\n",
    "        count += 1\n",
    "\n",
    "print(count)"
   ]
  },
  {
   "cell_type": "code",
   "execution_count": 15,
   "id": "ee7e37a1",
   "metadata": {},
   "outputs": [
    {
     "data": {
      "text/plain": [
       "5.5e-05"
      ]
     },
     "execution_count": 15,
     "metadata": {},
     "output_type": "execute_result"
    }
   ],
   "source": [
    "550/iterations"
   ]
  },
  {
   "cell_type": "code",
   "execution_count": null,
   "id": "9b864371",
   "metadata": {},
   "outputs": [],
   "source": []
  }
 ],
 "metadata": {
  "kernelspec": {
   "display_name": "Python 3",
   "language": "python",
   "name": "python3"
  },
  "language_info": {
   "codemirror_mode": {
    "name": "ipython",
    "version": 3
   },
   "file_extension": ".py",
   "mimetype": "text/x-python",
   "name": "python",
   "nbconvert_exporter": "python",
   "pygments_lexer": "ipython3",
   "version": "3.10.0"
  }
 },
 "nbformat": 4,
 "nbformat_minor": 5
}
