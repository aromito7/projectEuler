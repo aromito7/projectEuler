{
 "cells": [
  {
   "cell_type": "code",
   "execution_count": 63,
   "id": "c33a426d",
   "metadata": {},
   "outputs": [
    {
     "name": "stdout",
     "output_type": "stream",
     "text": [
      "['316289', '6890', '16890', '6890', '16289', '62890', '73162', '689', '73162', '3168', '3168', '7316890', '73162890', '7316890', '6289', '168', '16890', '689', '7316', '731', '7316', '7316289', '316', '7316289', '7316289', '7316890', '731689', '2890', '7316289', '6890', '3168', '31689', '162', '289', '162', '73168', '7316289', '316289', '73162890', '6890', '890', '3162', '316289', '7316890', '316', '7316289', '316890', '316289', '731628', '7316']\n",
      "['7316890', '73162890', '7316890', '7316890', '73162890', '7316890']\n"
     ]
    }
   ],
   "source": [
    "f = open(\"files/p079_keylog.txt\", \"r\")\n",
    "nums = f.readlines()\n",
    "nums = [num[:3] for num in nums]\n",
    "for num in nums:\n",
    "    n = num[0] + num[-1]\n",
    "    for i, v in enumerate(nums):\n",
    "        nums[i] = v.replace(n, num)\n",
    "    \n",
    "numbers = nums.copy()\n",
    "print(numbers)\n",
    "for i1, n1 in enumerate(nums):\n",
    "    for i2, n2 in enumerate(nums):\n",
    "        if len(n1) < len(n2) and n1 in n2 and n1 in numbers:\n",
    "            numbers.remove(n1)\n",
    "            \n",
    "length = max[len(num) for num in numbers]\n",
    "answer_079 = [num in numbers if len(num) == length]"
   ]
  },
  {
   "cell_type": "code",
   "execution_count": 50,
   "id": "8e9f6fb8",
   "metadata": {},
   "outputs": [
    {
     "name": "stdout",
     "output_type": "stream",
     "text": [
      "Hello\n"
     ]
    }
   ],
   "source": []
  },
  {
   "cell_type": "code",
   "execution_count": null,
   "id": "8c740a5d",
   "metadata": {},
   "outputs": [],
   "source": []
  }
 ],
 "metadata": {
  "kernelspec": {
   "display_name": "Python 3",
   "language": "python",
   "name": "python3"
  },
  "language_info": {
   "codemirror_mode": {
    "name": "ipython",
    "version": 3
   },
   "file_extension": ".py",
   "mimetype": "text/x-python",
   "name": "python",
   "nbconvert_exporter": "python",
   "pygments_lexer": "ipython3",
   "version": "3.10.0"
  }
 },
 "nbformat": 4,
 "nbformat_minor": 5
}
