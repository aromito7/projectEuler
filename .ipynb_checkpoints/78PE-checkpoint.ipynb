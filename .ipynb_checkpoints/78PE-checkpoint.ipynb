{
 "cells": [
  {
   "cell_type": "code",
   "execution_count": null,
   "id": "9c7d87aa",
   "metadata": {},
   "outputs": [
    {
     "name": "stdout",
     "output_type": "stream",
     "text": [
      "449 126891542690981418000\n",
      "518 6179690078238084808000\n",
      "599 435350207840317348270000\n",
      "699 57601805366500810491219000\n",
      "776 1973678121921532286407950000\n",
      "849 48238004505931946889525421000\n",
      "874 139740551884446204479331411000\n",
      "1199 44595993276923101114218051405894000\n",
      "1398 45847401702584520468158717245312104000\n",
      "1499 1287003125779035759903231323132670516000\n",
      "1684 439975902797452509721828685778957458838000\n",
      "1749 3169458542208911724615579730356050273697000\n",
      "1849 61706100832922923109471297093651456522575000\n",
      "1874 128020027044824211921357710559027384266649000\n",
      "1949 1111405941905549479818145590739116367242780000\n",
      "2124 147644157540568270666807354340091712330909224000\n",
      "2249 4301784299224742745702713528067084946594634381000\n",
      "2311 22138618005861522471365237940368652982888104075000\n",
      "2334 40429934840823983789090419362572880622618841036000\n",
      "2474 1486398217089027121199419785627770438512228407175000\n",
      "2499 2799278702412287477405614444445747930301938442180000\n",
      "2669 191257946838488171929061859780506198767987473407628000\n",
      "3009 610470441510964420538914957885561676747917768327603377000\n",
      "3123 8249011407839768326836785414310060638007337645918557603000\n",
      "3324 727085357810525099755096982641445928558611923775986976747000\n"
     ]
    }
   ],
   "source": [
    "answer_078 = 0\n",
    "remaining = 1\n",
    "width = remaining\n",
    "combos = {}\n",
    "\n",
    "def gen_combos(total, width, combos, depth = 1):\n",
    "    #print(total, width, depth)\n",
    "    if width == 1:\n",
    "        return 1\n",
    "    \n",
    "    remaining = total\n",
    "    count = 0\n",
    "    while remaining >= 0:\n",
    "        if str(remaining) not in combos:\n",
    "            combos[str(remaining)] = {}\n",
    "            \n",
    "            for i in range(remaining, 0 , -1):\n",
    "                temp = gen_combos(remaining, width-1, combos, depth+1)\n",
    "                combos[str(remaining)][str(width)] = temp\n",
    "                \n",
    "        if str(width) in combos[str(remaining)]:\n",
    "            count += combos[str(remaining)][str(width)]\n",
    "        else:\n",
    "            temp = gen_combos(remaining, width-1, combos, depth+1)\n",
    "            combos[str(remaining)][str(width)] = temp\n",
    "            count += temp\n",
    "        \n",
    "        remaining -= width\n",
    "    \n",
    "    return count\n",
    "\n",
    "temp = 0\n",
    "t = 0\n",
    "while remaining <= 10**7:\n",
    "    width = remaining\n",
    "    total = gen_combos(remaining, width, combos)\n",
    "    if total % (10**3) == 0: print(remaining, total)\n",
    "    remaining += 1"
   ]
  },
  {
   "cell_type": "code",
   "execution_count": 4,
   "id": "2cff0ae6",
   "metadata": {},
   "outputs": [
    {
     "name": "stdout",
     "output_type": "stream",
     "text": [
      "2 2\n",
      "3 5\n",
      "4 11\n",
      "5 29\n"
     ]
    }
   ],
   "source": [
    "answer_078 = 0\n",
    "remaining = 2\n",
    "width = remaining\n",
    "combos = {}\n",
    "\n",
    "def gen_combos(total, width, combos, depth = 1):\n",
    "    #print(total, width, depth)\n",
    "    if width == 1 or total == 0:\n",
    "        return 1\n",
    "    \n",
    "    \n",
    "    remaining = total\n",
    "    count = 0\n",
    "    \n",
    "    for w in range(width, 1, -1):\n",
    "        for r in range(remaining-w, -1, -w):\n",
    "            if str(r) not in combos:\n",
    "                combos[str(r)] = {}\n",
    "\n",
    "                for i in range(r, 0 , -1):\n",
    "                    temp = gen_combos(r, w-1, combos, depth+1)\n",
    "                    combos[str(r)][str(w)] = temp\n",
    "\n",
    "            if str(w) in combos[str(r)]:\n",
    "                count += combos[str(r)][str(w)]\n",
    "                break\n",
    "            else:\n",
    "                temp = gen_combos(r, w-1, combos, depth+1)\n",
    "                combos[str(r)][str(w)] = temp\n",
    "                count += temp\n",
    "        \n",
    "\n",
    "    \n",
    "    return count\n",
    "\n",
    "while remaining <= 5:\n",
    "    width = remaining\n",
    "    total = gen_combos(remaining, width, combos)\n",
    "    print(remaining, total)\n",
    "    remaining += 1"
   ]
  },
  {
   "cell_type": "code",
   "execution_count": 15,
   "id": "56409f9b",
   "metadata": {},
   "outputs": [
    {
     "ename": "IndentationError",
     "evalue": "expected an indented block after function definition on line 5 (Temp/ipykernel_8400/137042858.py, line 6)",
     "output_type": "error",
     "traceback": [
      "\u001b[1;36m  File \u001b[1;32m\"C:\\Users\\aromi\\AppData\\Local\\Temp/ipykernel_8400/137042858.py\"\u001b[1;36m, line \u001b[1;32m6\u001b[0m\n\u001b[1;33m    \u001b[0m\n\u001b[1;37m    ^\u001b[0m\n\u001b[1;31mIndentationError\u001b[0m\u001b[1;31m:\u001b[0m expected an indented block after function definition on line 5\n"
     ]
    }
   ],
   "source": [
    "total = 10\n",
    "width = 10\n",
    "combos = {}\n",
    "\n",
    "def gen_combos(total, width, combos, depth = 1):\n",
    "    count = 0\n",
    "    if\n",
    "    return count"
   ]
  },
  {
   "cell_type": "code",
   "execution_count": 16,
   "id": "f5ac1a1f",
   "metadata": {},
   "outputs": [
    {
     "name": "stdout",
     "output_type": "stream",
     "text": [
      "599 435350207840317348270000\n",
      "776 1973678121921532286407950000\n",
      "1949 1111405941905549479818145590739116367242780000\n",
      "2499 2799278702412287477405614444445747930301938442180000\n",
      "4989 139394460827435738062980791667870306712962231028211684865403855425847680000\n",
      "7964 46946915727876781856127008419055821287087129477585596911462248290973540050336597616913122710000\n",
      "8249 2627740579695764130902304593525366191064630713691990609706803605922231455108814753293657706290000\n",
      "11224 134664723242887520089229243811393012549783715496870074127499761107322501027469760957809248421625196998368711300000\n",
      "12499 403412920580611592954124404744392149054042308458713559692122368787243627421669656975003300471795613379666482814080180000\n",
      "12624 1669790505529636752511354942020962283943777368491005302659911649477274381403728148097335037916608012086637221975799210000\n",
      "14574 3023230991908581568928363906501639271939935875772000955326621702587696794760453659405017864587829790913886891883621070101089120000\n",
      "16274 114814749726743658295635419155852509883947735570645611096082049536805993146841827668092241206302619362884556671519375714560076012811510000\n",
      "18474 202508929841622639325038265943241478291605134132673991995861048046493141252368275052925013977524725246014279340874591062396245956837034282127420000\n",
      "19974 199399988119663071116686802640064761494541857146585743506807797070784032240609035353251428213279621024509463902742411689770791682068115953129951703730000\n",
      "22973 44204870878809422789315927803663243196056059968719444858893477401499271389976655386717570162251835087902153794714598500126270885636226081485619354512988347481460000\n"
     ]
    },
    {
     "ename": "KeyboardInterrupt",
     "evalue": "",
     "output_type": "error",
     "traceback": [
      "\u001b[1;31m---------------------------------------------------------------------------\u001b[0m",
      "\u001b[1;31mKeyboardInterrupt\u001b[0m                         Traceback (most recent call last)",
      "\u001b[1;32m~\\AppData\\Local\\Temp/ipykernel_17260/2435060784.py\u001b[0m in \u001b[0;36m<module>\u001b[1;34m\u001b[0m\n\u001b[0;32m     17\u001b[0m             \u001b[0mtemp\u001b[0m \u001b[1;33m=\u001b[0m \u001b[0mcombos\u001b[0m\u001b[1;33m[\u001b[0m\u001b[0mstr\u001b[0m\u001b[1;33m(\u001b[0m\u001b[0mcoins\u001b[0m\u001b[1;33m-\u001b[0m\u001b[0madd\u001b[0m\u001b[1;33m)\u001b[0m\u001b[1;33m]\u001b[0m\u001b[1;33m[\u001b[0m\u001b[0mstr\u001b[0m\u001b[1;33m(\u001b[0m\u001b[0madd\u001b[0m\u001b[1;33m)\u001b[0m\u001b[1;33m]\u001b[0m\u001b[1;33m\u001b[0m\u001b[1;33m\u001b[0m\u001b[0m\n\u001b[0;32m     18\u001b[0m             \u001b[0mtotal\u001b[0m \u001b[1;33m+=\u001b[0m \u001b[0mtemp\u001b[0m\u001b[1;33m\u001b[0m\u001b[1;33m\u001b[0m\u001b[0m\n\u001b[1;32m---> 19\u001b[1;33m             \u001b[0mcombos\u001b[0m\u001b[1;33m[\u001b[0m\u001b[0mstr\u001b[0m\u001b[1;33m(\u001b[0m\u001b[0mcoins\u001b[0m\u001b[1;33m)\u001b[0m\u001b[1;33m]\u001b[0m\u001b[1;33m[\u001b[0m\u001b[0mstr\u001b[0m\u001b[1;33m(\u001b[0m\u001b[0madd\u001b[0m\u001b[1;33m)\u001b[0m\u001b[1;33m]\u001b[0m \u001b[1;33m=\u001b[0m \u001b[0mtotal\u001b[0m\u001b[1;33m\u001b[0m\u001b[1;33m\u001b[0m\u001b[0m\n\u001b[0m\u001b[0;32m     20\u001b[0m \u001b[1;33m\u001b[0m\u001b[0m\n\u001b[0;32m     21\u001b[0m     \u001b[0manswer_078\u001b[0m \u001b[1;33m=\u001b[0m \u001b[0mcombos\u001b[0m\u001b[1;33m[\u001b[0m\u001b[0mstr\u001b[0m\u001b[1;33m(\u001b[0m\u001b[0mcoins\u001b[0m\u001b[1;33m)\u001b[0m\u001b[1;33m]\u001b[0m\u001b[1;33m[\u001b[0m\u001b[1;34m\"1\"\u001b[0m\u001b[1;33m]\u001b[0m\u001b[1;33m\u001b[0m\u001b[1;33m\u001b[0m\u001b[0m\n",
      "\u001b[1;31mKeyboardInterrupt\u001b[0m: "
     ]
    }
   ],
   "source": [
    "answer_078 = 0\n",
    "start = 1\n",
    "end = 30000\n",
    "width = limit\n",
    "combos = {}\n",
    "for coins in range(start, end):\n",
    "    if str(coins) not in combos:\n",
    "        combos[str(coins)] = {}\n",
    "        total = 1\n",
    "        combos[str(coins)][str(coins)] = total\n",
    "\n",
    "        #for c in range(coins-1, 0, -1):\n",
    "        for n in range(coins//2, coins//3, -1):\n",
    "            total += 1\n",
    "            combos[str(coins)][str(n)] = total\n",
    "        for add in range(coins//3, 0, -1):\n",
    "            #print(coins, coins-add, add)\n",
    "            temp = combos[str(coins-add)][str(add)]\n",
    "            total += temp\n",
    "            combos[str(coins)][str(add)] = total\n",
    "            \n",
    "    answer_078 = combos[str(coins)][\"1\"]\n",
    "    #print(coins, answer_078)\n",
    "    if answer_078 % (10**4) == 0: \n",
    "        print(coins, answer_078)\n",
    "        if answer_078 % (10**6) == 0: break"
   ]
  },
  {
   "cell_type": "code",
   "execution_count": 14,
   "id": "e2c4879f",
   "metadata": {},
   "outputs": [
    {
     "name": "stdout",
     "output_type": "stream",
     "text": [
      "55375\n"
     ]
    }
   ],
   "source": [
    "combos = [0, 1]\n",
    "\n",
    "for num in range(2, 10**6):\n",
    "    total = 0\n",
    "    n = num\n",
    "    for delta in range(1, 10**6):\n",
    "        d = delta\n",
    "        if delta %2 == 0: d//=2\n",
    "        n -= d\n",
    "        if n < 1: break\n",
    "        total += (-1)**((delta-1%4)//2)*combos[n]\n",
    "    combos += [total]\n",
    "    if total%(1000000) == 0:\n",
    "        print(num-1)\n",
    "        break"
   ]
  },
  {
   "cell_type": "code",
   "execution_count": null,
   "id": "b3847fcd",
   "metadata": {},
   "outputs": [],
   "source": []
  },
  {
   "cell_type": "code",
   "execution_count": null,
   "id": "0567efbc",
   "metadata": {},
   "outputs": [],
   "source": []
  }
 ],
 "metadata": {
  "kernelspec": {
   "display_name": "Python 3",
   "language": "python",
   "name": "python3"
  },
  "language_info": {
   "codemirror_mode": {
    "name": "ipython",
    "version": 3
   },
   "file_extension": ".py",
   "mimetype": "text/x-python",
   "name": "python",
   "nbconvert_exporter": "python",
   "pygments_lexer": "ipython3",
   "version": "3.10.0"
  }
 },
 "nbformat": 4,
 "nbformat_minor": 5
}
