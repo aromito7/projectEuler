{
 "cells": [
  {
   "cell_type": "code",
   "execution_count": 39,
   "id": "afaaecab",
   "metadata": {},
   "outputs": [
    {
     "name": "stdout",
     "output_type": "stream",
     "text": [
      "2 / 5 , gcd = 1\n",
      "3 / 7 , gcd = 1\n",
      "3 / 8 , gcd = 1\n",
      "4 / 9 , gcd = 1\n",
      "4 / 10 , gcd = 2\n",
      "4 / 11 , gcd = 1\n",
      "5 / 11 , gcd = 1\n",
      "5 / 12 , gcd = 1\n",
      "{'411', '25', '511', '512', '38', '49', '37'}\n"
     ]
    }
   ],
   "source": [
    "from files.fraction import gcd\n",
    "maximum = 1/2\n",
    "minimum = 1/3\n",
    "length = 12\n",
    "answer_73 = set('')\n",
    "\n",
    "for den in range(2, length+1):\n",
    "    for num in range(int(minimum * den)+1, int(maximum * den + .999999), 1):\n",
    "        #print(\"{} / {} , gcd = {}\".format(num, den, gcd(num, den)))\n",
    "        temp = gcd(num, den)\n",
    "        n = num // temp\n",
    "        d = den // temp\n",
    "        answer_73.add(str(n)+str(d))\n",
    "\n",
    "print(len(answer_73))"
   ]
  },
  {
   "cell_type": "code",
   "execution_count": null,
   "id": "90f28690",
   "metadata": {},
   "outputs": [],
   "source": []
  }
 ],
 "metadata": {
  "kernelspec": {
   "display_name": "Python 3",
   "language": "python",
   "name": "python3"
  },
  "language_info": {
   "codemirror_mode": {
    "name": "ipython",
    "version": 3
   },
   "file_extension": ".py",
   "mimetype": "text/x-python",
   "name": "python",
   "nbconvert_exporter": "python",
   "pygments_lexer": "ipython3",
   "version": "3.10.0"
  }
 },
 "nbformat": 4,
 "nbformat_minor": 5
}
