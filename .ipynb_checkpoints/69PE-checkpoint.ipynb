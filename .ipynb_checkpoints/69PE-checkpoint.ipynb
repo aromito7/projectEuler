{
 "cells": [
  {
   "cell_type": "code",
   "execution_count": 3,
   "id": "e00291db",
   "metadata": {},
   "outputs": [],
   "source": [
    "answer_69 = 2 * 3 * 5 * 7 * 11 * 13 * 17"
   ]
  },
  {
   "cell_type": "code",
   "execution_count": null,
   "id": "0969efd0",
   "metadata": {},
   "outputs": [],
   "source": []
  }
 ],
 "metadata": {
  "kernelspec": {
   "display_name": "Python 3",
   "language": "python",
   "name": "python3"
  },
  "language_info": {
   "codemirror_mode": {
    "name": "ipython",
    "version": 3
   },
   "file_extension": ".py",
   "mimetype": "text/x-python",
   "name": "python",
   "nbconvert_exporter": "python",
   "pygments_lexer": "ipython3",
   "version": "3.10.0"
  }
 },
 "nbformat": 4,
 "nbformat_minor": 5
}
