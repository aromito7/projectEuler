{
 "cells": [
  {
   "cell_type": "code",
   "execution_count": null,
   "id": "9c46355c",
   "metadata": {},
   "outputs": [],
   "source": [
    "x,y = 5,10\n",
    "\n",
    "n = x + y - 2\n",
    "tri = n*(n+1)//2\n",
    "output = str(tri + x)\n",
    "\n",
    "print(output)"
   ]
  }
 ],
 "metadata": {
  "kernelspec": {
   "display_name": "Python 3",
   "language": "python",
   "name": "python3"
  },
  "language_info": {
   "codemirror_mode": {
    "name": "ipython",
    "version": 3
   },
   "file_extension": ".py",
   "mimetype": "text/x-python",
   "name": "python",
   "nbconvert_exporter": "python",
   "pygments_lexer": "ipython3",
   "version": "3.10.0"
  }
 },
 "nbformat": 4,
 "nbformat_minor": 5
}
