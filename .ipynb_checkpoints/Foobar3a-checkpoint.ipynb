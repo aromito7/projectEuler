{
 "cells": [
  {
   "cell_type": "code",
   "execution_count": 52,
   "id": "89d4dca1",
   "metadata": {},
   "outputs": [
    {
     "data": {
      "text/plain": [
       "'40986044'"
      ]
     },
     "execution_count": 52,
     "metadata": {},
     "output_type": "execute_result"
    }
   ],
   "source": [
    "def solution(x, y):\n",
    "    # Your code here\n",
    "    x, y = int(x), int(y)\n",
    "    output = 0\n",
    "    while x > 1 and y > 1:\n",
    "        if x > y: \n",
    "            x-=y\n",
    "        else: \n",
    "            y-=x\n",
    "        \n",
    "        output+=1\n",
    "    if x > 0 and y > 0 :\n",
    "        return str(output+x+y-2)\n",
    "    else:\n",
    "        return 'impossible'\n",
    "    \n",
    "solution('2947312374812340798', '120798340957832213414356223')"
   ]
  },
  {
   "cell_type": "code",
   "execution_count": 56,
   "id": "90f702c3",
   "metadata": {},
   "outputs": [
    {
     "data": {
      "text/plain": [
       "'impossible'"
      ]
     },
     "execution_count": 56,
     "metadata": {},
     "output_type": "execute_result"
    }
   ],
   "source": [
    "def solution(x, y):\n",
    "    # Your code here\n",
    "    x, y = int(x), int(y)\n",
    "    output = 0\n",
    "    while x > 1 and y > 1:\n",
    "        if x > y:\n",
    "            output+= x//y\n",
    "            x%=y\n",
    "        else: \n",
    "            output+=y//x\n",
    "            y%=x\n",
    "        \n",
    "    if x > 0 and y > 0 :\n",
    "        return str(output+x+y-2)\n",
    "    else:\n",
    "        return 'impossible'\n",
    "    \n",
    "solution('2947312374812340798', '120798340957832213414356223')"
   ]
  },
  {
   "cell_type": "code",
   "execution_count": null,
   "id": "2d61b4ee",
   "metadata": {},
   "outputs": [],
   "source": []
  }
 ],
 "metadata": {
  "kernelspec": {
   "display_name": "Python 3",
   "language": "python",
   "name": "python3"
  },
  "language_info": {
   "codemirror_mode": {
    "name": "ipython",
    "version": 3
   },
   "file_extension": ".py",
   "mimetype": "text/x-python",
   "name": "python",
   "nbconvert_exporter": "python",
   "pygments_lexer": "ipython3",
   "version": "3.10.0"
  }
 },
 "nbformat": 4,
 "nbformat_minor": 5
}
