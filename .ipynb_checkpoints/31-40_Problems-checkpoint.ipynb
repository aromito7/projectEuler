{
 "cells": [
  {
   "cell_type": "code",
   "execution_count": 71,
   "metadata": {},
   "outputs": [
    {
     "name": "stdout",
     "output_type": "stream",
     "text": [
      "0\n"
     ]
    }
   ],
   "source": [
    "answer031 = 0\n",
    "\n",
    "coins = [1, 2, 5, 10, 20, 50, 100, 200][::-1]\n",
    "\n",
    "target = 200\n",
    "\n",
    "def combinations(current, coins):\n",
    "    coin = coins[0]\n",
    "    if coin == coins[-1]:\n",
    "        global answer031 \n",
    "        answer031 +=1\n",
    "    else:\n",
    "        while current <= target :\n",
    "            combinations(current, coins[1:])\n",
    "            current+=coin\n",
    "    \n",
    "    \n",
    "\n",
    "combinations(0, coins)\n",
    "print answer031"
   ]
  },
  {
   "cell_type": "code",
   "execution_count": 35,
   "metadata": {},
   "outputs": [
    {
     "name": "stdout",
     "output_type": "stream",
     "text": [
      "45228\n"
     ]
    }
   ],
   "source": [
    "import itertools\n",
    "products = set()\n",
    "\n",
    "digits = '123456789'\n",
    "\n",
    "for n in itertools.permutations(digits):\n",
    "    n = ''.join(n)\n",
    "    \n",
    "    #breaks in the string of digits\n",
    "    breaks = [[2,5], [1, 5], [1,6]]\n",
    "    \n",
    "    for b in breaks:\n",
    "        b1, b2 = b\n",
    "        if int(n[:b1]) * int(n[b1:b2]) == int(n[b2:]):\n",
    "            products.add(int(n[b2:]))\n",
    "    \n",
    "\n",
    "answer032 = sum(products)\n",
    "print answer032"
   ]
  },
  {
   "cell_type": "code",
   "execution_count": 72,
   "metadata": {},
   "outputs": [
    {
     "name": "stdout",
     "output_type": "stream",
     "text": [
      "100.0\n"
     ]
    }
   ],
   "source": [
    "answer033 = 1\n",
    "\n",
    "for numer in range(10, 100):\n",
    "    for denom in range(numer + 1, 100):\n",
    "        if numer%10 == 0 or denom%10 == 0 or numer%11==0:\n",
    "            continue;\n",
    "        x = numer *1. /denom\n",
    "        y = (numer/10) * 1. / (denom%10)\n",
    "        if x == y and numer%10 == denom/10:\n",
    "            answer033 *= (denom%10 *1.)/ (numer/10)\n",
    "            \n",
    "\n",
    "\n",
    "print answer033"
   ]
  },
  {
   "cell_type": "code",
   "execution_count": 70,
   "metadata": {},
   "outputs": [
    {
     "name": "stdout",
     "output_type": "stream",
     "text": [
      "40730\n"
     ]
    }
   ],
   "source": [
    "from math import *\n",
    "\n",
    "answer034 = 0\n",
    "for x in range(3, factorial(9)*10):\n",
    "    num = str(x)\n",
    "    nums = [factorial(int(n)) for n in list(num)]\n",
    "    if x == sum(nums):\n",
    "        answer034 += x\n",
    "    \n",
    "print answer034"
   ]
  },
  {
   "cell_type": "code",
   "execution_count": null,
   "metadata": {
    "collapsed": true
   },
   "outputs": [],
   "source": []
  }
 ],
 "metadata": {
  "kernelspec": {
   "display_name": "Python 2",
   "language": "python",
   "name": "python2"
  },
  "language_info": {
   "codemirror_mode": {
    "name": "ipython",
    "version": 2
   },
   "file_extension": ".py",
   "mimetype": "text/x-python",
   "name": "python",
   "nbconvert_exporter": "python",
   "pygments_lexer": "ipython2",
   "version": "2.7.14"
  }
 },
 "nbformat": 4,
 "nbformat_minor": 2
}
