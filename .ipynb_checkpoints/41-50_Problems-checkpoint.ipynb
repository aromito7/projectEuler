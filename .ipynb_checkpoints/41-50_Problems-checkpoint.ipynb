{
 "cells": [
  {
   "cell_type": "code",
   "execution_count": 13,
   "metadata": {},
   "outputs": [
    {
     "name": "stdout",
     "output_type": "stream",
     "text": [
      "7652413\n"
     ]
    }
   ],
   "source": [
    "from itertools import *\n",
    "answer041 = 0\n",
    "digits = '1234567'\n",
    "\n",
    "def isPrime(num):\n",
    "    for n in range(2, int((1+num**(.5))/1)):\n",
    "        if num%n == 0: return False\n",
    "    return True\n",
    "\n",
    "for permutation in permutations(digits):\n",
    "    num = int(''.join(permutation))\n",
    "    if isPrime(num):\n",
    "        answer041 = num\n",
    "\n",
    "print answer041\n"
   ]
  },
  {
   "cell_type": "code",
   "execution_count": 54,
   "metadata": {},
   "outputs": [
    {
     "name": "stdout",
     "output_type": "stream",
     "text": [
      "162\n"
     ]
    }
   ],
   "source": [
    "import numpy as np\n",
    "\n",
    "def isTriangle(num):\n",
    "    root = num**(.5)\n",
    "    factor1 = int(root)\n",
    "    factor2 = factor1 + 1\n",
    "    \n",
    "    return num == factor1 * factor2\n",
    "\n",
    "answer042 = 0\n",
    "\n",
    "f = open('files/p042_words.txt')\n",
    "words = f.read()\n",
    "words = words.split(',')\n",
    "\n",
    "for word in words:\n",
    "    word = word[1:-1]\n",
    "    total = 0\n",
    "    for char in word:\n",
    "        total += ord(char)-64\n",
    "    if isTriangle(total*2): answer042+=1\n",
    "print answer042"
   ]
  },
  {
   "cell_type": "code",
   "execution_count": 68,
   "metadata": {},
   "outputs": [
    {
     "name": "stdout",
     "output_type": "stream",
     "text": [
      "16695334890\n"
     ]
    }
   ],
   "source": [
    "from itertools import *\n",
    "\n",
    "answer043 = 0\n",
    "digits = '0123456789'\n",
    "primes = [2, 3, 5, 7, 11, 13, 17]\n",
    "\n",
    "def check(num):\n",
    "    for n in range(len(primes)):\n",
    "        x = num[1+n: 4+n]\n",
    "        if int(x)%primes[n] != 0: return False\n",
    "    return True\n",
    "\n",
    "for perm in permutations(digits):\n",
    "    if perm[0] == '0': continue\n",
    "    perm = (''.join(perm))\n",
    "    if check(perm): answer043 += int(perm)\n",
    "        \n",
    "print answer043"
   ]
  },
  {
   "cell_type": "code",
   "execution_count": 92,
   "metadata": {},
   "outputs": [
    {
     "name": "stdout",
     "output_type": "stream",
     "text": [
      "5482660\n"
     ]
    }
   ],
   "source": [
    "answer044 = 0\n",
    "count = 1\n",
    "\n",
    "def isPentagonal(num):\n",
    "    n = num\n",
    "    n *= 2./3\n",
    "    n **= .5\n",
    "    n = int(n)+1\n",
    "    return num == n*((3*n)-1)/2\n",
    "\n",
    "pents = []\n",
    "\n",
    "while answer044 == 0:\n",
    "    current = count * ( (3 * count ) - 1) /2\n",
    "    pents.append(current)\n",
    "    count+=1\n",
    "    \n",
    "    for pent in pents[:-1]:\n",
    "        if isPentagonal(current + pent) and isPentagonal(current + pent * 2):\n",
    "            answer044 = current\n",
    "\n",
    "    \n",
    "print answer044"
   ]
  },
  {
   "cell_type": "code",
   "execution_count": 6,
   "metadata": {},
   "outputs": [
    {
     "name": "stdout",
     "output_type": "stream",
     "text": [
      "1533776805\n"
     ]
    }
   ],
   "source": [
    "answer045 = 0\n",
    "\n",
    "triangles = []\n",
    "pentagons = []\n",
    "hexagons = []\n",
    "\n",
    "n = 1\n",
    "\n",
    "def isPentagonal(num):\n",
    "    x = num\n",
    "    x *= 2./3\n",
    "    x **= .5\n",
    "    x = int(x)+1\n",
    "    return num == x*((3*x)-1)/2\n",
    "\n",
    "def isTriangular(num):\n",
    "    num*=2\n",
    "    root = num**(.5)\n",
    "    factor1 = int(root)\n",
    "    factor2 = factor1 + 1\n",
    "    return num == factor1 * factor2\n",
    "\n",
    "while answer045 <= 40755:\n",
    "    hexagon = n * ((2 * n) - 1)\n",
    "    if isPentagonal(hexagon) and isTriangular(hexagon):\n",
    "        answer045 = hexagon\n",
    "    n+=1\n",
    "    \n",
    "print answer045"
   ]
  },
  {
   "cell_type": "code",
   "execution_count": 47,
   "metadata": {},
   "outputs": [
    {
     "name": "stdout",
     "output_type": "stream",
     "text": [
      "5777\n"
     ]
    }
   ],
   "source": [
    "answer046 = 0\n",
    "\n",
    "current = 1\n",
    "\n",
    "def isPrime(num):\n",
    "    if num == 1: return False\n",
    "    for n in range(2, int(1 + num**.5)):\n",
    "        if num%n==0: return False\n",
    "    return True\n",
    "\n",
    "def isTwiceSquare(num):\n",
    "    n = num/2\n",
    "    n **= .5\n",
    "    return n%1==.0\n",
    "    \n",
    "while answer046 == 0:\n",
    "    current+=2\n",
    "    temp = False\n",
    "    if isPrime(current): continue\n",
    "    for i in range(1, current):\n",
    "        if (isPrime(i) and isTwiceSquare(current-i)):\n",
    "            temp = True\n",
    "            break\n",
    "        elif (isPrime(current-i) and isTwiceSquare(i)):\n",
    "            temp = True\n",
    "            break\n",
    "    if temp: continue\n",
    "    answer046 = current\n",
    "\n",
    "print answer046"
   ]
  },
  {
   "cell_type": "code",
   "execution_count": 67,
   "metadata": {},
   "outputs": [
    {
     "name": "stdout",
     "output_type": "stream",
     "text": [
      "134043\n"
     ]
    }
   ],
   "source": [
    "answer047 = 0\n",
    "\n",
    "count = 0\n",
    "target = 4\n",
    "x = 2\n",
    "\n",
    "def numPrimeFactors(num):\n",
    "    factors = 0\n",
    "    n = 1\n",
    "    \n",
    "    while n <= num:\n",
    "        n+=1\n",
    "        if num%n==0:\n",
    "            factors+=1\n",
    "            while num%n==0:\n",
    "                num/=n\n",
    "        \n",
    "    return factors\n",
    "\n",
    "while count < target:\n",
    "    x+=1\n",
    "    if numPrimeFactors(x) == target:count+=1\n",
    "    else: count=0\n",
    "    \n",
    "answer047=x-(target-1)\n",
    "\n",
    "print answer047"
   ]
  },
  {
   "cell_type": "code",
   "execution_count": 78,
   "metadata": {},
   "outputs": [
    {
     "name": "stdout",
     "output_type": "stream",
     "text": [
      "9110846700\n"
     ]
    }
   ],
   "source": [
    "answer048 = 0\n",
    "\n",
    "\n",
    "for n in range(1, 1001):\n",
    "    answer048 += (n**n)%(10**10)\n",
    "\n",
    "answer048%=(10**10)\n",
    "\n",
    "print answer048"
   ]
  },
  {
   "cell_type": "code",
   "execution_count": 81,
   "metadata": {},
   "outputs": [
    {
     "name": "stdout",
     "output_type": "stream",
     "text": [
      "('1', '3', '5', '7')\n",
      "('1', '3', '5', '9')\n",
      "('1', '3', '7', '5')\n",
      "('1', '3', '7', '9')\n",
      "('1', '3', '9', '5')\n",
      "('1', '3', '9', '7')\n",
      "('1', '5', '3', '7')\n",
      "('1', '5', '3', '9')\n",
      "('1', '5', '7', '3')\n",
      "('1', '5', '7', '9')\n",
      "('1', '5', '9', '3')\n",
      "('1', '5', '9', '7')\n",
      "('1', '7', '3', '5')\n",
      "('1', '7', '3', '9')\n",
      "('1', '7', '5', '3')\n",
      "('1', '7', '5', '9')\n",
      "('1', '7', '9', '3')\n",
      "('1', '7', '9', '5')\n",
      "('1', '9', '3', '5')\n",
      "('1', '9', '3', '7')\n",
      "('1', '9', '5', '3')\n",
      "('1', '9', '5', '7')\n",
      "('1', '9', '7', '3')\n",
      "('1', '9', '7', '5')\n",
      "('3', '1', '5', '7')\n",
      "('3', '1', '5', '9')\n",
      "('3', '1', '7', '5')\n",
      "('3', '1', '7', '9')\n",
      "('3', '1', '9', '5')\n",
      "('3', '1', '9', '7')\n",
      "('3', '5', '1', '7')\n",
      "('3', '5', '1', '9')\n",
      "('3', '5', '7', '1')\n",
      "('3', '5', '7', '9')\n",
      "('3', '5', '9', '1')\n",
      "('3', '5', '9', '7')\n",
      "('3', '7', '1', '5')\n",
      "('3', '7', '1', '9')\n",
      "('3', '7', '5', '1')\n",
      "('3', '7', '5', '9')\n",
      "('3', '7', '9', '1')\n",
      "('3', '7', '9', '5')\n",
      "('3', '9', '1', '5')\n",
      "('3', '9', '1', '7')\n",
      "('3', '9', '5', '1')\n",
      "('3', '9', '5', '7')\n",
      "('3', '9', '7', '1')\n",
      "('3', '9', '7', '5')\n",
      "('5', '1', '3', '7')\n",
      "('5', '1', '3', '9')\n",
      "('5', '1', '7', '3')\n",
      "('5', '1', '7', '9')\n",
      "('5', '1', '9', '3')\n",
      "('5', '1', '9', '7')\n",
      "('5', '3', '1', '7')\n",
      "('5', '3', '1', '9')\n",
      "('5', '3', '7', '1')\n",
      "('5', '3', '7', '9')\n",
      "('5', '3', '9', '1')\n",
      "('5', '3', '9', '7')\n",
      "('5', '7', '1', '3')\n",
      "('5', '7', '1', '9')\n",
      "('5', '7', '3', '1')\n",
      "('5', '7', '3', '9')\n",
      "('5', '7', '9', '1')\n",
      "('5', '7', '9', '3')\n",
      "('5', '9', '1', '3')\n",
      "('5', '9', '1', '7')\n",
      "('5', '9', '3', '1')\n",
      "('5', '9', '3', '7')\n",
      "('5', '9', '7', '1')\n",
      "('5', '9', '7', '3')\n",
      "('7', '1', '3', '5')\n",
      "('7', '1', '3', '9')\n",
      "('7', '1', '5', '3')\n",
      "('7', '1', '5', '9')\n",
      "('7', '1', '9', '3')\n",
      "('7', '1', '9', '5')\n",
      "('7', '3', '1', '5')\n",
      "('7', '3', '1', '9')\n",
      "('7', '3', '5', '1')\n",
      "('7', '3', '5', '9')\n",
      "('7', '3', '9', '1')\n",
      "('7', '3', '9', '5')\n",
      "('7', '5', '1', '3')\n",
      "('7', '5', '1', '9')\n",
      "('7', '5', '3', '1')\n",
      "('7', '5', '3', '9')\n",
      "('7', '5', '9', '1')\n",
      "('7', '5', '9', '3')\n",
      "('7', '9', '1', '3')\n",
      "('7', '9', '1', '5')\n",
      "('7', '9', '3', '1')\n",
      "('7', '9', '3', '5')\n",
      "('7', '9', '5', '1')\n",
      "('7', '9', '5', '3')\n",
      "('9', '1', '3', '5')\n",
      "('9', '1', '3', '7')\n",
      "('9', '1', '5', '3')\n",
      "('9', '1', '5', '7')\n",
      "('9', '1', '7', '3')\n",
      "('9', '1', '7', '5')\n",
      "('9', '3', '1', '5')\n",
      "('9', '3', '1', '7')\n",
      "('9', '3', '5', '1')\n",
      "('9', '3', '5', '7')\n",
      "('9', '3', '7', '1')\n",
      "('9', '3', '7', '5')\n",
      "('9', '5', '1', '3')\n",
      "('9', '5', '1', '7')\n",
      "('9', '5', '3', '1')\n",
      "('9', '5', '3', '7')\n",
      "('9', '5', '7', '1')\n",
      "('9', '5', '7', '3')\n",
      "('9', '7', '1', '3')\n",
      "('9', '7', '1', '5')\n",
      "('9', '7', '3', '1')\n",
      "('9', '7', '3', '5')\n",
      "('9', '7', '5', '1')\n",
      "('9', '7', '5', '3')\n"
     ]
    }
   ],
   "source": [
    "from itertools import *\n",
    "answer049 = 0\n",
    "digits = ['1', '3', '5', '7', '9']\n",
    "\n",
    "nums = [int(''.join(p)) for p in permutations(digits,4)]\n",
    "\n",
    "for p in permutations(digits, 4):\n",
    "    print p"
   ]
  },
  {
   "cell_type": "code",
   "execution_count": null,
   "metadata": {},
   "outputs": [],
   "source": [
    "nums"
   ]
  }
 ],
 "metadata": {
  "kernelspec": {
   "display_name": "Python 2",
   "language": "python",
   "name": "python2"
  },
  "language_info": {
   "codemirror_mode": {
    "name": "ipython",
    "version": 2
   },
   "file_extension": ".py",
   "mimetype": "text/x-python",
   "name": "python",
   "nbconvert_exporter": "python",
   "pygments_lexer": "ipython2",
   "version": "2.7.14"
  }
 },
 "nbformat": 4,
 "nbformat_minor": 2
}
