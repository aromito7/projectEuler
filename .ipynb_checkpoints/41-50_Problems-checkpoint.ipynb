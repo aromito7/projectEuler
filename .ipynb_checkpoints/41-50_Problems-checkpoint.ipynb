{
 "cells": [
  {
   "cell_type": "code",
   "execution_count": 13,
   "metadata": {},
   "outputs": [
    {
     "name": "stdout",
     "output_type": "stream",
     "text": [
      "7652413\n"
     ]
    }
   ],
   "source": [
    "from itertools import *\n",
    "answer041 = 0\n",
    "digits = '1234567'\n",
    "\n",
    "def isPrime(num):\n",
    "    for n in range(2, int((1+num**(.5))/1)):\n",
    "        if num%n == 0: return False\n",
    "    return True\n",
    "\n",
    "for permutation in permutations(digits):\n",
    "    num = int(''.join(permutation))\n",
    "    if isPrime(num):\n",
    "        answer041 = num\n",
    "\n",
    "print answer041\n"
   ]
  },
  {
   "cell_type": "code",
   "execution_count": 54,
   "metadata": {},
   "outputs": [
    {
     "name": "stdout",
     "output_type": "stream",
     "text": [
      "162\n"
     ]
    }
   ],
   "source": [
    "import numpy as np\n",
    "\n",
    "def isTriangle(num):\n",
    "    root = num**(.5)\n",
    "    factor1 = int(root)\n",
    "    factor2 = factor1 + 1\n",
    "    \n",
    "    return num == factor1 * factor2\n",
    "\n",
    "answer042 = 0\n",
    "\n",
    "f = open('files/p042_words.txt')\n",
    "words = f.read()\n",
    "words = words.split(',')\n",
    "\n",
    "for word in words:\n",
    "    word = word[1:-1]\n",
    "    total = 0\n",
    "    for char in word:\n",
    "        total += ord(char)-64\n",
    "    if isTriangle(total*2): answer042+=1\n",
    "print answer042"
   ]
  },
  {
   "cell_type": "code",
   "execution_count": 68,
   "metadata": {},
   "outputs": [
    {
     "name": "stdout",
     "output_type": "stream",
     "text": [
      "16695334890\n"
     ]
    }
   ],
   "source": [
    "from itertools import *\n",
    "\n",
    "answer043 = 0\n",
    "digits = '0123456789'\n",
    "primes = [2, 3, 5, 7, 11, 13, 17]\n",
    "\n",
    "def check(num):\n",
    "    for n in range(len(primes)):\n",
    "        x = num[1+n: 4+n]\n",
    "        if int(x)%primes[n] != 0: return False\n",
    "    return True\n",
    "\n",
    "for perm in permutations(digits):\n",
    "    if perm[0] == '0': continue\n",
    "    perm = (''.join(perm))\n",
    "    if check(perm): answer043 += int(perm)\n",
    "        \n",
    "print answer043"
   ]
  },
  {
   "cell_type": "code",
   "execution_count": 92,
   "metadata": {},
   "outputs": [
    {
     "name": "stdout",
     "output_type": "stream",
     "text": [
      "5482660\n"
     ]
    }
   ],
   "source": [
    "answer044 = 0\n",
    "count = 1\n",
    "\n",
    "def isPentagonal(num):\n",
    "    n = num\n",
    "    n *= 2./3\n",
    "    n **= .5\n",
    "    n = int(n)+1\n",
    "    return num == n*((3*n)-1)/2\n",
    "\n",
    "pents = []\n",
    "\n",
    "while answer044 == 0:\n",
    "    current = count * ( (3 * count ) - 1) /2\n",
    "    pents.append(current)\n",
    "    count+=1\n",
    "    \n",
    "    for pent in pents[:-1]:\n",
    "        if isPentagonal(current + pent) and isPentagonal(current + pent * 2):\n",
    "            answer044 = current\n",
    "\n",
    "    \n",
    "print answer044"
   ]
  },
  {
   "cell_type": "code",
   "execution_count": 6,
   "metadata": {},
   "outputs": [
    {
     "name": "stdout",
     "output_type": "stream",
     "text": [
      "1533776805\n"
     ]
    }
   ],
   "source": [
    "answer045 = 0\n",
    "\n",
    "triangles = []\n",
    "pentagons = []\n",
    "hexagons = []\n",
    "\n",
    "n = 1\n",
    "\n",
    "def isPentagonal(num):\n",
    "    x = num\n",
    "    x *= 2./3\n",
    "    x **= .5\n",
    "    x = int(x)+1\n",
    "    return num == x*((3*x)-1)/2\n",
    "\n",
    "def isTriangular(num):\n",
    "    num*=2\n",
    "    root = num**(.5)\n",
    "    factor1 = int(root)\n",
    "    factor2 = factor1 + 1\n",
    "    return num == factor1 * factor2\n",
    "\n",
    "while answer045 <= 40755:\n",
    "    hexagon = n * ((2 * n) - 1)\n",
    "    if isPentagonal(hexagon) and isTriangular(hexagon):\n",
    "        answer045 = hexagon\n",
    "    n+=1\n",
    "    \n",
    "print answer045"
   ]
  },
  {
   "cell_type": "code",
   "execution_count": 47,
   "metadata": {},
   "outputs": [
    {
     "name": "stdout",
     "output_type": "stream",
     "text": [
      "5777\n"
     ]
    }
   ],
   "source": [
    "answer046 = 0\n",
    "\n",
    "current = 1\n",
    "\n",
    "def isPrime(num):\n",
    "    if num == 1: return False\n",
    "    for n in range(2, int(1 + num**.5)):\n",
    "        if num%n==0: return False\n",
    "    return True\n",
    "\n",
    "def isTwiceSquare(num):\n",
    "    n = num/2\n",
    "    n **= .5\n",
    "    return n%1==.0\n",
    "    \n",
    "while answer046 == 0:\n",
    "    current+=2\n",
    "    temp = False\n",
    "    if isPrime(current): continue\n",
    "    for i in range(1, current):\n",
    "        if (isPrime(i) and isTwiceSquare(current-i)):\n",
    "            temp = True\n",
    "            break\n",
    "        elif (isPrime(current-i) and isTwiceSquare(i)):\n",
    "            temp = True\n",
    "            break\n",
    "    if temp: continue\n",
    "    answer046 = current\n",
    "\n",
    "print answer046"
   ]
  },
  {
   "cell_type": "code",
   "execution_count": 67,
   "metadata": {},
   "outputs": [
    {
     "name": "stdout",
     "output_type": "stream",
     "text": [
      "134043\n"
     ]
    }
   ],
   "source": [
    "answer047 = 0\n",
    "\n",
    "count = 0\n",
    "target = 4\n",
    "x = 2\n",
    "\n",
    "def numPrimeFactors(num):\n",
    "    factors = 0\n",
    "    n = 1\n",
    "    \n",
    "    while n <= num:\n",
    "        n+=1\n",
    "        if num%n==0:\n",
    "            factors+=1\n",
    "            while num%n==0:\n",
    "                num/=n\n",
    "        \n",
    "    return factors\n",
    "\n",
    "while count < target:\n",
    "    x+=1\n",
    "    if numPrimeFactors(x) == target:count+=1\n",
    "    else: count=0\n",
    "    \n",
    "answer047=x-(target-1)\n",
    "\n",
    "print answer047"
   ]
  },
  {
   "cell_type": "code",
   "execution_count": 78,
   "metadata": {},
   "outputs": [
    {
     "name": "stdout",
     "output_type": "stream",
     "text": [
      "9110846700\n"
     ]
    }
   ],
   "source": [
    "answer048 = 0\n",
    "\n",
    "\n",
    "for n in range(1, 1001):\n",
    "    answer048 += (n**n)%(10**10)\n",
    "\n",
    "answer048%=(10**10)\n",
    "\n",
    "print answer048"
   ]
  },
  {
   "cell_type": "code",
   "execution_count": 66,
   "metadata": {},
   "outputs": [
    {
     "name": "stdout",
     "output_type": "stream",
     "text": [
      "296962999629\n"
     ]
    }
   ],
   "source": [
    "from itertools import *\n",
    "import numpy as np\n",
    "answer049 = 0\n",
    "'''\n",
    "digits = list('123456789')\n",
    "\n",
    "#nums = [int(''.join(p)) for p in combinations_with_replacement(digits,4)]\n",
    "\n",
    "for c in combinations('1123345677899', 4):\n",
    "    for p in permutations(c):\n",
    "        print p\n",
    "'''\n",
    "\n",
    "def generatePrimes(maximum):\n",
    "    primes = np.array(range(2, maximum))\n",
    "    for n in range(2, maximum+1):\n",
    "        primes[n:][primes[n:]%n==0] = 0\n",
    "        primes = primes[primes!=0]\n",
    "    \n",
    "    return primes\n",
    "\n",
    "primes = generatePrimes(10000)\n",
    "primes = primes[primes>1000]\n",
    "\n",
    "for n0 in range(len(primes)):\n",
    "    prime0 = primes[n0]\n",
    "    if prime0 == 1487: continue\n",
    "    for n1 in range(n0 + 1, len(primes)):\n",
    "        prime1 = primes[n1]\n",
    "        digits = sorted(list(str(prime0)))\n",
    "        if digits == sorted(list(str(prime1))):\n",
    "            prime2 = prime1 * 2 - prime0\n",
    "            if sorted(list(str(prime2))) == digits and prime2 in primes:\n",
    "                answer049 = int(str(prime0) + str(prime1) + str(prime2))\n",
    "            \n",
    "print answer049"
   ]
  },
  {
   "cell_type": "code",
   "execution_count": 7,
   "metadata": {},
   "outputs": [
    {
     "name": "stdout",
     "output_type": "stream",
     "text": [
      "997651\n"
     ]
    }
   ],
   "source": [
    "from datetime import datetime \n",
    "\n",
    "start_time = datetime.now() \n",
    "\n",
    "maxPrime = 1000000\n",
    "\n",
    "answer050 = 0\n",
    "maximum = 1\n",
    "\n",
    "def generatePrimes(maximum):\n",
    "    primes = []\n",
    "    for n in range(2, maximum + 1):\n",
    "        isPrime = True\n",
    "        for p in primes:\n",
    "            if p > maximum**.5: break\n",
    "            if n%p==0: \n",
    "                isPrime = False\n",
    "                break\n",
    "        if isPrime: primes.append(n)\n",
    "    \n",
    "    return primes\n",
    "\n",
    "primes = generatePrimes(maxPrime)\n",
    "\n",
    "for p in range(len(primes)):\n",
    "    prime = primes[p]\n",
    "    newMax = maximum\n",
    "    \n",
    "    for n in range(p, len(primes)):\n",
    "        sumPrimes = sum(primes[p:n+maximum])\n",
    "        if sumPrimes > maxPrime: break\n",
    "        if n+maximum > len(primes): break\n",
    "        if sumPrimes in primes:\n",
    "            answer050 = sum(primes[p:n+maximum])\n",
    "            #print answer050, len([x for x in primes[p:n+maximum]])\n",
    "            newMax = maximum + n\n",
    "    maximum = newMax\n",
    "    if sum(primes[p+1:p+1+maximum]) > maxPrime: break\n",
    "\n",
    "print answer050\n",
    "        \n",
    "time_elapsed = datetime.now() - start_time \n",
    "\n",
    "#print('Time elapsed (hh:mm:ss.ms) {}'.format(time_elapsed))"
   ]
  }
 ],
 "metadata": {
  "kernelspec": {
   "display_name": "Python 2",
   "language": "python",
   "name": "python2"
  },
  "language_info": {
   "codemirror_mode": {
    "name": "ipython",
    "version": 2
   },
   "file_extension": ".py",
   "mimetype": "text/x-python",
   "name": "python",
   "nbconvert_exporter": "python",
   "pygments_lexer": "ipython2",
   "version": "2.7.14"
  }
 },
 "nbformat": 4,
 "nbformat_minor": 2
}
