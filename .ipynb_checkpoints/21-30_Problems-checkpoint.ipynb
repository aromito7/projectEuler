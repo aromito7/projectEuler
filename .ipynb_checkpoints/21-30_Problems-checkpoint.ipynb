{
 "cells": [
  {
   "cell_type": "code",
   "execution_count": 18,
   "metadata": {},
   "outputs": [
    {
     "name": "stdout",
     "output_type": "stream",
     "text": [
      "220 284\n",
      "284 220\n",
      "1184 1210\n",
      "1210 1184\n",
      "2620 2924\n",
      "2924 2620\n",
      "5020 5564\n",
      "5564 5020\n",
      "6232 6368\n",
      "6368 6232\n",
      "0\n"
     ]
    }
   ],
   "source": [
    "answer021 = 0\n",
    "\n",
    "a = {}\n",
    "\n",
    "def amicable(num):\n",
    "    s = 0\n",
    "    for n in range(1, num):\n",
    "        if num % n == 0: s+=n\n",
    "            \n",
    "    return s\n",
    "\n",
    "for n in range(10000):\n",
    "    a[n] = amicable(n)\n",
    "\n",
    "for n in range(10000):\n",
    "    if a[n] in a and a[n] != n and a[a[n]] == n: answer021+= n\n",
    "print answer021"
   ]
  },
  {
   "cell_type": "code",
   "execution_count": null,
   "metadata": {
    "collapsed": true
   },
   "outputs": [],
   "source": []
  }
 ],
 "metadata": {
  "kernelspec": {
   "display_name": "Python 2",
   "language": "python",
   "name": "python2"
  },
  "language_info": {
   "codemirror_mode": {
    "name": "ipython",
    "version": 2
   },
   "file_extension": ".py",
   "mimetype": "text/x-python",
   "name": "python",
   "nbconvert_exporter": "python",
   "pygments_lexer": "ipython2",
   "version": "2.7.14"
  }
 },
 "nbformat": 4,
 "nbformat_minor": 2
}
