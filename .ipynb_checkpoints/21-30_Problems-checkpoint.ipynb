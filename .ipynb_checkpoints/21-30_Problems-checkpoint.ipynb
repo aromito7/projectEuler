{
 "cells": [
  {
   "cell_type": "code",
   "execution_count": 1,
   "metadata": {
    "collapsed": false,
    "deletable": true,
    "editable": true
   },
   "outputs": [
    {
     "name": "stdout",
     "output_type": "stream",
     "text": [
      "31626\n"
     ]
    }
   ],
   "source": [
    "answer021 = 0\n",
    "\n",
    "a = {}\n",
    "\n",
    "def amicable(num):\n",
    "    s = 0\n",
    "    for n in range(1, num):\n",
    "        if num % n == 0: s+=n\n",
    "            \n",
    "    return s\n",
    "\n",
    "for n in range(10000):\n",
    "    a[n] = amicable(n)\n",
    "\n",
    "for n in range(10000):\n",
    "    if a[n] in a and a[n] != n and a[a[n]] == n: answer021+= n\n",
    "print(answer021)"
   ]
  },
  {
   "cell_type": "code",
   "execution_count": 2,
   "metadata": {
    "collapsed": false,
    "deletable": true,
    "editable": true,
    "scrolled": false
   },
   "outputs": [
    {
     "name": "stdout",
     "output_type": "stream",
     "text": [
      "871198282\n"
     ]
    }
   ],
   "source": [
    "# file-output.py\n",
    "f = open('files/p022_names.txt','r')\n",
    "names = f.read()\n",
    "f.close()\n",
    "names = names[1:-1]\n",
    "names = names.split('\",\"')\n",
    "names = sorted(names)\n",
    "\n",
    "answer022 = 0\n",
    "\n",
    "for n in range(len(names)):\n",
    "    count = 0\n",
    "    for letter in names[n]:\n",
    "        count += ord(letter) - 64\n",
    "        \n",
    "    answer022 += (n + 1) * count\n",
    "\n",
    "print(answer022)"
   ]
  },
  {
   "cell_type": "code",
   "execution_count": 4,
   "metadata": {
    "collapsed": false,
    "deletable": true,
    "editable": true,
    "scrolled": false
   },
   "outputs": [
    {
     "name": "stdout",
     "output_type": "stream",
     "text": [
      "4179871\n"
     ]
    }
   ],
   "source": [
    "answer023 = 0\n",
    "\n",
    "abundant = set()\n",
    "sum_abundant = set()\n",
    "\n",
    "def sum_divisors(num):\n",
    "    s = 0\n",
    "    for n in range(1, num//2 + 1):\n",
    "        if num % n == 0: s+=n\n",
    "    return s\n",
    "\n",
    "for n in range(1, 28123):\n",
    "    if n < sum_divisors(n):\n",
    "        abundant.add(n)\n",
    "\n",
    "for x in abundant:\n",
    "    for y in abundant:\n",
    "        if not (x + y) in sum_abundant: sum_abundant.add(x+y)\n",
    "\n",
    "for x in range(28123):\n",
    "    if not x in sum_abundant: answer023 += x\n",
    "print(answer023)"
   ]
  },
  {
   "cell_type": "code",
   "execution_count": 6,
   "metadata": {
    "collapsed": false,
    "deletable": true,
    "editable": true
   },
   "outputs": [
    {
     "name": "stdout",
     "output_type": "stream",
     "text": [
      "2783915460\n"
     ]
    }
   ],
   "source": [
    "from math import factorial\n",
    "s = '0123456789'\n",
    "answer024 = ''\n",
    "\n",
    "remaining = 999999\n",
    "\n",
    "for n in range(10, 0,-1):\n",
    "    x = remaining//factorial(n-1)\n",
    "    answer024 += s[x]\n",
    "    s = s[:x] + s[x+1:]\n",
    "    remaining %= factorial(n-1)\n",
    "    \n",
    "print(answer024)"
   ]
  },
  {
   "cell_type": "code",
   "execution_count": 7,
   "metadata": {
    "collapsed": false,
    "deletable": true,
    "editable": true
   },
   "outputs": [
    {
     "name": "stdout",
     "output_type": "stream",
     "text": [
      "4782\n"
     ]
    }
   ],
   "source": [
    "answer025 = 2\n",
    "fibs = [1, 1]\n",
    "\n",
    "while len(str(fibs[-1])) < 1000:\n",
    "    fibs.append(fibs[-1] + fibs[-2])\n",
    "    answer025 += 1\n",
    "    \n",
    "print(answer025)"
   ]
  },
  {
   "cell_type": "code",
   "execution_count": 9,
   "metadata": {
    "collapsed": false,
    "deletable": true,
    "editable": true
   },
   "outputs": [
    {
     "name": "stdout",
     "output_type": "stream",
     "text": [
      "983\n"
     ]
    }
   ],
   "source": [
    "answer026 = 1\n",
    "val = 1\n",
    "for n in range(1, 1000):\n",
    "    x = 9\n",
    "    y = 1\n",
    "    while n % 2 == 0:\n",
    "        n//=2\n",
    "    while n % 5 == 0:\n",
    "        n//=5\n",
    "    for y in range(1, n):\n",
    "        if x % n == 0:\n",
    "            break\n",
    "        else: x = x * 10 + 9\n",
    "\n",
    "    if y > val:\n",
    "        answer026, val = n, y\n",
    "            \n",
    "print(answer026)"
   ]
  },
  {
   "cell_type": "code",
   "execution_count": 10,
   "metadata": {
    "collapsed": false,
    "deletable": true,
    "editable": true
   },
   "outputs": [
    {
     "name": "stdout",
     "output_type": "stream",
     "text": [
      "-59231\n"
     ]
    }
   ],
   "source": [
    "answer027 = 0\n",
    "maximum = 0\n",
    "\n",
    "def isPrime(num):\n",
    "    for n in range(2, int(num**.5 + 1)):\n",
    "        if num % n == 0:\n",
    "            return False\n",
    "    return True\n",
    "\n",
    "\n",
    "for a in range(-1000, 1001):\n",
    "    for b in range(-1000, 1000):\n",
    "        n = 0\n",
    "        while (n**2 + a*n + b) > 0 and isPrime(n**2 + a * n + b):\n",
    "            n+=1\n",
    "        \n",
    "        if n > maximum:\n",
    "            maximum = n\n",
    "            answer027 = a * b\n",
    "        \n",
    "print(answer027)"
   ]
  },
  {
   "cell_type": "code",
   "execution_count": 11,
   "metadata": {
    "collapsed": false,
    "deletable": true,
    "editable": true
   },
   "outputs": [
    {
     "name": "stdout",
     "output_type": "stream",
     "text": [
      "669171001\n"
     ]
    }
   ],
   "source": [
    "answer028 = 1\n",
    "\n",
    "for n in range(1, 501):\n",
    "    answer028 += 2 * ((2 * n + 1)**2 + (2 * n)**2 - 2 * n + 1)\n",
    "    \n",
    "print(answer028)"
   ]
  },
  {
   "cell_type": "code",
   "execution_count": 12,
   "metadata": {
    "collapsed": false,
    "deletable": true,
    "editable": true
   },
   "outputs": [
    {
     "name": "stdout",
     "output_type": "stream",
     "text": [
      "9183\n"
     ]
    }
   ],
   "source": [
    "s = set()\n",
    "\n",
    "for a in range(2, 101):\n",
    "    for b in range(2, 101):\n",
    "        s.add(a**b)\n",
    "\n",
    "answer029 = len(s)\n",
    "\n",
    "print(answer029)"
   ]
  },
  {
   "cell_type": "code",
   "execution_count": 14,
   "metadata": {
    "collapsed": false,
    "deletable": true,
    "editable": true
   },
   "outputs": [
    {
     "name": "stdout",
     "output_type": "stream",
     "text": [
      "443839\n"
     ]
    }
   ],
   "source": [
    "answer030 = 0\n",
    "\n",
    "for num in range(2, 1000000):\n",
    "    digits = []\n",
    "    n = num\n",
    "    while n > 0:\n",
    "        digits.append((n%10)**5)\n",
    "        n//=10\n",
    "    if num == sum(digits):\n",
    "        answer030 += num\n",
    "\n",
    "print(answer030)"
   ]
  }
 ],
 "metadata": {
  "kernelspec": {
   "display_name": "Python 3",
   "language": "python",
   "name": "python3"
  },
  "language_info": {
   "codemirror_mode": {
    "name": "ipython",
    "version": 3
   },
   "file_extension": ".py",
   "mimetype": "text/x-python",
   "name": "python",
   "nbconvert_exporter": "python",
   "pygments_lexer": "ipython3",
   "version": "3.5.2"
  }
 },
 "nbformat": 4,
 "nbformat_minor": 2
}
