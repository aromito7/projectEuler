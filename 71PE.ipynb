{
 "cells": [
  {
   "cell_type": "code",
   "execution_count": 7,
   "id": "19f96508",
   "metadata": {},
   "outputs": [
    {
     "name": "stdout",
     "output_type": "stream",
     "text": [
      "428573 1000004\n"
     ]
    }
   ],
   "source": [
    "from files.fraction import *\n",
    "length = 10**6\n",
    "num, den = 2, 5\n",
    "while den <= length:\n",
    "    num += 3\n",
    "    den += 7\n",
    "    \n",
    "    temp = gcd(num, den)\n",
    "    if temp > 1:\n",
    "        print(num, den, gcd(num, den))\n",
    "print(num, den)"
   ]
  },
  {
   "cell_type": "code",
   "execution_count": 20,
   "id": "5aa2105c",
   "metadata": {},
   "outputs": [
    {
     "name": "stdout",
     "output_type": "stream",
     "text": [
      "1.4285757138354782e-07 999997\n",
      "428570\n"
     ]
    }
   ],
   "source": [
    "minimum = float('inf')\n",
    "answer_71 = 0\n",
    "length = 10**6\n",
    "for i in [n for n in range(length) if n % 7 != 0]:\n",
    "    temp = (3 * i) // 7\n",
    "    diff = (3/7) - (temp/i)\n",
    "    if diff < minimum:\n",
    "        answer_71 = i\n",
    "        minimum = diff\n",
    "        \n",
    "print(minimum, answer_71)\n",
    "print(answer_71 * 3//7)"
   ]
  },
  {
   "cell_type": "code",
   "execution_count": null,
   "id": "47dd31ac",
   "metadata": {},
   "outputs": [],
   "source": []
  }
 ],
 "metadata": {
  "kernelspec": {
   "display_name": "Python 3",
   "language": "python",
   "name": "python3"
  },
  "language_info": {
   "codemirror_mode": {
    "name": "ipython",
    "version": 3
   },
   "file_extension": ".py",
   "mimetype": "text/x-python",
   "name": "python",
   "nbconvert_exporter": "python",
   "pygments_lexer": "ipython3",
   "version": "3.10.0"
  }
 },
 "nbformat": 4,
 "nbformat_minor": 5
}
