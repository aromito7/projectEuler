{
 "cells": [
  {
   "cell_type": "code",
   "execution_count": 1,
   "id": "5906a30e",
   "metadata": {},
   "outputs": [],
   "source": [
    "s = \"Braille\"\n",
    "inp = \"000001011110110010100010000000111110101001010100100100101000000000110000111010101010010111101110000000110100101010101101000000010110101001101100111100011100000000101010111001100010111010000000011110110010100010000000111000100000101011101111000000100110101010110110\"\n",
    "x = [inp[i*6+6:i*6+12] for i in range(len(inp)//6)]\n",
    "y = \"the quick brown fox jumps over the lazy dog\"\n",
    "z = \"abcdefghijklmnopqrstuvwxyz\"\n",
    "upper = \"000001\"\n",
    "perm = [y.index(i) for i in z]\n",
    "x1 = [0]*26\n",
    "x1 = [x[perm[i%26]] for i in range(52)]\n",
    "x1[26:] = [upper + x1[i] for i in range(26,52)]\n",
    "z += z.upper()\n",
    "d = {k:v for k,v in zip(z,x1)}\n",
    "\n",
    "output = ''.join([d[i] for i in s])"
   ]
  },
  {
   "cell_type": "code",
   "execution_count": null,
   "id": "01f1e4d8",
   "metadata": {},
   "outputs": [],
   "source": []
  }
 ],
 "metadata": {
  "kernelspec": {
   "display_name": "Python 3",
   "language": "python",
   "name": "python3"
  },
  "language_info": {
   "codemirror_mode": {
    "name": "ipython",
    "version": 3
   },
   "file_extension": ".py",
   "mimetype": "text/x-python",
   "name": "python",
   "nbconvert_exporter": "python",
   "pygments_lexer": "ipython3",
   "version": "3.10.0"
  }
 },
 "nbformat": 4,
 "nbformat_minor": 5
}
