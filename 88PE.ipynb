{
 "cells": [
  {
   "cell_type": "code",
   "execution_count": 23,
   "metadata": {},
   "outputs": [
    {
     "name": "stdout",
     "output_type": "stream",
     "text": [
      "7587457\n"
     ]
    }
   ],
   "source": [
    "from math import prod\n",
    "from files.pe import factorize\n",
    "\n",
    "answer_88 = 0\n",
    "limit = 10 ** 5\n",
    "solutions = {}\n",
    "max_k = 6\n",
    "for i in range(2, limit):\n",
    "    factors = factorize(i)\n",
    "    for factor in factors:\n",
    "        k = i - sum(factor) + len(factor)\n",
    "        if k not in solutions and k > 1:\n",
    "            solutions[k] = i\n",
    "    if len(solutions) >= 20000: break\n",
    "\n",
    "solutions = {s:solutions[s] for s in solutions if s <= 12000}\n",
    "solutions1 = set([solutions[s] for s in solutions])\n",
    "print(sum(solutions1))\n",
    "        \n"
   ]
  },
  {
   "cell_type": "code",
   "execution_count": 19,
   "metadata": {},
   "outputs": [
    {
     "name": "stdout",
     "output_type": "stream",
     "text": [
      "7587457\n"
     ]
    }
   ],
   "source": []
  },
  {
   "cell_type": "code",
   "execution_count": 14,
   "metadata": {},
   "outputs": [
    {
     "name": "stdout",
     "output_type": "stream",
     "text": [
      "4\n",
      "6\n",
      "8\n",
      "8\n",
      "12\n",
      "12\n",
      "12\n",
      "15\n",
      "16\n",
      "16\n",
      "16\n"
     ]
    }
   ],
   "source": []
  },
  {
   "cell_type": "code",
   "execution_count": 20,
   "metadata": {},
   "outputs": [
    {
     "data": {
      "text/plain": [
       "11999"
      ]
     },
     "execution_count": 20,
     "metadata": {},
     "output_type": "execute_result"
    }
   ],
   "source": []
  },
  {
   "cell_type": "code",
   "execution_count": null,
   "metadata": {},
   "outputs": [],
   "source": []
  }
 ],
 "metadata": {
  "interpreter": {
   "hash": "4b62e90adbaf27cd6148d32c992b130a28eb9f6982d6ddf66687243be0d0ddcb"
  },
  "kernelspec": {
   "display_name": "Python 3.9.4 64-bit ('3.9.4')",
   "language": "python",
   "name": "python3"
  },
  "language_info": {
   "codemirror_mode": {
    "name": "ipython",
    "version": 3
   },
   "file_extension": ".py",
   "mimetype": "text/x-python",
   "name": "python",
   "nbconvert_exporter": "python",
   "pygments_lexer": "ipython3",
   "version": "3.9.4"
  },
  "orig_nbformat": 4
 },
 "nbformat": 4,
 "nbformat_minor": 2
}
