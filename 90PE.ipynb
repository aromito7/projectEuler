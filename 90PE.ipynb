{
 "cells": [
  {
   "cell_type": "code",
   "execution_count": 16,
   "metadata": {},
   "outputs": [
    {
     "name": "stdout",
     "output_type": "stream",
     "text": [
      "[['0', '1'], ['0', '4'], ['0', '6'], ['1', '6'], ['2', '5'], ['3', '6'], ['4', '6'], ['6', '4'], ['8', '1']]\n",
      "1217\n"
     ]
    }
   ],
   "source": [
    "from itertools import combinations\n",
    "import itertools\n",
    "answer_90 = []\n",
    "squares = ['01', '04', '06', '16', '25', '36', '46', '64', '81']\n",
    "squares = [[square[0], square[1]] for square in squares]\n",
    "#print(squares)\n",
    "\n",
    "def valid2(cube1, cube2):\n",
    "\n",
    "    if not ('0' in cube1 and '8' in cube1 and '6' in cube1):\n",
    "        return False\n",
    "    if not ('1' in cube2 and '3' in cube2 and '4' in cube2 and '6' in cube2):\n",
    "        return False\n",
    "    \n",
    "    if not (('2' in cube1 and '5' in cube2) or ('5' in cube1 and '2' in cube2)):\n",
    "        return False\n",
    "    return True\n",
    "\n",
    "def valid(cube1, cube2):\n",
    "    for square in squares:\n",
    "        if not((square[0] in cube1 and square[1] in cube2) or square[1] in cube1 and square[0] in cube2):\n",
    "            return False\n",
    "\n",
    "    return True\n",
    "\n",
    "for cube1 in combinations(range(10), 6):\n",
    "    for cube2 in combinations(range(10), 6):\n",
    "        c1, c2 = [str(n).replace('9', '6') for n in cube1], [str(n).replace('9', '6') for n in cube2]\n",
    "        #c = [x[0] + x[1] for x in list(itertools.product(c1, c2))]\n",
    "        #c = [x.replace('9', '6') for x in c]\n",
    "        if valid(c1, c2) or valid(c2, c1):\n",
    "            #print(cube1, cube2)\n",
    "            \n",
    "            #if [c1, c2] not in answer_90 and [c2, c1] not in answer_90:\n",
    "            answer_90 += [[cube1, cube2]]\n",
    "            #print(cube1, cube2)\n",
    "        \n",
    "\n",
    "print(len(answer_90)//2)"
   ]
  },
  {
   "cell_type": "code",
   "execution_count": 13,
   "metadata": {},
   "outputs": [
    {
     "data": {
      "text/plain": [
       "{(1, 2), (2, 1)}"
      ]
     },
     "execution_count": 13,
     "metadata": {},
     "output_type": "execute_result"
    }
   ],
   "source": [
    "set([(1,2), (2, 1)])"
   ]
  },
  {
   "cell_type": "code",
   "execution_count": null,
   "metadata": {},
   "outputs": [],
   "source": []
  },
  {
   "cell_type": "code",
   "execution_count": null,
   "metadata": {},
   "outputs": [],
   "source": []
  }
 ],
 "metadata": {
  "interpreter": {
   "hash": "4b62e90adbaf27cd6148d32c992b130a28eb9f6982d6ddf66687243be0d0ddcb"
  },
  "kernelspec": {
   "display_name": "Python 3.9.4 64-bit ('3.9.4')",
   "language": "python",
   "name": "python3"
  },
  "language_info": {
   "codemirror_mode": {
    "name": "ipython",
    "version": 3
   },
   "file_extension": ".py",
   "mimetype": "text/x-python",
   "name": "python",
   "nbconvert_exporter": "python",
   "pygments_lexer": "ipython3",
   "version": "3.9.4"
  },
  "orig_nbformat": 4
 },
 "nbformat": 4,
 "nbformat_minor": 2
}
