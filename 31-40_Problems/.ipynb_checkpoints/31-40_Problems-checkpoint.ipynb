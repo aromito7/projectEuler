{
 "cells": [
  {
   "cell_type": "code",
   "execution_count": 1,
   "metadata": {},
   "outputs": [
    {
     "name": "stdout",
     "output_type": "stream",
     "text": [
      "73682\n"
     ]
    }
   ],
   "source": [
    "answer031 = 0\n",
    "\n",
    "coins = [1, 2, 5, 10, 20, 50, 100, 200][::-1]\n",
    "\n",
    "target = 200\n",
    "\n",
    "def combinations(current, coins):\n",
    "    coin = coins[0]\n",
    "    if coin == coins[-1]:\n",
    "        global answer031 \n",
    "        answer031 +=1\n",
    "    else:\n",
    "        while current <= target :\n",
    "            combinations(current, coins[1:])\n",
    "            current+=coin\n",
    "    \n",
    "    \n",
    "\n",
    "combinations(0, coins)\n",
    "print(answer031)"
   ]
  },
  {
   "cell_type": "code",
   "execution_count": 2,
   "metadata": {},
   "outputs": [
    {
     "name": "stdout",
     "output_type": "stream",
     "text": [
      "45228\n"
     ]
    }
   ],
   "source": [
    "import itertools\n",
    "products = set()\n",
    "\n",
    "digits = '123456789'\n",
    "\n",
    "for n in itertools.permutations(digits):\n",
    "    n = ''.join(n)\n",
    "    \n",
    "    #breaks in the string of digits\n",
    "    breaks = [[2,5], [1, 5], [1,6]]\n",
    "    \n",
    "    for b in breaks:\n",
    "        b1, b2 = b\n",
    "        if int(n[:b1]) * int(n[b1:b2]) == int(n[b2:]):\n",
    "            products.add(int(n[b2:]))\n",
    "    \n",
    "\n",
    "answer032 = sum(products)\n",
    "print(answer032)"
   ]
  },
  {
   "cell_type": "code",
   "execution_count": 9,
   "metadata": {},
   "outputs": [
    {
     "name": "stdout",
     "output_type": "stream",
     "text": [
      "100\n"
     ]
    }
   ],
   "source": [
    "answer033 = 1\n",
    "\n",
    "for numer in range(10, 100):\n",
    "    for denom in range(numer + 1, 100):\n",
    "        if numer%10 == 0 or denom%10 == 0 or numer%11==0:\n",
    "            continue;\n",
    "        x = numer/denom\n",
    "        y = (numer//10)/ (denom%10)\n",
    "        if x == y and numer%10 == denom//10:\n",
    "            answer033 *= (denom%10)/ (numer//10)\n",
    "            \n",
    "\n",
    "answer033 = int(answer033)\n",
    "print(answer033)"
   ]
  },
  {
   "cell_type": "code",
   "execution_count": 10,
   "metadata": {},
   "outputs": [
    {
     "name": "stdout",
     "output_type": "stream",
     "text": [
      "40730\n"
     ]
    }
   ],
   "source": [
    "from math import *\n",
    "\n",
    "answer034 = 0\n",
    "for x in range(3, factorial(9)*10):\n",
    "    num = str(x)\n",
    "    nums = [factorial(int(n)) for n in list(num)]\n",
    "    if x == sum(nums):\n",
    "        answer034 += x\n",
    "    \n",
    "print(answer034)"
   ]
  },
  {
   "cell_type": "code",
   "execution_count": 11,
   "metadata": {},
   "outputs": [
    {
     "name": "stdout",
     "output_type": "stream",
     "text": [
      "55\n"
     ]
    }
   ],
   "source": [
    "import itertools\n",
    "\n",
    "#This method doesn't count 5 as a circular prime so we begin the count at 1 instead of 0\n",
    "answer035 = 1\n",
    "\n",
    "def isPrime(num):\n",
    "    for n in range(2, int(num**.5+1)):\n",
    "        if num%n == 0:\n",
    "            return False\n",
    "    return True\n",
    "        \n",
    "digits = ['1', '3', '7', '9']\n",
    "for length in range(1, 7):\n",
    "    combs = itertools.product(digits, repeat = length)\n",
    "    for comb in combs:\n",
    "        comb = ''.join(str(i) for i in comb)\n",
    "        is_prime = True\n",
    "        for n in range(length):\n",
    "            if not isPrime(int(comb)):\n",
    "                is_prime = False\n",
    "                break\n",
    "            comb = comb[1:] + comb[0]\n",
    "        if is_prime: \n",
    "            answer035+=1\n",
    "        \n",
    "\n",
    "print(answer035)"
   ]
  },
  {
   "cell_type": "code",
   "execution_count": 12,
   "metadata": {},
   "outputs": [
    {
     "name": "stdout",
     "output_type": "stream",
     "text": [
      "872187\n"
     ]
    }
   ],
   "source": [
    "answer036 = 0\n",
    "\n",
    "for n in range(1000000):\n",
    "    if str(n) == str(n)[::-1] and \"{0:b}\".format(n) == \"{0:b}\".format(n)[::-1]:\n",
    "        answer036 += n\n",
    "        \n",
    "print(answer036)"
   ]
  },
  {
   "cell_type": "code",
   "execution_count": 13,
   "metadata": {},
   "outputs": [
    {
     "name": "stdout",
     "output_type": "stream",
     "text": [
      "748317\n"
     ]
    }
   ],
   "source": [
    "import itertools\n",
    "\n",
    "answer037 = 0\n",
    "count = 0\n",
    "def isPrime(num):\n",
    "    if num == 1:\n",
    "        return False\n",
    "    for n in range(2, int(num**.5+1)):\n",
    "        if num%n == 0:\n",
    "            return False\n",
    "    return True\n",
    "\n",
    "\n",
    "for num in itertools.count(10):\n",
    "    prime = isPrime(num)\n",
    "    num = str(num)\n",
    "    for n in range(1, len(num)):\n",
    "        if not(isPrime(int(num[n:])) and isPrime(int(num[:-n]))):\n",
    "            prime = False\n",
    "    if prime:\n",
    "        answer037 += int(num)\n",
    "        count += 1\n",
    "    if count == 11: break\n",
    "        \n",
    "print(answer037)"
   ]
  },
  {
   "cell_type": "code",
   "execution_count": 15,
   "metadata": {},
   "outputs": [
    {
     "name": "stdout",
     "output_type": "stream",
     "text": [
      "932718654\n"
     ]
    }
   ],
   "source": [
    "answer038 = 0\n",
    "target = sorted('123456789')\n",
    "for x in range(1, 10000):\n",
    "    current = ''\n",
    "    for n in range(1, 10):\n",
    "        current += str(x*n)\n",
    "        if len(current) > 9: continue\n",
    "        elif len(current) < 9: continue\n",
    "        elif target == sorted(current):\n",
    "            answer038 = max(answer038, int(current))\n",
    "            \n",
    "print(answer038)"
   ]
  },
  {
   "cell_type": "code",
   "execution_count": 16,
   "metadata": {},
   "outputs": [
    {
     "name": "stdout",
     "output_type": "stream",
     "text": [
      "840\n"
     ]
    }
   ],
   "source": [
    "maxCount = 0\n",
    "answer039 = 0\n",
    "for p in range(1, 1000):\n",
    "    count = 0\n",
    "    for c in range(p, 2, -1):\n",
    "        for b in range(p-c, 2, -1):\n",
    "            a = p - b - c\n",
    "            if a < 1 or a > c or b > c or a > b: continue\n",
    "            if c**2 == b**2 + a**2: \n",
    "                count+=1\n",
    "    if count > maxCount:\n",
    "        maxCount = count\n",
    "        answer039 = p\n",
    "\n",
    "print(answer039)"
   ]
  },
  {
   "cell_type": "code",
   "execution_count": 17,
   "metadata": {},
   "outputs": [
    {
     "name": "stdout",
     "output_type": "stream",
     "text": [
      "210\n"
     ]
    }
   ],
   "source": [
    "answer040 = 1\n",
    "decimal = '0'\n",
    "num = 1\n",
    "while len(decimal) <= 1000000:\n",
    "    decimal+= str(num)\n",
    "    num+=1\n",
    "\n",
    "for i in range(7):\n",
    "    answer040 *= int(decimal[10**i])\n",
    "print(answer040)"
   ]
  }
 ],
 "metadata": {
  "kernelspec": {
   "display_name": "Python 3 (ipykernel)",
   "language": "python",
   "name": "python3"
  },
  "language_info": {
   "codemirror_mode": {
    "name": "ipython",
    "version": 3
   },
   "file_extension": ".py",
   "mimetype": "text/x-python",
   "name": "python",
   "nbconvert_exporter": "python",
   "pygments_lexer": "ipython3",
   "version": "3.9.4"
  }
 },
 "nbformat": 4,
 "nbformat_minor": 2
}
