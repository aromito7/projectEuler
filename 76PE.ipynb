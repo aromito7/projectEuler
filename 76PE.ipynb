{
 "cells": [
  {
   "cell_type": "code",
   "execution_count": 20,
   "id": "71a32ae3",
   "metadata": {},
   "outputs": [
    {
     "data": {
      "text/plain": [
       "190569291"
      ]
     },
     "execution_count": 20,
     "metadata": {},
     "output_type": "execute_result"
    }
   ],
   "source": [
    "answer_075 = 0\n",
    "total = 100\n",
    "remaining = total\n",
    "width = total - 1\n",
    "combos = {i:{}for i in range(total+1)}\n",
    "\n",
    "def next_layer(remaining, width):\n",
    "    \n",
    "    if width == 1 or remaining == 1:\n",
    "        return 1\n",
    "    \n",
    "    count = 0\n",
    "    for i in range((remaining//width)+1):\n",
    "        r = remaining - i * width\n",
    "        \n",
    "        if width-1 in combos[r]: \n",
    "            count += combos[r][width-1]\n",
    "        else:\n",
    "            temp = next_layer(r, width-1)\n",
    "            count += temp\n",
    "            combos[r][width-1] = temp\n",
    "    \n",
    "    return count\n",
    "answer_075 = next_layer(remaining, width)\n",
    "answer_075"
   ]
  },
  {
   "cell_type": "code",
   "execution_count": null,
   "id": "0c865e09",
   "metadata": {},
   "outputs": [],
   "source": []
  }
 ],
 "metadata": {
  "kernelspec": {
   "display_name": "Python 3",
   "language": "python",
   "name": "python3"
  },
  "language_info": {
   "codemirror_mode": {
    "name": "ipython",
    "version": 3
   },
   "file_extension": ".py",
   "mimetype": "text/x-python",
   "name": "python",
   "nbconvert_exporter": "python",
   "pygments_lexer": "ipython3",
   "version": "3.10.0"
  }
 },
 "nbformat": 4,
 "nbformat_minor": 5
}
