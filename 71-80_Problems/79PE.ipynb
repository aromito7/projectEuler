{
 "cells": [
  {
   "cell_type": "code",
   "execution_count": 68,
   "id": "4a200390",
   "metadata": {},
   "outputs": [
    {
     "name": "stdout",
     "output_type": "stream",
     "text": [
      "73162890\n"
     ]
    }
   ],
   "source": [
    "f = open(\"files/p079_keylog.txt\", \"r\")\n",
    "nums = f.readlines()\n",
    "nums = [num[:3] for num in nums]\n",
    "for num in nums:\n",
    "    n = num[0] + num[-1]\n",
    "    for i, v in enumerate(nums):\n",
    "        nums[i] = v.replace(n, num)\n",
    "    \n",
    "numbers = nums.copy()\n",
    "#print(numbers)\n",
    "for i1, n1 in enumerate(nums):\n",
    "    for i2, n2 in enumerate(nums):\n",
    "        if len(n1) < len(n2) and n1 in n2 and n1 in numbers:\n",
    "            numbers.remove(n1)\n",
    "            \n",
    "length = max([len(num) for num in numbers])\n",
    "answer_079 = [num for num in numbers if len(num) == length]\n",
    "print(answer_079[0])"
   ]
  },
  {
   "cell_type": "code",
   "execution_count": 50,
   "id": "a997a818",
   "metadata": {},
   "outputs": [
    {
     "name": "stdout",
     "output_type": "stream",
     "text": [
      "Hello\n"
     ]
    }
   ],
   "source": []
  },
  {
   "cell_type": "code",
   "execution_count": null,
   "id": "965bc7c5",
   "metadata": {},
   "outputs": [],
   "source": []
  }
 ],
 "metadata": {
  "kernelspec": {
   "display_name": "Python 3",
   "language": "python",
   "name": "python3"
  },
  "language_info": {
   "codemirror_mode": {
    "name": "ipython",
    "version": 3
   },
   "file_extension": ".py",
   "mimetype": "text/x-python",
   "name": "python",
   "nbconvert_exporter": "python",
   "pygments_lexer": "ipython3",
   "version": "3.10.0"
  }
 },
 "nbformat": 4,
 "nbformat_minor": 5
}
