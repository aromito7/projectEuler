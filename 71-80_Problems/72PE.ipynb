{
 "cells": [
  {
   "cell_type": "code",
   "execution_count": 26,
   "id": "db810621",
   "metadata": {},
   "outputs": [
    {
     "name": "stdout",
     "output_type": "stream",
     "text": [
      "303963552391\n"
     ]
    }
   ],
   "source": [
    "answer_72 = 0\n",
    "length = 10**6 + 1\n",
    "totients = [i for i in range(length)]\n",
    "totients[1] = 0\n",
    "primes = [True for i in range(length)]\n",
    "primes[0], primes[1] = False, False\n",
    "def totient(num):\n",
    "    output = num\n",
    "    factors = []\n",
    "    for i in range(2, num):\n",
    "        if num % i == 0:\n",
    "            factors += [i]\n",
    "            while(num % i == 0):\n",
    "                num //= i\n",
    "    \n",
    "    for f in factors:\n",
    "        output *= (f-1)/f\n",
    "    return int(output)\n",
    "\n",
    "for i in range(2, length):\n",
    "    if not primes[i]: continue\n",
    "    for n in range(i, length, i):\n",
    "        primes[n] = False\n",
    "        totients[n] *= (i-1)/i\n",
    "    \n",
    "\n",
    "    \n",
    "print(int(sum(totients)))"
   ]
  },
  {
   "cell_type": "code",
   "execution_count": null,
   "id": "5ae68de5",
   "metadata": {},
   "outputs": [],
   "source": []
  }
 ],
 "metadata": {
  "kernelspec": {
   "display_name": "Python 3",
   "language": "python",
   "name": "python3"
  },
  "language_info": {
   "codemirror_mode": {
    "name": "ipython",
    "version": 3
   },
   "file_extension": ".py",
   "mimetype": "text/x-python",
   "name": "python",
   "nbconvert_exporter": "python",
   "pygments_lexer": "ipython3",
   "version": "3.10.0"
  }
 },
 "nbformat": 4,
 "nbformat_minor": 5
}
