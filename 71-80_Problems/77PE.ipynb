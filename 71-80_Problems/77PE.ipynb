{
 "cells": [
  {
   "cell_type": "code",
   "execution_count": 61,
   "id": "939d04e7",
   "metadata": {},
   "outputs": [
    {
     "name": "stdout",
     "output_type": "stream",
     "text": [
      "71\n"
     ]
    }
   ],
   "source": [
    "answer_077 = 0\n",
    "limit = 10**4\n",
    "def gen_primes(limit):\n",
    "    primes = [i for i in range(limit)]\n",
    "    primes[:2] = [0]*2\n",
    "    for p in range(limit):\n",
    "        if primes[p]:\n",
    "            for n in range(p, limit//p):\n",
    "                primes[n*p] = 0\n",
    "        \n",
    "    return primes\n",
    "\n",
    "all_primes = gen_primes(limit)\n",
    "all_primes = [p for p in all_primes if p]\n",
    "\n",
    "answer_077 = 0\n",
    "limit = 5000\n",
    "\n",
    "def gen_combos(remaining, width, chain, chains, output):\n",
    "    if remaining == 1 or width == 1:\n",
    "        return\n",
    "    if remaining == 0:\n",
    "        #print(chain)\n",
    "        chains += [chain]\n",
    "        output += 1\n",
    "        return\n",
    "    n = 0\n",
    "    while all_primes[n] <= width:\n",
    "        n+=1\n",
    "    primes = list(reversed(all_primes[:n]))\n",
    "    prime = primes[0]\n",
    "    width = prime - 1\n",
    "    \n",
    "    while remaining >= 0:\n",
    "        #print(remaining, min(width, remaining), chain)\n",
    "        gen_combos(remaining, min(width, remaining), chain.copy(), chains, output)\n",
    "        remaining -= prime\n",
    "        chain += [prime]\n",
    "\n",
    "answer_077 = 2\n",
    "chains = []\n",
    "while len(chains) < limit:\n",
    "    answer_077 += 1\n",
    "    width = answer_077\n",
    "    chains = []\n",
    "    gen_combos(answer_077, width, [], chains, 0)\n",
    "    #print(chains)\n",
    "print(answer_077)"
   ]
  },
  {
   "cell_type": "code",
   "execution_count": null,
   "id": "39d4e6fd",
   "metadata": {},
   "outputs": [],
   "source": []
  }
 ],
 "metadata": {
  "kernelspec": {
   "display_name": "Python 3",
   "language": "python",
   "name": "python3"
  },
  "language_info": {
   "codemirror_mode": {
    "name": "ipython",
    "version": 3
   },
   "file_extension": ".py",
   "mimetype": "text/x-python",
   "name": "python",
   "nbconvert_exporter": "python",
   "pygments_lexer": "ipython3",
   "version": "3.10.0"
  }
 },
 "nbformat": 4,
 "nbformat_minor": 5
}
