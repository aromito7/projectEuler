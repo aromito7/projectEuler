{
 "cells": [
  {
   "cell_type": "code",
   "execution_count": 20,
   "id": "3a3e946c",
   "metadata": {},
   "outputs": [
    {
     "data": {
      "text/plain": [
       "40886"
      ]
     },
     "execution_count": 20,
     "metadata": {},
     "output_type": "execute_result"
    }
   ],
   "source": [
    "from files.fraction import *\n",
    "limit = 101\n",
    "digits = 100\n",
    "answer_080 = 0\n",
    "for i in range(2, limit):\n",
    "    if int(i**.5)**2 == i: continue\n",
    "\n",
    "    num = int(i**.5)\n",
    "    den = 1\n",
    "    \n",
    "    for j in range(10):\n",
    "        #print(num/den, num, den)\n",
    "        num, den = num**2 + i*den**2, 2*num*den\n",
    "    \n",
    "    num *= 10**100\n",
    "    root = num//den\n",
    "    \n",
    "    total = sum([int(d) for d in str(root)[:100]])\n",
    "    answer_080 += total\n",
    "\n",
    "answer_080"
   ]
  },
  {
   "cell_type": "code",
   "execution_count": null,
   "id": "f58a5d53",
   "metadata": {},
   "outputs": [],
   "source": []
  }
 ],
 "metadata": {
  "kernelspec": {
   "display_name": "Python 3",
   "language": "python",
   "name": "python3"
  },
  "language_info": {
   "codemirror_mode": {
    "name": "ipython",
    "version": 3
   },
   "file_extension": ".py",
   "mimetype": "text/x-python",
   "name": "python",
   "nbconvert_exporter": "python",
   "pygments_lexer": "ipython3",
   "version": "3.10.0"
  }
 },
 "nbformat": 4,
 "nbformat_minor": 5
}
