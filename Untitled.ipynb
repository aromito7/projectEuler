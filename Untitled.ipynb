{
 "cells": [
  {
   "cell_type": "code",
   "execution_count": 47,
   "id": "667dcd95",
   "metadata": {},
   "outputs": [
    {
     "name": "stdout",
     "output_type": "stream",
     "text": [
      "161667\n"
     ]
    }
   ],
   "source": [
    "answer_075 = 0\n",
    "triplets = {}\n",
    "limit = 1500000\n",
    "\n",
    "def is_coprime(x, y):\n",
    "    while x * y > 0:\n",
    "        x %= y\n",
    "        x,y = y,x\n",
    "    \n",
    "    return x == 1\n",
    "\n",
    "for m in range(1, 10**3 + 1):\n",
    "    n = 1\n",
    "    p = 2 * m * (m + n)\n",
    "    while p <= limit and m > n:\n",
    "        if (m+n)%2 == 1 and is_coprime(m, n):\n",
    "            perimeter = p\n",
    "            while perimeter <= limit:\n",
    "                if str(perimeter) not in triplets:\n",
    "                    triplets[str(perimeter)] = 0\n",
    "                triplets[str(perimeter)] += 1\n",
    "                perimeter += p\n",
    "\n",
    "        n += 1\n",
    "        p = 2 * m * (m + n)\n",
    "        \n",
    "for t in triplets:\n",
    "    if triplets[t] == 1:\n",
    "        answer_075 += 1\n",
    "print(answer_075)"
   ]
  },
  {
   "cell_type": "code",
   "execution_count": null,
   "id": "e78cc540",
   "metadata": {},
   "outputs": [],
   "source": []
  }
 ],
 "metadata": {
  "kernelspec": {
   "display_name": "Python 3",
   "language": "python",
   "name": "python3"
  },
  "language_info": {
   "codemirror_mode": {
    "name": "ipython",
    "version": 3
   },
   "file_extension": ".py",
   "mimetype": "text/x-python",
   "name": "python",
   "nbconvert_exporter": "python",
   "pygments_lexer": "ipython3",
   "version": "3.10.0"
  }
 },
 "nbformat": 4,
 "nbformat_minor": 5
}
