{
 "cells": [
  {
   "cell_type": "code",
   "execution_count": 3,
   "metadata": {
    "collapsed": false,
    "deletable": true,
    "editable": true
   },
   "outputs": [
    {
     "name": "stdout",
     "output_type": "stream",
     "text": [
      "Family, Size: *2*3*3 8\n",
      "Time elapsed (hh:mm:ss.ms) 0:00:51.040994\n"
     ]
    }
   ],
   "source": [
    "import itertools as it  #This library gives us acess to permutation and combination functions\n",
    "from datetime import datetime \n",
    "start_time = datetime.now()\n",
    "\n",
    "def isPrime(num):\n",
    "    if num < 2: return False           #I do this to ensure that 0 and 1 don't return True\n",
    "    for n in range(2, int(num**.5)+1): #Composite numbers have a non-zero factor that is less or equal to it's square root\n",
    "        if num%n==0: return False      #If any of these numbers divide it evenly, then we know it isn't prime\n",
    "    return True                        #Otherwise, we know that it is prime\n",
    "#---------------------------------------------------------------------------------------------------------------------------\n",
    "answer051 = 0          #Many problems require you to slowly build up the answer or find a maximum so I do this by default\n",
    "maximum = 0            #This tracks the maximum size of the largest prime family that I've found so far\n",
    "first = '123456789*'   #The first digit in a family can't begin with a 0 so we can choose from anything else\n",
    "middle = '1234567890*' #The middle digit(s) can use anything\n",
    "last = '1379'          #The final digit of a prime number must be 1,3,7, or 9, and if it contains an '*', it's max size is 4\n",
    "middle_digits = 0      #Number of middle digits we're working with\n",
    "#---------------------------------------------------------------------------------------------------------------------------\n",
    "while maximum<8:                                          #We continue this process until we find a family with 8 members\n",
    "    #print str(2 + middle_digits) + \" digits...\"\n",
    "    for f in first:                                       #Select a starting digit\n",
    "        for m in it.product(middle, repeat=middle_digits):#Product generates permutations of middle digits with replacement\n",
    "            fm = f + ''.join(m)\n",
    "            if fm.count('*')<1: continue                  #Families must contain a * so we can skip all that don't\n",
    "            for l in last:                                #Select last digits\n",
    "                fml = fm + l                              #Create the family as a string\n",
    "                #print fml\n",
    "                count = 0                                 #Count will track the number of primes in the family\n",
    "                for x in range(10):                       #X will be our value that gets substitued into *\n",
    "                    if x == 0 and f == '*':continue       #This skips over any substitution where the first digit becomes 0\n",
    "                    num = int(fml.replace('*', str(x)))   #Replacement\n",
    "                    if isPrime(num): count+=1             #Increase the count if it's prime\n",
    "                if count > maximum:                       #Check to see if the family has more primes than the previous max\n",
    "                    answer051 = fml                       #Set the new max to the family\n",
    "                    maximum = count                       #Set the new max prime count\n",
    "                    #print answer051, maximum\n",
    "    middle_digits += 1                                    #Once we've checked all families we increase the number of digits\n",
    "    \n",
    "print(\"Family, Size: \" + answer051, maximum)\n",
    "time_elapsed = datetime.now() - start_time \n",
    "print('Time elapsed (hh:mm:ss.ms) {}'.format(time_elapsed))"
   ]
  },
  {
   "cell_type": "code",
   "execution_count": 4,
   "metadata": {
    "collapsed": false,
    "deletable": true,
    "editable": true
   },
   "outputs": [
    {
     "name": "stdout",
     "output_type": "stream",
     "text": [
      "142857\n"
     ]
    }
   ],
   "source": [
    "import itertools as it\n",
    "\n",
    "answer052 = 0\n",
    "multiples = 6\n",
    "\n",
    "for n in range(1000000):\n",
    "    if answer052 != 0: break\n",
    "    digits = list(str(n))\n",
    "    if digits[0] != '1': continue\n",
    "    digits = sorted(digits)\n",
    "    x = 2\n",
    "    while digits == sorted(list(str(x * n))):\n",
    "        x+=1\n",
    "    if x > multiples: answer052 = n\n",
    "    \n",
    "\n",
    "\n",
    "\n",
    "print(answer052)"
   ]
  },
  {
   "cell_type": "code",
   "execution_count": 5,
   "metadata": {
    "collapsed": false,
    "deletable": true,
    "editable": true
   },
   "outputs": [
    {
     "name": "stdout",
     "output_type": "stream",
     "text": [
      "4075\n"
     ]
    }
   ],
   "source": [
    "import math\n",
    "\n",
    "answer053 = 0\n",
    "\n",
    "def nCr(n, r):\n",
    "    f = math.factorial\n",
    "    return f(n) / f(n-r) / f(r)\n",
    "\n",
    "for n in range(1, 101):\n",
    "    for r in range(1, n):\n",
    "        if nCr(n, r) > 1000000: answer053+=1\n",
    "            \n",
    "print(answer053)"
   ]
  },
  {
   "cell_type": "code",
   "execution_count": 134,
   "metadata": {
    "collapsed": false,
    "deletable": true,
    "editable": true
   },
   "outputs": [
    {
     "name": "stdout",
     "output_type": "stream",
     "text": [
      "377\n"
     ]
    }
   ],
   "source": [
    "f = open('files/p054_poker.txt')\n",
    "hands = f.read()\n",
    "hands = [h.split(' ') for h in hands.split('\\n')]\n",
    "answer054 = 0\n",
    "\n",
    "for hand in hands:\n",
    "    players = [[],[]]\n",
    "    results = ['', '']\n",
    "\n",
    "    for h in range(len(hand)):\n",
    "        hand[h] = '0'+ hand[h]\n",
    "        hand[h] = hand[h].replace('0T', '10')\n",
    "        hand[h] = hand[h].replace('0J', '11')\n",
    "        hand[h] = hand[h].replace('0Q', '12')\n",
    "        hand[h] = hand[h].replace('0K', '13')\n",
    "        hand[h] = hand[h].replace('0A', '14')\n",
    "    players[0], players[1] = hand[:5], hand[5:]\n",
    "    \n",
    "    for n in range(len(players)):\n",
    "        diffs = \"\"\n",
    "        handRank = 0\n",
    "        quads, sets, pairs = [0] * 3\n",
    "        hasStraight, hasFlush = [True]*2\n",
    "        \n",
    "        players[n] = sorted(players[n], reverse=True)\n",
    "        for card in range(len(players[n])-1):\n",
    "            hasFlush = hasFlush and players[n][card][2] == players[n][4][n]\n",
    "            temp = str(int(players[n][card][:2]) - int(players[n][card+1][:2]))\n",
    "            hasStraight = hasStraight and temp=='1'\n",
    "            if int(temp) > 1: temp = '1'\n",
    "            diffs += temp\n",
    "    \n",
    "        quadStart = diffs.find('000')\n",
    "        setStart = diffs.find('00')\n",
    "        pairStart = diffs.find('0')\n",
    "        \n",
    "        if hasStraight and hasFlush:\n",
    "            result = '9'\n",
    "        elif quadStart != -1:\n",
    "            result = '8'\n",
    "            players[n] = players[n][quadStart:quadStart+4] + players[n][0:quadStart] + players[n][quadStart+4:]\n",
    "        elif setStart != -1 and diffs.count('0') == 3:\n",
    "            result = '7'\n",
    "            players[n] = players[n][setStart:setStart+3] + players[n][0:setStart] + players[n][setStart+3:]\n",
    "        elif hasFlush:\n",
    "            result = '6'\n",
    "        elif hasStraight:\n",
    "            result = '5'\n",
    "        elif setStart != -1:\n",
    "            result = '4'\n",
    "            players[n] = players[n][setStart:setStart+3] + players[n][0:setStart] + players[n][setStart+3:]\n",
    "        elif diffs.count('0') == 2:\n",
    "            result = '3'\n",
    "            secondPairStart = diffs[pairStart+1:].find('0')\n",
    "            temp = [players[n].pop(pairStart) for x in range(2)]\n",
    "            temp += [players[n].pop(secondPairStart-1) for x in range(2)]\n",
    "            temp += players[n]\n",
    "            players[n] = temp\n",
    "        elif pairStart != -1:\n",
    "            result = '2'\n",
    "            secondPairStart = diffs[pairStart+1:].find('0')\n",
    "            temp = [players[n].pop(pairStart) for x in range(2)]\n",
    "            temp += players[n]\n",
    "            players[n] = temp\n",
    "        else:\n",
    "            result = '1'\n",
    "        for card in players[n]:\n",
    "            result += card[:2]\n",
    "        results[n] = result\n",
    "    if int(results[0]) > int(results[1]): answer054+=1\n",
    "\n",
    "print(answer054)"
   ]
  },
  {
   "cell_type": "code",
   "execution_count": 26,
   "metadata": {
    "collapsed": false,
    "deletable": true,
    "editable": true
   },
   "outputs": [
    {
     "name": "stdout",
     "output_type": "stream",
     "text": [
      "249\n"
     ]
    }
   ],
   "source": [
    "answer055 = 0\n",
    "maxIterations = 50\n",
    "maxNumber = 10000\n",
    "\n",
    "def reverseNumber(number):\n",
    "    return int(str(number)[::-1])\n",
    "\n",
    "def isPalindrome(number):\n",
    "    if number == reverseNumber(number):return True\n",
    "    return False\n",
    "\n",
    "for n in range(maxNumber):\n",
    "    isLychrel = True\n",
    "    currentNum = n\n",
    "    for i in range(maxIterations):\n",
    "        currentNum += reverseNumber(currentNum)\n",
    "        if isPalindrome(currentNum):\n",
    "            isLychrel = False\n",
    "            break\n",
    "    if isLychrel: answer055+=1\n",
    "        \n",
    "print(answer055)"
   ]
  },
  {
   "cell_type": "code",
   "execution_count": 35,
   "metadata": {
    "collapsed": false,
    "deletable": true,
    "editable": true
   },
   "outputs": [
    {
     "name": "stdout",
     "output_type": "stream",
     "text": [
      "972\n"
     ]
    }
   ],
   "source": [
    "answer056 = 0\n",
    "maxNumber = 100\n",
    "\n",
    "for a in range(maxNumber):\n",
    "    for b in range(maxNumber):\n",
    "        answer056 = max(answer056, sum(int(x) for x in str(a**b)))\n",
    "\n",
    "print(answer056)"
   ]
  },
  {
   "cell_type": "code",
   "execution_count": 39,
   "metadata": {
    "collapsed": false,
    "deletable": true,
    "editable": true
   },
   "outputs": [
    {
     "name": "stdout",
     "output_type": "stream",
     "text": [
      "153\n"
     ]
    }
   ],
   "source": [
    "answer057 = 0\n",
    "maxIterations = 1000\n",
    "numerator = 1\n",
    "denominator = 1\n",
    "\n",
    "for i in range(maxIterations):\n",
    "    numerator += denominator*2\n",
    "    denominator = numerator - denominator\n",
    "    if len(str(numerator)) > len(str(denominator)): answer057+=1\n",
    "        \n",
    "print(answer057)"
   ]
  },
  {
   "cell_type": "code",
   "execution_count": 2,
   "metadata": {
    "collapsed": false,
    "deletable": true,
    "editable": true
   },
   "outputs": [
    {
     "name": "stdout",
     "output_type": "stream",
     "text": [
      "26241\n"
     ]
    }
   ],
   "source": [
    "answer058 = 0\n",
    "\n",
    "primes = 3\n",
    "total = 5\n",
    "length = 3\n",
    "\n",
    "def isPrime(number):\n",
    "    if number<2: return False\n",
    "    for n in range(2, int(number**.5)+1):\n",
    "        if number%n==0: return False\n",
    "    return True\n",
    "\n",
    "while primes/total > .1:\n",
    "    nums = [x for x in range((length+2)**2, length**2, -1-length)]\n",
    "    for n in nums:\n",
    "        if isPrime(n): primes+=1\n",
    "    total+=4\n",
    "    length+=2\n",
    "\n",
    "answer058 = length\n",
    "print(length)"
   ]
  },
  {
   "cell_type": "code",
   "execution_count": 37,
   "metadata": {
    "collapsed": false,
    "deletable": true,
    "editable": true
   },
   "outputs": [
    {
     "name": "stdout",
     "output_type": "stream",
     "text": [
      "[103, 111, 100]\n",
      "(The Gospel of John, chapter 1) 1 In the beginning the Word already existed. He was with God, and he was God. 2 He was in the beginning with God. 3 He created everything there is. Nothing exists that he didn't make. 4 Life itself was in him, and this life gives light to everyone. 5 The light shines through the darkness, and the darkness can never extinguish it. 6 God sent John the Baptist 7 to tell everyone about the light so that everyone might believe because of his testimony. 8 John himself was not the light; he was only a witness to the light. 9 The one who is the true light, who gives light to everyone, was going to come into the world. 10 But although the world was made through him, the world didn't recognize him when he came. 11 Even in his own land and among his own people, he was not accepted. 12 But to all who believed him and accepted him, he gave the right to become children of God. 13 They are reborn! This is not a physical birth resulting from human passion or plan, this rebirth comes from God.14 So the Word became human and lived here on earth among us. He was full of unfailing love and faithfulness. And we have seen his glory, the glory of the only Son of the Father.\n",
      "107359\n"
     ]
    }
   ],
   "source": [
    "file = open(\"files/p059_cipher.txt\", \"r\")\n",
    "\n",
    "nums = file.read().split(',')\n",
    "nums = [int(n) for n in nums]\n",
    "\n",
    "cr = range(97, 123)\n",
    "charRange = [32, 33] + [x for x in range(39, 123)] #[x for x in range(65, 91)] + [x for x in range(97, 123)]\n",
    "\n",
    "message = \"\"\n",
    "\n",
    "for cipher in [[x, y, z] for x in cr for y in cr for z in cr]:\n",
    "    count = 0\n",
    "    message = \"\"\n",
    "    answer059 = 0\n",
    "    for n in range(len(nums)):\n",
    "        result = nums[n]^cipher[n%3]\n",
    "        if not result in charRange:\n",
    "            break\n",
    "        else:\n",
    "            answer059 += result\n",
    "            message += chr(result)\n",
    "        count+=1\n",
    "    if count == len(nums):\n",
    "        print(cipher)\n",
    "        break\n",
    "print(message)\n",
    "print(answer059)"
   ]
  },
  {
   "cell_type": "code",
   "execution_count": 54,
   "metadata": {
    "collapsed": false,
    "deletable": true,
    "editable": true
   },
   "outputs": [
    {
     "name": "stdout",
     "output_type": "stream",
     "text": [
      "[3, 7]\n",
      "[3, 37, 67]\n",
      "[3, 7, 109, 673]\n",
      "[13, 5197, 5701, 6733, 8389]\n",
      "26033\n"
     ]
    }
   ],
   "source": [
    "import itertools as it\n",
    "answer060 = []\n",
    "\n",
    "primes = [3]\n",
    "primeGroup = []\n",
    "\n",
    "def concat(num1, num2):\n",
    "    return int(str(num1) + str(num2))\n",
    "\n",
    "def fitGroup(primeGroup, num):\n",
    "    for prime in primeGroup:\n",
    "        if not (isPrime(concat(prime, num)) and isPrime(concat(num, prime))): return False\n",
    "    return True\n",
    "\n",
    "def isPrime(num):\n",
    "    for n in range(2, int((num**.5)+1)):\n",
    "        if num%n==0: return False\n",
    "    return True\n",
    "\n",
    "def nextPrime(primes):\n",
    "    current = primes[-1]\n",
    "    while True:\n",
    "        current+=2\n",
    "        if not 0 in [current%prime for prime in primes]:\n",
    "            return current\n",
    "\n",
    "primeGroups = [[3]]\n",
    "while len(answer060) < 5:\n",
    "    prime = nextPrime(primes)\n",
    "    for primeGroup in primeGroups:\n",
    "        #print(primeGroups)\n",
    "        if fitGroup(primeGroup, prime):\n",
    "            primeGroups+=[primeGroup+[prime]]\n",
    "            if len(primeGroup)+1 > len(answer060):\n",
    "                answer060 = primeGroup+[prime]\n",
    "                print(answer060)\n",
    "    primeGroups+=[[prime]]\n",
    "    primes = primes+[prime]\n",
    "\n",
    "print(sum(answer060))"
   ]
  }
 ],
 "metadata": {
  "kernelspec": {
   "display_name": "Python 3",
   "language": "python",
   "name": "python3"
  },
  "language_info": {
   "codemirror_mode": {
    "name": "ipython",
    "version": 3
   },
   "file_extension": ".py",
   "mimetype": "text/x-python",
   "name": "python",
   "nbconvert_exporter": "python",
   "pygments_lexer": "ipython3",
   "version": "3.5.2"
  }
 },
 "nbformat": 4,
 "nbformat_minor": 2
}
